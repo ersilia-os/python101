{
 "cells": [
  {
   "cell_type": "markdown",
   "id": "4e7ef58d",
   "metadata": {},
   "source": [
    "# Bioassay analysis\n",
    "In this first section, you will work with a csv containing the results of a bioassay. Again, some exercises are easier some are more complicated. Do not worry if you do not manage to finish them all.\n",
    "\n",
    "*The file is made up and all data is fake*"
   ]
  },
  {
   "cell_type": "markdown",
   "id": "eb850a8f",
   "metadata": {},
   "source": [
    "### Import the file into a dataframe\n",
    "Import the file named `bioassay1.csv` and:\n",
    "* Check its first 5 rows\n",
    "* Examine how many datapoints we have\n",
    "\n",
    "*tip: before starting remember to import the pandas package*"
   ]
  },
  {
   "cell_type": "code",
   "execution_count": null,
   "id": "195fb2ea",
   "metadata": {},
   "outputs": [],
   "source": [
    "import pandas as pd\n",
    "df = pd.read_csv(\"bioassay1.csv\")\n"
   ]
  },
  {
   "cell_type": "code",
   "execution_count": null,
   "id": "dadde1a7",
   "metadata": {},
   "outputs": [],
   "source": []
  },
  {
   "cell_type": "markdown",
   "id": "be017ac3",
   "metadata": {},
   "source": [
    "### Find the maximum and minimum values of the bioassay result"
   ]
  },
  {
   "cell_type": "code",
   "execution_count": null,
   "id": "0700c4a5",
   "metadata": {},
   "outputs": [],
   "source": []
  },
  {
   "cell_type": "code",
   "execution_count": null,
   "id": "f00be3af",
   "metadata": {},
   "outputs": [],
   "source": []
  },
  {
   "cell_type": "markdown",
   "id": "c7b60f42",
   "metadata": {},
   "source": [
    "### How many molecules correspond to each chemical series?"
   ]
  },
  {
   "cell_type": "code",
   "execution_count": null,
   "id": "c7e7a038",
   "metadata": {},
   "outputs": [],
   "source": []
  },
  {
   "cell_type": "markdown",
   "id": "b5236493",
   "metadata": {},
   "source": [
    "### Find specific values:\n",
    "Create a list of SMILES for which the experimental values are **less than** 0.01\n",
    "\n",
    "*tip: first, create a new dataframe containing only values < 0.01 and from there create the smiles list*"
   ]
  },
  {
   "cell_type": "code",
   "execution_count": null,
   "id": "28370445",
   "metadata": {},
   "outputs": [],
   "source": []
  },
  {
   "cell_type": "code",
   "execution_count": null,
   "id": "a28e6a4a",
   "metadata": {},
   "outputs": [],
   "source": []
  },
  {
   "cell_type": "markdown",
   "id": "51fc47c2",
   "metadata": {},
   "source": [
    "### Create a new column in the dataframe with only the years\n",
    "Think of Session 1 exercises and the split function\n",
    "\n",
    "*tip: the easiest is to create a list of dates and work from there*"
   ]
  },
  {
   "cell_type": "code",
   "execution_count": null,
   "id": "725b619a",
   "metadata": {},
   "outputs": [],
   "source": []
  },
  {
   "cell_type": "code",
   "execution_count": null,
   "id": "22bb999c",
   "metadata": {},
   "outputs": [],
   "source": []
  },
  {
   "cell_type": "code",
   "execution_count": null,
   "id": "2ca41c64",
   "metadata": {},
   "outputs": [],
   "source": []
  },
  {
   "cell_type": "code",
   "execution_count": null,
   "id": "5d325bb1",
   "metadata": {},
   "outputs": [],
   "source": []
  },
  {
   "cell_type": "markdown",
   "id": "7fee18b1",
   "metadata": {},
   "source": [
    "# Merging Results\n",
    "You have gotten a second dataset, `bioassay_new`, produced by Lab B, for the same bioassay.\n",
    "Merge the datasets averaging the bioassay result values between labs.\n",
    "\n",
    "*tip: you can first merge the data and then create a new column with the averages*"
   ]
  },
  {
   "cell_type": "code",
   "execution_count": null,
   "id": "45f8f66c",
   "metadata": {},
   "outputs": [],
   "source": []
  },
  {
   "cell_type": "code",
   "execution_count": null,
   "id": "591acf8f",
   "metadata": {},
   "outputs": [],
   "source": []
  },
  {
   "cell_type": "code",
   "execution_count": null,
   "id": "acf213da",
   "metadata": {},
   "outputs": [],
   "source": []
  },
  {
   "cell_type": "code",
   "execution_count": null,
   "id": "47a9348a",
   "metadata": {},
   "outputs": [],
   "source": []
  },
  {
   "cell_type": "code",
   "execution_count": null,
   "id": "bdc50a04",
   "metadata": {},
   "outputs": [],
   "source": []
  },
  {
   "cell_type": "markdown",
   "id": "ebd7c1b8",
   "metadata": {},
   "source": [
    "# Bonus\n",
    "If you have successfully completed the above exercises, explore the rdkit package for chemoinformatics:\n",
    "\n",
    "You need first to pip install rdkit in your environment: check the pypi repository of python packages for instructions\n",
    "https://pypi.org/project/rdkit-pypi/\n",
    "\n",
    "Now, select one molecule from the exercise and try to calculate its molecular weight (https://www.rdkit.org/docs/source/rdkit.Chem.Descriptors.html).\n",
    "\n",
    "If you managed, try to automatize the exercise for the whole list of smiles in Bioassay 1 and store the calculated molecular weights in a list\n",
    "\n",
    "*hint: smiles have to be converted to molecules for rdkit (https://www.rdkit.org/docs/GettingStartedInPython.html)*"
   ]
  },
  {
   "cell_type": "code",
   "execution_count": null,
   "id": "088aeb62",
   "metadata": {},
   "outputs": [],
   "source": []
  }
 ],
 "metadata": {
  "kernelspec": {
   "display_name": "Python 3",
   "language": "python",
   "name": "python3"
  },
  "language_info": {
   "codemirror_mode": {
    "name": "ipython",
    "version": 3
   },
   "file_extension": ".py",
   "mimetype": "text/x-python",
   "name": "python",
   "nbconvert_exporter": "python",
   "pygments_lexer": "ipython3",
   "version": "3.7.10"
  }
 },
 "nbformat": 4,
 "nbformat_minor": 5
}
