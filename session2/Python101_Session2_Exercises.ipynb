{
 "cells": [
  {
   "cell_type": "markdown",
   "id": "4e7ef58d",
   "metadata": {},
   "source": [
    "# Bioassay analysis\n",
    "In this first section, you will work with a csv containing the results of a bioassay. Again, some exercises are easier some are more complicated. Do not worry if you do not manage to finish them all.\n",
    "\n",
    "*The file is made up and all data is fake*"
   ]
  },
  {
   "cell_type": "markdown",
   "id": "eb850a8f",
   "metadata": {},
   "source": [
    "### Import the file into a dataframe\n",
    "Import the file named `bioassay1.csv` and:\n",
    "* Check its first 5 rows\n",
    "* Examine how many datapoints we have\n",
    "\n",
    "*tip: before starting remember to import the pandas package*"
   ]
  },
  {
   "cell_type": "code",
   "execution_count": 3,
   "id": "195fb2ea",
   "metadata": {},
   "outputs": [
    {
     "data": {
      "text/html": [
       "<div>\n",
       "<style scoped>\n",
       "    .dataframe tbody tr th:only-of-type {\n",
       "        vertical-align: middle;\n",
       "    }\n",
       "\n",
       "    .dataframe tbody tr th {\n",
       "        vertical-align: top;\n",
       "    }\n",
       "\n",
       "    .dataframe thead th {\n",
       "        text-align: right;\n",
       "    }\n",
       "</style>\n",
       "<table border=\"1\" class=\"dataframe\">\n",
       "  <thead>\n",
       "    <tr style=\"text-align: right;\">\n",
       "      <th></th>\n",
       "      <th>SMILES</th>\n",
       "      <th>Date</th>\n",
       "      <th>Series</th>\n",
       "      <th>exp_values</th>\n",
       "      <th>units</th>\n",
       "      <th>Lab</th>\n",
       "    </tr>\n",
       "  </thead>\n",
       "  <tbody>\n",
       "    <tr>\n",
       "      <th>0</th>\n",
       "      <td>COC1=C2OC3=C(OC)C(OC)=CC4=C3C(CC5=CC=C(O)C(OC6...</td>\n",
       "      <td>2019-03-12</td>\n",
       "      <td>Series1</td>\n",
       "      <td>0.242221</td>\n",
       "      <td>uM</td>\n",
       "      <td>Lab A</td>\n",
       "    </tr>\n",
       "    <tr>\n",
       "      <th>1</th>\n",
       "      <td>NC1=NC(N)=C2C=C(C=CC2=N1)S(=O)(=O)N3CCCCC3</td>\n",
       "      <td>2016-12-21</td>\n",
       "      <td>Series1</td>\n",
       "      <td>0.624911</td>\n",
       "      <td>uM</td>\n",
       "      <td>Lab A</td>\n",
       "    </tr>\n",
       "    <tr>\n",
       "      <th>2</th>\n",
       "      <td>COC1=CC2=C(C=C1OC)C(=O)N(NC(=O)C3=CC=CC(F)=C3)...</td>\n",
       "      <td>2019-12-23</td>\n",
       "      <td>Series1</td>\n",
       "      <td>0.658967</td>\n",
       "      <td>uM</td>\n",
       "      <td>Lab A</td>\n",
       "    </tr>\n",
       "    <tr>\n",
       "      <th>3</th>\n",
       "      <td>C=CCC1(CCCCC1)NC2=CC=CC=C2</td>\n",
       "      <td>2019-10-14</td>\n",
       "      <td>Series1</td>\n",
       "      <td>0.979338</td>\n",
       "      <td>uM</td>\n",
       "      <td>Lab A</td>\n",
       "    </tr>\n",
       "    <tr>\n",
       "      <th>4</th>\n",
       "      <td>FC1=CC=CC=C1NC2=NC(NCC3=CC=CC=C3)=C4C=CC=CC4=N2</td>\n",
       "      <td>2017-03-20</td>\n",
       "      <td>Series1</td>\n",
       "      <td>0.161337</td>\n",
       "      <td>uM</td>\n",
       "      <td>Lab A</td>\n",
       "    </tr>\n",
       "  </tbody>\n",
       "</table>\n",
       "</div>"
      ],
      "text/plain": [
       "                                              SMILES        Date   Series  \\\n",
       "0  COC1=C2OC3=C(OC)C(OC)=CC4=C3C(CC5=CC=C(O)C(OC6...  2019-03-12  Series1   \n",
       "1         NC1=NC(N)=C2C=C(C=CC2=N1)S(=O)(=O)N3CCCCC3  2016-12-21  Series1   \n",
       "2  COC1=CC2=C(C=C1OC)C(=O)N(NC(=O)C3=CC=CC(F)=C3)...  2019-12-23  Series1   \n",
       "3                         C=CCC1(CCCCC1)NC2=CC=CC=C2  2019-10-14  Series1   \n",
       "4    FC1=CC=CC=C1NC2=NC(NCC3=CC=CC=C3)=C4C=CC=CC4=N2  2017-03-20  Series1   \n",
       "\n",
       "   exp_values units    Lab  \n",
       "0    0.242221    uM  Lab A  \n",
       "1    0.624911    uM  Lab A  \n",
       "2    0.658967    uM  Lab A  \n",
       "3    0.979338    uM  Lab A  \n",
       "4    0.161337    uM  Lab A  "
      ]
     },
     "execution_count": 3,
     "metadata": {},
     "output_type": "execute_result"
    }
   ],
   "source": [
    "import pandas as pd\n",
    "df = pd.read_csv(\"bioassay1.csv\")\n",
    "df.head(5)"
   ]
  },
  {
   "cell_type": "code",
   "execution_count": 5,
   "id": "dadde1a7",
   "metadata": {},
   "outputs": [
    {
     "data": {
      "text/plain": [
       "5697"
      ]
     },
     "execution_count": 5,
     "metadata": {},
     "output_type": "execute_result"
    }
   ],
   "source": [
    "len(df)"
   ]
  },
  {
   "cell_type": "markdown",
   "id": "be017ac3",
   "metadata": {},
   "source": [
    "### Find the maximum and minimum values of the bioassay result"
   ]
  },
  {
   "cell_type": "code",
   "execution_count": 11,
   "id": "0700c4a5",
   "metadata": {},
   "outputs": [
    {
     "data": {
      "text/plain": [
       "3.925381879271256"
      ]
     },
     "execution_count": 11,
     "metadata": {},
     "output_type": "execute_result"
    }
   ],
   "source": [
    "df[\"exp_values\"].max()"
   ]
  },
  {
   "cell_type": "code",
   "execution_count": 12,
   "id": "f00be3af",
   "metadata": {},
   "outputs": [
    {
     "data": {
      "text/plain": [
       "0.0002400519751935"
      ]
     },
     "execution_count": 12,
     "metadata": {},
     "output_type": "execute_result"
    }
   ],
   "source": [
    "df[\"exp_values\"].min()"
   ]
  },
  {
   "cell_type": "markdown",
   "id": "c7b60f42",
   "metadata": {},
   "source": [
    "### How many molecules correspond to each chemical series?"
   ]
  },
  {
   "cell_type": "code",
   "execution_count": 13,
   "id": "c7e7a038",
   "metadata": {},
   "outputs": [
    {
     "data": {
      "text/html": [
       "<div>\n",
       "<style scoped>\n",
       "    .dataframe tbody tr th:only-of-type {\n",
       "        vertical-align: middle;\n",
       "    }\n",
       "\n",
       "    .dataframe tbody tr th {\n",
       "        vertical-align: top;\n",
       "    }\n",
       "\n",
       "    .dataframe thead th {\n",
       "        text-align: right;\n",
       "    }\n",
       "</style>\n",
       "<table border=\"1\" class=\"dataframe\">\n",
       "  <thead>\n",
       "    <tr style=\"text-align: right;\">\n",
       "      <th></th>\n",
       "      <th>SMILES</th>\n",
       "      <th>Date</th>\n",
       "      <th>exp_values</th>\n",
       "      <th>units</th>\n",
       "      <th>Lab</th>\n",
       "    </tr>\n",
       "    <tr>\n",
       "      <th>Series</th>\n",
       "      <th></th>\n",
       "      <th></th>\n",
       "      <th></th>\n",
       "      <th></th>\n",
       "      <th></th>\n",
       "    </tr>\n",
       "  </thead>\n",
       "  <tbody>\n",
       "    <tr>\n",
       "      <th>Series1</th>\n",
       "      <td>855</td>\n",
       "      <td>714</td>\n",
       "      <td>855</td>\n",
       "      <td>1</td>\n",
       "      <td>1</td>\n",
       "    </tr>\n",
       "    <tr>\n",
       "      <th>Series2</th>\n",
       "      <td>1424</td>\n",
       "      <td>1081</td>\n",
       "      <td>1424</td>\n",
       "      <td>1</td>\n",
       "      <td>1</td>\n",
       "    </tr>\n",
       "    <tr>\n",
       "      <th>Series3</th>\n",
       "      <td>2848</td>\n",
       "      <td>1665</td>\n",
       "      <td>2848</td>\n",
       "      <td>1</td>\n",
       "      <td>1</td>\n",
       "    </tr>\n",
       "    <tr>\n",
       "      <th>Series4</th>\n",
       "      <td>570</td>\n",
       "      <td>509</td>\n",
       "      <td>570</td>\n",
       "      <td>1</td>\n",
       "      <td>1</td>\n",
       "    </tr>\n",
       "  </tbody>\n",
       "</table>\n",
       "</div>"
      ],
      "text/plain": [
       "         SMILES  Date  exp_values  units  Lab\n",
       "Series                                       \n",
       "Series1     855   714         855      1    1\n",
       "Series2    1424  1081        1424      1    1\n",
       "Series3    2848  1665        2848      1    1\n",
       "Series4     570   509         570      1    1"
      ]
     },
     "execution_count": 13,
     "metadata": {},
     "output_type": "execute_result"
    }
   ],
   "source": [
    "df.groupby(\"Series\").nunique()"
   ]
  },
  {
   "cell_type": "markdown",
   "id": "b5236493",
   "metadata": {},
   "source": [
    "### Find specific values:\n",
    "Create a list of SMILES for which the experimental values are **less than** 0.01\n",
    "\n",
    "*tip: first, create a new dataframe containing only values < 0.01 and from there create the smiles list*"
   ]
  },
  {
   "cell_type": "code",
   "execution_count": 24,
   "id": "28370445",
   "metadata": {},
   "outputs": [],
   "source": [
    "smi = df[df[\"exp_values\"]<0.01][\"SMILES\"].tolist()"
   ]
  },
  {
   "cell_type": "code",
   "execution_count": 25,
   "id": "a28e6a4a",
   "metadata": {},
   "outputs": [
    {
     "data": {
      "text/plain": [
       "['CCOC(=O)C1=CN=C2C=CC(C)=CC2=C1NCCCN3CCOCC3',\n",
       " 'C[C@@H](O)[C@@H]1OCC[C@@H](C)[C@H](O)C(=O)OC[C@]23CCC(C)=C[C@H]2O[C@@H]4C[C@@H](OC(=O)C=CC=C1)[C@@]3(C)[C@@]45CO5',\n",
       " 'CCOC(=O)C1=C(N)n2c(=O)c(=CC3=CC=CN=C3)sc2=C(C1C4=CC=CN=C4)C(=O)OC',\n",
       " 'COC1=CC=C(\\\\C=C2\\\\SC(NC3=CC=C(F)C=C3)=NC2=O)C(OC)=C1',\n",
       " 'CCCN(CCC)[P+](CC)(N(CCC)CCC)N(CCC)CCC',\n",
       " 'CCN1C(C)=CC(\\\\C=C2/C(=O)NC(=O)N(C2=O)C3=CC=CC(Cl)=C3)=C1C',\n",
       " 'CN(CC(=O)NC1=CC=C(C=C1)C(C)=O)S(=O)(=O)C2=CC=C3NC4=C(CCCC4)C3=C2',\n",
       " 'CCN1C(\\\\C=CC2=CC(C)=CC=C12)=C\\\\C3=[N+](CC)C4=CC(OC)=CC=C4S3',\n",
       " 'CN(C)C1=CC=C(C=C1)\\\\C=C2/SC(NC2=O)=NC3=CC=C(F)C=C3',\n",
       " 'CCCCOC(=O)CC1=CC=C(N)C=C1',\n",
       " 'COC1=CC(NC(C)CCCN(CC2=CC=C(OC)C(OC)=C2)C(=O)C3=CC=C4C=CC=CC4=C3)=C5N=CC=CC5=C1',\n",
       " 'COC1=CC=C(C=C2SC(NC2=O)=NC3=CC=C(F)C=C3)C(OC)=C1',\n",
       " 'CCCCN(CC)S(=O)(=O)C1=CC(Br)=CC2=C1N(CC2)C(C)=O',\n",
       " 'CC(CC(=O)OC1=CC=CC=C1C2=C(NC(C)(C)CC(C)(C)C)N3C=CC=CC3=N2)CC(C)(C)C',\n",
       " '[O-][N+](=O)C1=CC=C(O1)\\\\C=C\\\\C=C2/SC(=N)NC2=O',\n",
       " 'CCCOC1=CC=C2C3=CC=C(OCCC)C=C3C(=NNC(N)=N)C2=C1',\n",
       " 'FC(F)(F)C1=CC=CC(=C1)N2N=NC3=CC=CC=C3C2=N',\n",
       " 'CCOC(=O)C1=C(NC(=O)CSC2=NN=C(CNC(=O)C3=CC=CC(OC)=C3)N2C4CCCCC4)SC5=C1CCCC5',\n",
       " 'CCOC1=CC=CC=C1C(=O)NC(NC2=C(C(N)=O)C3=C(CCCC3)S2)(C(F)(F)F)C(F)(F)F',\n",
       " 'CNC1CC2OC(C)(C1OC)N3C4=CC=CC=C4C5=C6C(O)NC(=O)C6=C7C8=CC=CC=C8N2C7=C35',\n",
       " 'COC1=CC2=C(C=C1OC)C3=NC(=NN3C(NCC4=CC=CC=N4)=N2)C5=CC=CC=C5',\n",
       " 'COC1=CC(CNC2=CC=C(C=C2)N3CCCCC3)=CC(Cl)=C1OCC4=CC=C(F)C=C4',\n",
       " 'CC(C)CC1=CC=C(C=CC(=O)NC2CC2)C=C1',\n",
       " 'CC1=C(C(C)=NO1)S(=O)(=O)N(CC(O)CN2CCC(C2)NC(=O)CC3=CC=CS3)CC4=CC=CC=C4',\n",
       " 'COC1=CC=C(C=C1OC)C2CC(=O)C3=C(C2)NC(C)=C(C3C4=CC=CC(C)=C4)C(=O)OC5CCCC5',\n",
       " 'CC1=C(C=CO1)C(=O)NN=C\\\\C(Cl)=C\\\\C2=CC=CC=C2',\n",
       " 'CCCCCCCCCC(=O)OC1=CC=CC=C1C2=C(NC(C)(C)CC(C)(C)C)N3C=CC(C)=CC3=N2',\n",
       " 'ClC1=CC=C2NC3=C(NCCCN4CCOCC4)N=CN=C3C2=C1',\n",
       " 'COC1=CC=C(C=C1OC)C2CC(=O)C3=C(C2)NC(C)=C(C3C4=CC=CC(Cl)=C4)C(=O)OC5CCCC5',\n",
       " 'COC1=CC=C(NC2=C(C(=O)C3=CC=CC=C23)C4=CC=C(OC)C=C4)C=C1',\n",
       " 'CC1CC(C)CN(CCCNC2=CC=C(C=C2[N+]([O-])=O)C(=O)NC3=CC=C(C=C3)C(F)(F)F)C1',\n",
       " 'COC1=CC2=C(C=C1OC)C3=NC(=O)C(C(C)C)N3C(SCC4=CSC(Cl)=N4)=N2',\n",
       " 'ClC1=CC=C2C(=C1)N=CC=C2N3CCCC3',\n",
       " 'CCN1C(=S)NC2C3CCCC13OC4=CC=C(C)C=C24',\n",
       " 'CCOC(=O)C1=C(C)NC2=C(C1C3=CC=C(C=C3)[N+]([O-])=O)C(=O)CC(C2)C4=CC=C(OC)C(OC)=C4',\n",
       " 'CN1CCN(CC1)C(=O)C2=CC=CC(=C2)C3=NC(=CN=C3N)C4=CC=NC=C4',\n",
       " 'CN(C)CCNC(=O)C1=CNC2=CC=C(C=C2C1=O)S(=O)(=O)N3CCC4=CC=CC=C34',\n",
       " 'CCCC1=CC=C(OCC2=NC(=NO2)C3=CC=C(NC(=O)C4=CC=CS4)C=C3)C=C1',\n",
       " 'COC1=CC=CC(CNC2=CC(=CC(=C2)S(=O)(=O)N(C)C)C(=O)NCCNC(C)=O)=C1OC',\n",
       " 'CC(=O)NC1=C(N=NC2=CC=C(C=C2)S(O)(=O)=O)C(C)=C(C)S1']"
      ]
     },
     "execution_count": 25,
     "metadata": {},
     "output_type": "execute_result"
    }
   ],
   "source": [
    "smi"
   ]
  },
  {
   "cell_type": "markdown",
   "id": "51fc47c2",
   "metadata": {},
   "source": [
    "### Create a new column in the dataframe with only the years\n",
    "Think of Session 1 exercises and the split function\n",
    "\n",
    "*tip: the easiest is to create a list of dates and work from there*"
   ]
  },
  {
   "cell_type": "code",
   "execution_count": 26,
   "id": "725b619a",
   "metadata": {},
   "outputs": [],
   "source": [
    "years = []\n",
    "fulldate = df[\"Date\"].tolist()"
   ]
  },
  {
   "cell_type": "code",
   "execution_count": 30,
   "id": "22bb999c",
   "metadata": {},
   "outputs": [],
   "source": [
    "for item in df[\"Date\"]:\n",
    "    spl = item.split(\"-\")\n",
    "    y = spl[0]\n",
    "    years.append(y)"
   ]
  },
  {
   "cell_type": "code",
   "execution_count": 32,
   "id": "2ca41c64",
   "metadata": {},
   "outputs": [],
   "source": [
    "df[\"Year\"] = years"
   ]
  },
  {
   "cell_type": "code",
   "execution_count": 33,
   "id": "5d325bb1",
   "metadata": {},
   "outputs": [
    {
     "data": {
      "text/html": [
       "<div>\n",
       "<style scoped>\n",
       "    .dataframe tbody tr th:only-of-type {\n",
       "        vertical-align: middle;\n",
       "    }\n",
       "\n",
       "    .dataframe tbody tr th {\n",
       "        vertical-align: top;\n",
       "    }\n",
       "\n",
       "    .dataframe thead th {\n",
       "        text-align: right;\n",
       "    }\n",
       "</style>\n",
       "<table border=\"1\" class=\"dataframe\">\n",
       "  <thead>\n",
       "    <tr style=\"text-align: right;\">\n",
       "      <th></th>\n",
       "      <th>SMILES</th>\n",
       "      <th>Date</th>\n",
       "      <th>Series</th>\n",
       "      <th>exp_values</th>\n",
       "      <th>units</th>\n",
       "      <th>Lab</th>\n",
       "      <th>Year</th>\n",
       "    </tr>\n",
       "  </thead>\n",
       "  <tbody>\n",
       "    <tr>\n",
       "      <th>0</th>\n",
       "      <td>COC1=C2OC3=C(OC)C(OC)=CC4=C3C(CC5=CC=C(O)C(OC6...</td>\n",
       "      <td>2019-03-12</td>\n",
       "      <td>Series1</td>\n",
       "      <td>0.242221</td>\n",
       "      <td>uM</td>\n",
       "      <td>Lab A</td>\n",
       "      <td>2019</td>\n",
       "    </tr>\n",
       "    <tr>\n",
       "      <th>1</th>\n",
       "      <td>NC1=NC(N)=C2C=C(C=CC2=N1)S(=O)(=O)N3CCCCC3</td>\n",
       "      <td>2016-12-21</td>\n",
       "      <td>Series1</td>\n",
       "      <td>0.624911</td>\n",
       "      <td>uM</td>\n",
       "      <td>Lab A</td>\n",
       "      <td>2016</td>\n",
       "    </tr>\n",
       "    <tr>\n",
       "      <th>2</th>\n",
       "      <td>COC1=CC2=C(C=C1OC)C(=O)N(NC(=O)C3=CC=CC(F)=C3)...</td>\n",
       "      <td>2019-12-23</td>\n",
       "      <td>Series1</td>\n",
       "      <td>0.658967</td>\n",
       "      <td>uM</td>\n",
       "      <td>Lab A</td>\n",
       "      <td>2019</td>\n",
       "    </tr>\n",
       "    <tr>\n",
       "      <th>3</th>\n",
       "      <td>C=CCC1(CCCCC1)NC2=CC=CC=C2</td>\n",
       "      <td>2019-10-14</td>\n",
       "      <td>Series1</td>\n",
       "      <td>0.979338</td>\n",
       "      <td>uM</td>\n",
       "      <td>Lab A</td>\n",
       "      <td>2019</td>\n",
       "    </tr>\n",
       "    <tr>\n",
       "      <th>4</th>\n",
       "      <td>FC1=CC=CC=C1NC2=NC(NCC3=CC=CC=C3)=C4C=CC=CC4=N2</td>\n",
       "      <td>2017-03-20</td>\n",
       "      <td>Series1</td>\n",
       "      <td>0.161337</td>\n",
       "      <td>uM</td>\n",
       "      <td>Lab A</td>\n",
       "      <td>2017</td>\n",
       "    </tr>\n",
       "    <tr>\n",
       "      <th>...</th>\n",
       "      <td>...</td>\n",
       "      <td>...</td>\n",
       "      <td>...</td>\n",
       "      <td>...</td>\n",
       "      <td>...</td>\n",
       "      <td>...</td>\n",
       "      <td>...</td>\n",
       "    </tr>\n",
       "    <tr>\n",
       "      <th>5692</th>\n",
       "      <td>O=C(N1CCN(CC1)CC2=CC=C3OCOC3=C2)C4=CC=NC=C4</td>\n",
       "      <td>2019-10-18</td>\n",
       "      <td>Series4</td>\n",
       "      <td>1.777240</td>\n",
       "      <td>uM</td>\n",
       "      <td>Lab A</td>\n",
       "      <td>2019</td>\n",
       "    </tr>\n",
       "    <tr>\n",
       "      <th>5693</th>\n",
       "      <td>O=C(C=CC1=CC=CN=C1)C23CC4CC(CC(C4)C2)C3</td>\n",
       "      <td>2018-01-13</td>\n",
       "      <td>Series4</td>\n",
       "      <td>0.408828</td>\n",
       "      <td>uM</td>\n",
       "      <td>Lab A</td>\n",
       "      <td>2018</td>\n",
       "    </tr>\n",
       "    <tr>\n",
       "      <th>5694</th>\n",
       "      <td>CC1=CC(N)=C2C=CC=CC2=[N+]1CCCCCCCCCC[N+]3=C(C)...</td>\n",
       "      <td>2015-12-19</td>\n",
       "      <td>Series4</td>\n",
       "      <td>1.925698</td>\n",
       "      <td>uM</td>\n",
       "      <td>Lab A</td>\n",
       "      <td>2015</td>\n",
       "    </tr>\n",
       "    <tr>\n",
       "      <th>5695</th>\n",
       "      <td>C[N+]1=CC=C(C=CC2=CNC3=CC=CC=C23)C=C1</td>\n",
       "      <td>2016-02-12</td>\n",
       "      <td>Series4</td>\n",
       "      <td>1.991048</td>\n",
       "      <td>uM</td>\n",
       "      <td>Lab A</td>\n",
       "      <td>2016</td>\n",
       "    </tr>\n",
       "    <tr>\n",
       "      <th>5696</th>\n",
       "      <td>COC1=CC=CC=C1C(C2=C(O)NN=C2C)C3=C(O)NN=C3C</td>\n",
       "      <td>2021-05-10</td>\n",
       "      <td>Series4</td>\n",
       "      <td>1.194923</td>\n",
       "      <td>uM</td>\n",
       "      <td>Lab A</td>\n",
       "      <td>2021</td>\n",
       "    </tr>\n",
       "  </tbody>\n",
       "</table>\n",
       "<p>5697 rows × 7 columns</p>\n",
       "</div>"
      ],
      "text/plain": [
       "                                                 SMILES        Date   Series  \\\n",
       "0     COC1=C2OC3=C(OC)C(OC)=CC4=C3C(CC5=CC=C(O)C(OC6...  2019-03-12  Series1   \n",
       "1            NC1=NC(N)=C2C=C(C=CC2=N1)S(=O)(=O)N3CCCCC3  2016-12-21  Series1   \n",
       "2     COC1=CC2=C(C=C1OC)C(=O)N(NC(=O)C3=CC=CC(F)=C3)...  2019-12-23  Series1   \n",
       "3                            C=CCC1(CCCCC1)NC2=CC=CC=C2  2019-10-14  Series1   \n",
       "4       FC1=CC=CC=C1NC2=NC(NCC3=CC=CC=C3)=C4C=CC=CC4=N2  2017-03-20  Series1   \n",
       "...                                                 ...         ...      ...   \n",
       "5692        O=C(N1CCN(CC1)CC2=CC=C3OCOC3=C2)C4=CC=NC=C4  2019-10-18  Series4   \n",
       "5693            O=C(C=CC1=CC=CN=C1)C23CC4CC(CC(C4)C2)C3  2018-01-13  Series4   \n",
       "5694  CC1=CC(N)=C2C=CC=CC2=[N+]1CCCCCCCCCC[N+]3=C(C)...  2015-12-19  Series4   \n",
       "5695              C[N+]1=CC=C(C=CC2=CNC3=CC=CC=C23)C=C1  2016-02-12  Series4   \n",
       "5696         COC1=CC=CC=C1C(C2=C(O)NN=C2C)C3=C(O)NN=C3C  2021-05-10  Series4   \n",
       "\n",
       "      exp_values units    Lab  Year  \n",
       "0       0.242221    uM  Lab A  2019  \n",
       "1       0.624911    uM  Lab A  2016  \n",
       "2       0.658967    uM  Lab A  2019  \n",
       "3       0.979338    uM  Lab A  2019  \n",
       "4       0.161337    uM  Lab A  2017  \n",
       "...          ...   ...    ...   ...  \n",
       "5692    1.777240    uM  Lab A  2019  \n",
       "5693    0.408828    uM  Lab A  2018  \n",
       "5694    1.925698    uM  Lab A  2015  \n",
       "5695    1.991048    uM  Lab A  2016  \n",
       "5696    1.194923    uM  Lab A  2021  \n",
       "\n",
       "[5697 rows x 7 columns]"
      ]
     },
     "execution_count": 33,
     "metadata": {},
     "output_type": "execute_result"
    }
   ],
   "source": [
    "df"
   ]
  },
  {
   "cell_type": "markdown",
   "id": "7fee18b1",
   "metadata": {},
   "source": [
    "# Merging Results\n",
    "You have gotten a second dataset, `bioassay_new`, produced by Lab B, for the same bioassay.\n",
    "Merge the datasets averaging the bioassay result values between labs.\n",
    "\n",
    "*tip: you can first merge the data and then create a new column with the averages*"
   ]
  },
  {
   "cell_type": "code",
   "execution_count": null,
   "id": "45f8f66c",
   "metadata": {},
   "outputs": [],
   "source": []
  },
  {
   "cell_type": "code",
   "execution_count": null,
   "id": "591acf8f",
   "metadata": {},
   "outputs": [],
   "source": []
  },
  {
   "cell_type": "code",
   "execution_count": null,
   "id": "acf213da",
   "metadata": {},
   "outputs": [],
   "source": []
  },
  {
   "cell_type": "code",
   "execution_count": null,
   "id": "47a9348a",
   "metadata": {},
   "outputs": [],
   "source": []
  },
  {
   "cell_type": "code",
   "execution_count": null,
   "id": "bdc50a04",
   "metadata": {},
   "outputs": [],
   "source": []
  },
  {
   "cell_type": "markdown",
   "id": "ebd7c1b8",
   "metadata": {},
   "source": [
    "# Bonus\n",
    "If you have successfully completed the above exercises, explore the rdkit package for chemoinformatics:\n",
    "\n",
    "You need first to pip install rdkit in your environment: check the pypi repository of python packages for instructions\n",
    "https://pypi.org/project/rdkit-pypi/\n",
    "\n",
    "Now, select one molecule from the exercise and try to calculate its molecular weight (https://www.rdkit.org/docs/source/rdkit.Chem.Descriptors.html).\n",
    "\n",
    "If you managed, try to automatize the exercise for the whole list of smiles in Bioassay 1 and store the calculated molecular weights in a list\n",
    "\n",
    "*hint: smiles have to be converted to molecules for rdkit (https://www.rdkit.org/docs/GettingStartedInPython.html)*"
   ]
  },
  {
   "cell_type": "code",
   "execution_count": null,
   "id": "088aeb62",
   "metadata": {},
   "outputs": [],
   "source": []
  }
 ],
 "metadata": {
  "kernelspec": {
   "display_name": "Python 3",
   "language": "python",
   "name": "python3"
  },
  "language_info": {
   "codemirror_mode": {
    "name": "ipython",
    "version": 3
   },
   "file_extension": ".py",
   "mimetype": "text/x-python",
   "name": "python",
   "nbconvert_exporter": "python",
   "pygments_lexer": "ipython3",
   "version": "3.7.10"
  }
 },
 "nbformat": 4,
 "nbformat_minor": 5
}
