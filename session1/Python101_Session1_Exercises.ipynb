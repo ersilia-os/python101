{
 "cells": [
  {
   "cell_type": "markdown",
   "id": "a3c0303a",
   "metadata": {},
   "source": [
    "# Exercises\n",
    "Here you will find some exercises to practise the concepts learnt in session 1. Some tips are provided at the beginning, but, as the notebook advances, the complexity of exercises increases. Do not worry if you do not manage to complete all exercises yet!"
   ]
  },
  {
   "cell_type": "markdown",
   "id": "4b6ccf76",
   "metadata": {},
   "source": [
    "### Lists\n",
    "Given the following list assigned to `mylist`:\n",
    "- Find out its lenght\n",
    "- Grab the only word in the list using the indices\n",
    "- Replace the word with number 7\n",
    "- Use list slicing to get the last 3 elements and get their max value "
   ]
  },
  {
   "cell_type": "code",
   "execution_count": 1,
   "id": "ef45f756",
   "metadata": {},
   "outputs": [],
   "source": [
    "mylist = [1,4,1, [3,\"python\",2], 6, 2, 18]"
   ]
  },
  {
   "cell_type": "code",
   "execution_count": null,
   "id": "195f5477",
   "metadata": {},
   "outputs": [],
   "source": []
  },
  {
   "cell_type": "code",
   "execution_count": null,
   "id": "cb6a3e73",
   "metadata": {},
   "outputs": [],
   "source": []
  },
  {
   "cell_type": "code",
   "execution_count": null,
   "id": "0639e05e",
   "metadata": {},
   "outputs": [],
   "source": []
  },
  {
   "cell_type": "markdown",
   "id": "c903a96e",
   "metadata": {},
   "source": [
    "### Strings\n",
    "Get the year in which the experiment was done given the following `exp_date`\n",
    "\n",
    "*tip: use the string splitting function*"
   ]
  },
  {
   "cell_type": "code",
   "execution_count": 9,
   "id": "b842d610",
   "metadata": {},
   "outputs": [],
   "source": [
    "exp_date = \"12/09/2021\""
   ]
  },
  {
   "cell_type": "code",
   "execution_count": null,
   "id": "04962fe2",
   "metadata": {},
   "outputs": [],
   "source": []
  },
  {
   "cell_type": "code",
   "execution_count": null,
   "id": "a7718c55",
   "metadata": {},
   "outputs": [],
   "source": []
  },
  {
   "cell_type": "markdown",
   "id": "ea9188ca",
   "metadata": {},
   "source": [
    "Now, create a **for loop** that returns a list of months in which the experiments form `exp_dates` were run.\n",
    "\n",
    "*tip: remember to instanciate the list `months` before starting the for loop (months = [ ])*"
   ]
  },
  {
   "cell_type": "code",
   "execution_count": 18,
   "id": "5277de5d",
   "metadata": {},
   "outputs": [],
   "source": [
    "exp_dates = [\"03-02-2021\", \"07-03-2021\", \"18-04-2021\", \"25-04-2021\", \"17-06-2021\", \"15-07-2021\", \"16-07-2021\"]"
   ]
  },
  {
   "cell_type": "code",
   "execution_count": null,
   "id": "27b23635",
   "metadata": {},
   "outputs": [],
   "source": []
  },
  {
   "cell_type": "code",
   "execution_count": null,
   "id": "be30bad9",
   "metadata": {},
   "outputs": [],
   "source": []
  },
  {
   "cell_type": "code",
   "execution_count": null,
   "id": "3f5b23e4",
   "metadata": {},
   "outputs": [],
   "source": []
  },
  {
   "cell_type": "markdown",
   "id": "5366e3b8",
   "metadata": {},
   "source": [
    "### Dictionaries\n",
    "The following dictionary, assigned to the variable `cutoff`, contains the cut-off thresholds of different experiments\n",
    "- Get all experiment names (*tip: they are the dictionary keys*)\n",
    "- Get the cut-off value of experiment 3\n",
    "- Replace the cut-off of experiment 5 for a 20\n",
    "- Imagine an experiment has a double threshold. Add a 10 to experiment 2"
   ]
  },
  {
   "cell_type": "code",
   "execution_count": 26,
   "id": "7ffc9720",
   "metadata": {},
   "outputs": [],
   "source": [
    "cutoff = {\"exp1\":0.1, \"exp2\": 1, \"exp3\": 0.5, \"exp4\": 100, \"exp5\": 50}"
   ]
  },
  {
   "cell_type": "code",
   "execution_count": null,
   "id": "5d78589e",
   "metadata": {},
   "outputs": [],
   "source": []
  },
  {
   "cell_type": "code",
   "execution_count": null,
   "id": "bcf92c62",
   "metadata": {},
   "outputs": [],
   "source": []
  },
  {
   "cell_type": "code",
   "execution_count": null,
   "id": "f0fb30c5",
   "metadata": {},
   "outputs": [],
   "source": []
  },
  {
   "cell_type": "markdown",
   "id": "bf67ac4b",
   "metadata": {},
   "source": [
    "Given the following lists of molecule IDs, create a new list that contains only the **unique** items from the `original` that are found in `experiment`\n",
    "\n",
    "*tip: remember set converts lists to unique items, you can do that before running a for loop*"
   ]
  },
  {
   "cell_type": "code",
   "execution_count": null,
   "id": "c3e19517",
   "metadata": {},
   "outputs": [],
   "source": [
    "original = [\"ID9021\",\"ID9321\", \"ID7821\", \"ID6521\", \"ID9021\", \"ID6521\", \"ID4321\", \"ID7221\", \"ID8821\", \"ID2121\", \"ID9821\", \"ID4321\" ]\n",
    "experiment = [\"ID9321\", \"ID7821\", \"ID4321\", \"ID7221\"]"
   ]
  },
  {
   "cell_type": "code",
   "execution_count": null,
   "id": "89b92cbb",
   "metadata": {},
   "outputs": [],
   "source": []
  },
  {
   "cell_type": "code",
   "execution_count": null,
   "id": "418a0bf7",
   "metadata": {},
   "outputs": [],
   "source": []
  },
  {
   "cell_type": "code",
   "execution_count": null,
   "id": "0d92b2dc",
   "metadata": {},
   "outputs": [],
   "source": []
  },
  {
   "cell_type": "markdown",
   "id": "3ce947bd",
   "metadata": {},
   "source": [
    "### Functions\n",
    "\n",
    "Write a python mock function to operate a lab robot.\n",
    "\n",
    "The function should:\n",
    " * Accept as arugments the pipette capacity (20, 200 or 1000) and a list of drugs\n",
    " * Output a statment that says:\n",
    "     * \"Pipette is too small\" if the capacity is 20 or 200\n",
    "     * \"XXX drug is loaded\" if the capacity is 1000\n",
    "\n",
    "We are giving a list of `drugs` in the next cell to try the function\n",
    "\n",
    "*tip: remember arguments are passed when defining the function: def robot(argument1, argument2)*"
   ]
  },
  {
   "cell_type": "code",
   "execution_count": null,
   "id": "4831347f",
   "metadata": {},
   "outputs": [],
   "source": [
    "drugs = [\"Chloroquine\", \"Primaquine\", \"Atovaquone\", \"Mefloquine\"]"
   ]
  },
  {
   "cell_type": "code",
   "execution_count": null,
   "id": "e49ddd1b",
   "metadata": {},
   "outputs": [],
   "source": []
  },
  {
   "cell_type": "code",
   "execution_count": null,
   "id": "7b6e0fd7",
   "metadata": {},
   "outputs": [],
   "source": []
  },
  {
   "cell_type": "code",
   "execution_count": null,
   "id": "6e14d25c",
   "metadata": {},
   "outputs": [],
   "source": []
  }
 ],
 "metadata": {
  "kernelspec": {
   "display_name": "Python 3",
   "language": "python",
   "name": "python3"
  },
  "language_info": {
   "codemirror_mode": {
    "name": "ipython",
    "version": 3
   },
   "file_extension": ".py",
   "mimetype": "text/x-python",
   "name": "python",
   "nbconvert_exporter": "python",
   "pygments_lexer": "ipython3",
   "version": "3.7.10"
  }
 },
 "nbformat": 4,
 "nbformat_minor": 5
}
