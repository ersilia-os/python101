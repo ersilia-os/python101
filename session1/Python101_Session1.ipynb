{
 "cells": [
  {
   "cell_type": "markdown",
   "id": "bd5c892d",
   "metadata": {},
   "source": [
    "# Python Programming Language\n",
    "This notebook gives an overview of python syntax, different data types and an introduction to functions and object-oriented programming.\n",
    "\n",
    "\n",
    "### A note on Jupyter Notebooks\n",
    "Jupyter notebooks are organized in cells, each cell contains a portion of code that will be run together, producing an output. Aside from code cells, notebooks also have Markdown (i.e text) cells such as this one. To change the cell type, simply choose from the dropdown list in the upper bar. \n",
    "To add text inside a code cell, you must comment it using a hash (#) for a single line or three quotes (\"\"\"...\"\"\") for docstrings. Hashed comments will not be run as code, and they are really helpful for following the code."
   ]
  },
  {
   "cell_type": "code",
   "execution_count": 4,
   "id": "a583d37b",
   "metadata": {},
   "outputs": [
    {
     "data": {
      "text/plain": [
       "' \\nFor multiline comments, you can use the three double quotes\\nDocumenting your code is very important for your future you or other collaborators\\nAlways try to write in a line what is the function objective\\n'"
      ]
     },
     "execution_count": 4,
     "metadata": {},
     "output_type": "execute_result"
    }
   ],
   "source": [
    "# This is a comment -> comments do not run or affect the script\n",
    "\n",
    "\"\"\" \n",
    "For multiline comments, you can use the three double quotes\n",
    "Documenting your code is very important for your future you or other collaborators\n",
    "Always try to write in a line what is the function objective\n",
    "\"\"\""
   ]
  },
  {
   "cell_type": "markdown",
   "id": "e0e50288",
   "metadata": {},
   "source": [
    "## Data types\n",
    "\n",
    "### String\n",
    "Text is passed as a string (str) in python, always inside single ('...') or double quotes (\"...\")\n",
    "\n",
    "### Numbers\n",
    "- Integers (int): whole numbers (positive or negative)\n",
    "- Floating Point Numbers (float): real numbers with decimal positions\n",
    "\n",
    "### Booleans\n",
    "A boolean (bool) value is either a True or False\n",
    "\n",
    "### Lists\n",
    "A list is an ordered collection of items which can include different data types inside. Each item in a list is recognized by its position. Keep in mind that lists start at position 0 in python, not 1. \n",
    "A list is defined by square brackets [1,2,2,3]\n",
    "\n",
    "### Sets\n",
    "A set is an unordered collection of unique items. It is defined by curly brackets {1,2,3}\n",
    "\n",
    "### Dictionaries\n",
    "A dictionary is an unordered conatiner of Key:Value pairs. Keys must be unique, and can map to one or more values. \n",
    "A dictionary is defined by curly brackets {Key:Value}, for example {\"Name\":\"Gemma\", \"Age\":30}\n",
    "\n",
    "*lists and dictionaries are mutable, i.e the elements inside can change, but sets are immutable."
   ]
  },
  {
   "cell_type": "code",
   "execution_count": 3,
   "id": "977a677b",
   "metadata": {},
   "outputs": [
    {
     "data": {
      "text/plain": [
       "'Hello world'"
      ]
     },
     "execution_count": 3,
     "metadata": {},
     "output_type": "execute_result"
    }
   ],
   "source": [
    "#string\n",
    "\"Hello world\""
   ]
  },
  {
   "cell_type": "code",
   "execution_count": 4,
   "id": "818f6817",
   "metadata": {},
   "outputs": [
    {
     "data": {
      "text/plain": [
       "\"Hello world, that's nested quotes\""
      ]
     },
     "execution_count": 4,
     "metadata": {},
     "output_type": "execute_result"
    }
   ],
   "source": [
    "#Single vs Double Quote\n",
    "\"Hello world double quote\"\n",
    "'Hello world, single quote'\n",
    "\"Hello world, that's nested quotes\""
   ]
  },
  {
   "cell_type": "code",
   "execution_count": 6,
   "id": "d49a4445",
   "metadata": {},
   "outputs": [
    {
     "data": {
      "text/plain": [
       "2.5"
      ]
     },
     "execution_count": 6,
     "metadata": {},
     "output_type": "execute_result"
    }
   ],
   "source": [
    "#Numbers\n",
    "2.5 #float"
   ]
  },
  {
   "cell_type": "code",
   "execution_count": 12,
   "id": "a607fbae",
   "metadata": {},
   "outputs": [
    {
     "data": {
      "text/plain": [
       "float"
      ]
     },
     "execution_count": 12,
     "metadata": {},
     "output_type": "execute_result"
    }
   ],
   "source": [
    "#We can check our data type using type(...)\n",
    "type(2.5)"
   ]
  },
  {
   "cell_type": "code",
   "execution_count": 7,
   "id": "0f2b13fc",
   "metadata": {},
   "outputs": [
    {
     "data": {
      "text/plain": [
       "4"
      ]
     },
     "execution_count": 7,
     "metadata": {},
     "output_type": "execute_result"
    }
   ],
   "source": [
    "2+2 #addition"
   ]
  },
  {
   "cell_type": "code",
   "execution_count": 8,
   "id": "4f80106d",
   "metadata": {},
   "outputs": [
    {
     "data": {
      "text/plain": [
       "4"
      ]
     },
     "execution_count": 8,
     "metadata": {},
     "output_type": "execute_result"
    }
   ],
   "source": [
    "2*2 #multiplication"
   ]
  },
  {
   "cell_type": "code",
   "execution_count": 22,
   "id": "4123b0a7",
   "metadata": {},
   "outputs": [
    {
     "data": {
      "text/plain": [
       "2.0"
      ]
     },
     "execution_count": 22,
     "metadata": {},
     "output_type": "execute_result"
    }
   ],
   "source": [
    "6/3 #division"
   ]
  },
  {
   "cell_type": "code",
   "execution_count": 24,
   "id": "b0e34186",
   "metadata": {},
   "outputs": [
    {
     "data": {
      "text/plain": [
       "27"
      ]
     },
     "execution_count": 24,
     "metadata": {},
     "output_type": "execute_result"
    }
   ],
   "source": [
    "3**3 #exponentiation"
   ]
  },
  {
   "cell_type": "code",
   "execution_count": 9,
   "id": "c6e12918",
   "metadata": {},
   "outputs": [
    {
     "data": {
      "text/plain": [
       "17"
      ]
     },
     "execution_count": 9,
     "metadata": {},
     "output_type": "execute_result"
    }
   ],
   "source": [
    "2+3*5 #multiple operations"
   ]
  },
  {
   "cell_type": "code",
   "execution_count": 10,
   "id": "5be89866",
   "metadata": {},
   "outputs": [
    {
     "data": {
      "text/plain": [
       "25"
      ]
     },
     "execution_count": 10,
     "metadata": {},
     "output_type": "execute_result"
    }
   ],
   "source": [
    "(2+3)*5"
   ]
  },
  {
   "cell_type": "code",
   "execution_count": 2,
   "id": "662930f3",
   "metadata": {},
   "outputs": [
    {
     "data": {
      "text/plain": [
       "True"
      ]
     },
     "execution_count": 2,
     "metadata": {},
     "output_type": "execute_result"
    }
   ],
   "source": [
    "# importantly the equal operator must be == (never =)\n",
    "2 == 2 #returns a boolean "
   ]
  },
  {
   "cell_type": "code",
   "execution_count": 26,
   "id": "9f5f071f",
   "metadata": {},
   "outputs": [
    {
     "data": {
      "text/plain": [
       "False"
      ]
     },
     "execution_count": 26,
     "metadata": {},
     "output_type": "execute_result"
    }
   ],
   "source": [
    "# and the different operator is !=\n",
    "2 != 2 #returns a boolean"
   ]
  },
  {
   "cell_type": "code",
   "execution_count": 44,
   "id": "b2683d7e",
   "metadata": {},
   "outputs": [
    {
     "data": {
      "text/plain": [
       "True"
      ]
     },
     "execution_count": 44,
     "metadata": {},
     "output_type": "execute_result"
    }
   ],
   "source": [
    "#we can also use and / or conditions to obtain a boleean\n",
    "#and\n",
    "(5>2) and (4>6)"
   ]
  },
  {
   "cell_type": "code",
   "execution_count": 45,
   "id": "93d5b154",
   "metadata": {},
   "outputs": [
    {
     "data": {
      "text/plain": [
       "True"
      ]
     },
     "execution_count": 45,
     "metadata": {},
     "output_type": "execute_result"
    }
   ],
   "source": [
    "#or\n",
    "(5>2) or (4>6)"
   ]
  },
  {
   "cell_type": "code",
   "execution_count": 14,
   "id": "2a929b04",
   "metadata": {},
   "outputs": [
    {
     "data": {
      "text/plain": [
       "1"
      ]
     },
     "execution_count": 14,
     "metadata": {},
     "output_type": "execute_result"
    }
   ],
   "source": [
    "#let's create a list\n",
    "mylist = [1, \"Ersilia\", \"third\", 10]\n",
    "mylist[0] #we use the position in the list to retrieve an element"
   ]
  },
  {
   "cell_type": "code",
   "execution_count": 15,
   "id": "82807987",
   "metadata": {},
   "outputs": [
    {
     "data": {
      "text/plain": [
       "'third'"
      ]
     },
     "execution_count": 15,
     "metadata": {},
     "output_type": "execute_result"
    }
   ],
   "source": [
    "mylist[2] #this calls the list element [2], remember counting starts at 0"
   ]
  },
  {
   "cell_type": "code",
   "execution_count": 19,
   "id": "9dd416c2",
   "metadata": {},
   "outputs": [
    {
     "data": {
      "text/plain": [
       "'value'"
      ]
     },
     "execution_count": 19,
     "metadata": {},
     "output_type": "execute_result"
    }
   ],
   "source": [
    "mydict = {\"key\":\"value\", \"book\":\"lord of the rings\", \"author\": \"Tolkien\"}\n",
    "mydict[\"key\"] #we use the key to retrieve data from the dictionary, that is why keys must be unique"
   ]
  },
  {
   "cell_type": "markdown",
   "id": "ed6f965e",
   "metadata": {},
   "source": [
    "### Variables\n",
    "Before continuing, we need to understand the \"variable\" concept. A variable stores data values, and its name must be UNIQUE.\n",
    "\n",
    "Variables are simply assigned by the = operator, and can be reassigned at any moment."
   ]
  },
  {
   "cell_type": "code",
   "execution_count": 20,
   "id": "6e48d6b2",
   "metadata": {},
   "outputs": [
    {
     "data": {
      "text/plain": [
       "'HelloGemma'"
      ]
     },
     "execution_count": 20,
     "metadata": {},
     "output_type": "execute_result"
    }
   ],
   "source": [
    "#actually, in the previous examples we have declared the variables \"mylist\" and \"mydict\"\n",
    "\n",
    "hello = \"Hello\"\n",
    "name = \"Gemma\"\n",
    "\n",
    "hello + name"
   ]
  },
  {
   "cell_type": "code",
   "execution_count": 21,
   "id": "2b48432a",
   "metadata": {},
   "outputs": [
    {
     "data": {
      "text/plain": [
       "'Hello Miquel'"
      ]
     },
     "execution_count": 21,
     "metadata": {},
     "output_type": "execute_result"
    }
   ],
   "source": [
    "#I can reassign the variable at any point\n",
    "name = \"Miquel\"\n",
    "hello + \" \" + name"
   ]
  },
  {
   "cell_type": "code",
   "execution_count": 27,
   "id": "caa5b131",
   "metadata": {},
   "outputs": [
    {
     "data": {
      "text/plain": [
       "15"
      ]
     },
     "execution_count": 27,
     "metadata": {},
     "output_type": "execute_result"
    }
   ],
   "source": [
    "# we can do operations on variables\n",
    "a = 3\n",
    "b = 5\n",
    "\n",
    "a*b\n"
   ]
  },
  {
   "cell_type": "markdown",
   "id": "5423b3c7",
   "metadata": {},
   "source": [
    "### Working further with strings\n",
    "Some built-in functions that might be useful\n",
    "#### Print and format print"
   ]
  },
  {
   "cell_type": "code",
   "execution_count": 32,
   "id": "984a94bc",
   "metadata": {},
   "outputs": [
    {
     "name": "stdout",
     "output_type": "stream",
     "text": [
      "8\n",
      "HelloMiquel\n"
     ]
    }
   ],
   "source": [
    "#printing allows to get several outputs printed from the same cell. Print is a predefined function in Python\n",
    "print(a+b)\n",
    "print(hello+name)"
   ]
  },
  {
   "cell_type": "code",
   "execution_count": 33,
   "id": "867d884b",
   "metadata": {},
   "outputs": [
    {
     "name": "stdout",
     "output_type": "stream",
     "text": [
      "My name is Miquel\n"
     ]
    }
   ],
   "source": [
    "#print format: if you want to print a changing statement depending on the variable:\n",
    "print(\"My name is {}\".format(name)) "
   ]
  },
  {
   "cell_type": "markdown",
   "id": "9db98e44",
   "metadata": {},
   "source": [
    "#### Upper and lower case"
   ]
  },
  {
   "cell_type": "code",
   "execution_count": 51,
   "id": "6e0d555a",
   "metadata": {},
   "outputs": [
    {
     "name": "stdout",
     "output_type": "stream",
     "text": [
      "THIS IS A TEST EXAMPLE\n",
      "this is a test example\n"
     ]
    }
   ],
   "source": [
    "#make a sentence all upper or lower case\n",
    "\n",
    "sentence = \"This is a Test Example\"\n",
    "print(sentence.upper())\n",
    "print(sentence.lower())"
   ]
  },
  {
   "cell_type": "markdown",
   "id": "b84a9789",
   "metadata": {},
   "source": [
    "#### Split and join"
   ]
  },
  {
   "cell_type": "code",
   "execution_count": 37,
   "id": "77eac0db",
   "metadata": {},
   "outputs": [
    {
     "name": "stdout",
     "output_type": "stream",
     "text": [
      "['This', 'is', 'a', 'Test', 'Example']\n"
     ]
    },
    {
     "data": {
      "text/plain": [
       "'Test'"
      ]
     },
     "execution_count": 37,
     "metadata": {},
     "output_type": "execute_result"
    }
   ],
   "source": [
    "#split a sentence on blank spaces\n",
    "print(sentence.split())\n",
    "\n",
    "#we can then select the item of the list we want\n",
    "sentence.split()[3]"
   ]
  },
  {
   "cell_type": "code",
   "execution_count": 49,
   "id": "c9137b04",
   "metadata": {},
   "outputs": [
    {
     "name": "stdout",
     "output_type": "stream",
     "text": [
      "['20', '10', '2021']\n"
     ]
    },
    {
     "data": {
      "text/plain": [
       "'2021'"
      ]
     },
     "execution_count": 49,
     "metadata": {},
     "output_type": "execute_result"
    }
   ],
   "source": [
    "#split using different characters\n",
    "date = \"20-10-2021\"\n",
    "print(date.split(\"-\"))\n",
    "date.split(\"-\")[2]"
   ]
  },
  {
   "cell_type": "code",
   "execution_count": 52,
   "id": "f51dba5d",
   "metadata": {},
   "outputs": [
    {
     "name": "stdout",
     "output_type": "stream",
     "text": [
      "10\n",
      "20/10/2021\n"
     ]
    }
   ],
   "source": [
    "day, month, year = date.split(\"-\")\n",
    "print(month)\n",
    "\n",
    "#we can also join strings\n",
    "date_joined = \"/\".join([day, month, year])\n",
    "print(date_joined)"
   ]
  },
  {
   "cell_type": "markdown",
   "id": "7ef123ea",
   "metadata": {},
   "source": [
    "### Dive deeper into lists and dictionaries"
   ]
  },
  {
   "cell_type": "code",
   "execution_count": 8,
   "id": "e4355055",
   "metadata": {},
   "outputs": [
    {
     "data": {
      "text/plain": [
       "'g'"
      ]
     },
     "execution_count": 8,
     "metadata": {},
     "output_type": "execute_result"
    }
   ],
   "source": [
    "# call last element of a list\n",
    "list1 = [\"a\", \"b\", \"c\", \"d\", \"e\", \"f\", \"g\"]\n",
    "list1[-1]"
   ]
  },
  {
   "cell_type": "code",
   "execution_count": 39,
   "id": "bd02d5ba",
   "metadata": {},
   "outputs": [
    {
     "name": "stdout",
     "output_type": "stream",
     "text": [
      "['c', 'd', 'e']\n",
      "['a', 'b', 'c']\n",
      "['c', 'd', 'e', 'f', 'g', 'h', 'i']\n"
     ]
    }
   ],
   "source": [
    "# call several elements of a list using slicing\n",
    "print(list1[2:5]) #position 5 is not selected\n",
    "print(list1[:3]) #up to position 3 (not included)\n",
    "print(list1[2:]) #from position 2 (included) to the end"
   ]
  },
  {
   "cell_type": "code",
   "execution_count": null,
   "id": "0eff2f86",
   "metadata": {},
   "outputs": [],
   "source": [
    "# a list could actually be a list of lists\n",
    "nested_list = [1, 2, [3,4,5], 6, 7]\n",
    "nested_list[2][2]"
   ]
  },
  {
   "cell_type": "code",
   "execution_count": 2,
   "id": "5b2b0b71",
   "metadata": {},
   "outputs": [
    {
     "data": {
      "text/plain": [
       "'two'"
      ]
     },
     "execution_count": 2,
     "metadata": {},
     "output_type": "execute_result"
    }
   ],
   "source": [
    "#dictionaries can also be nested\n",
    "dict_list = {\"letters\":[\"a\", \"b\", \"c\", \"d\"], \"nums\": [\"one\",\"two\",\"three\"]}\n",
    "dict_list[\"nums\"][1] #call the key and then the position of the value you are interested in"
   ]
  },
  {
   "cell_type": "code",
   "execution_count": 43,
   "id": "8b535542",
   "metadata": {},
   "outputs": [
    {
     "data": {
      "text/plain": [
       "'c'"
      ]
     },
     "execution_count": 43,
     "metadata": {},
     "output_type": "execute_result"
    }
   ],
   "source": [
    "dict_of_dicts = {\"key\":{\"letter\":[\"a\", \"b\", \"c\"]}}\n",
    "dict_of_dicts[\"key\"][\"letter\"][2]"
   ]
  },
  {
   "cell_type": "code",
   "execution_count": 5,
   "id": "248332d0",
   "metadata": {},
   "outputs": [
    {
     "data": {
      "text/plain": [
       "['a', 'b', 'c', 'd', 'e', 'f', 'g', 'h']"
      ]
     },
     "execution_count": 5,
     "metadata": {},
     "output_type": "execute_result"
    }
   ],
   "source": [
    "#adding elements to a list\n",
    "#option one: .append\n",
    "list1.append(\"h\")\n",
    "list1"
   ]
  },
  {
   "cell_type": "code",
   "execution_count": 9,
   "id": "df353f82",
   "metadata": {},
   "outputs": [
    {
     "data": {
      "text/plain": [
       "['a', 'b', 'c', 'd', 'e', 'f', 'g', 'i']"
      ]
     },
     "execution_count": 9,
     "metadata": {},
     "output_type": "execute_result"
    }
   ],
   "source": [
    "#option 2: +=\n",
    "list1 += [\"i\"]\n",
    "list1"
   ]
  },
  {
   "cell_type": "code",
   "execution_count": 3,
   "id": "424df073",
   "metadata": {},
   "outputs": [
    {
     "data": {
      "text/plain": [
       "{'letters': ['a', 'b', 'c', 'd'],\n",
       " 'nums': ['one', 'two', 'three'],\n",
       " 'Names': ['Gemma', 'Miquel', 'Edo']}"
      ]
     },
     "execution_count": 3,
     "metadata": {},
     "output_type": "execute_result"
    }
   ],
   "source": [
    "#adding keys to a dictionary\n",
    "dict_list[\"Names\"]=[\"Gemma\", \"Miquel\", \"Edo\"]\n",
    "dict_list"
   ]
  },
  {
   "cell_type": "code",
   "execution_count": 4,
   "id": "757b67b0",
   "metadata": {},
   "outputs": [
    {
     "data": {
      "text/plain": [
       "{'letters': ['a', 'b', 'c', 'd'],\n",
       " 'nums': ['one', 'two', 'three'],\n",
       " 'Names': ['Gemma', 'Miquel', 'Edo', 'Ersilia']}"
      ]
     },
     "execution_count": 4,
     "metadata": {},
     "output_type": "execute_result"
    }
   ],
   "source": [
    "#adding values to a key in a dictionary\n",
    "dict_list[\"Names\"].append(\"Ersilia\")\n",
    "dict_list"
   ]
  },
  {
   "cell_type": "code",
   "execution_count": 7,
   "id": "a4b45b74",
   "metadata": {},
   "outputs": [
    {
     "data": {
      "text/plain": [
       "dict_items([('letters', ['a', 'b', 'c', 'd']), ('nums', ['one', 'two', 'three']), ('Names', ['Gemma', 'Miquel', 'Edo', 'Ersilia'])])"
      ]
     },
     "execution_count": 7,
     "metadata": {},
     "output_type": "execute_result"
    }
   ],
   "source": [
    "#get keys\n",
    "dict_list.keys()\n",
    "#get values\n",
    "dict_list.value"
   ]
  },
  {
   "cell_type": "code",
   "execution_count": 13,
   "id": "0b9437c8",
   "metadata": {},
   "outputs": [
    {
     "data": {
      "text/plain": [
       "{1, 2, 3, 4, 5, 6}"
      ]
     },
     "execution_count": 13,
     "metadata": {},
     "output_type": "execute_result"
    }
   ],
   "source": [
    "# sets\n",
    "myset = {1,2,2,3,4,5,5,5,6}\n",
    "myset"
   ]
  },
  {
   "cell_type": "code",
   "execution_count": 3,
   "id": "a31bc6d7",
   "metadata": {},
   "outputs": [
    {
     "data": {
      "text/plain": [
       "{1, 2, 4, 5, 6, 7, 8, 10}"
      ]
     },
     "execution_count": 3,
     "metadata": {},
     "output_type": "execute_result"
    }
   ],
   "source": [
    "# we can convert a list into a set to eliminate duplicates:\n",
    "duplicates = [1,2,4,5,5,6,7,8,8,10]\n",
    "nodups = set(duplicates)"
   ]
  },
  {
   "cell_type": "markdown",
   "id": "ea480c4c",
   "metadata": {},
   "source": [
    "#### Some built-in functions for lists\n",
    "Range, max, min, abs, len, sorted"
   ]
  },
  {
   "cell_type": "code",
   "execution_count": 19,
   "id": "38c60f78",
   "metadata": {},
   "outputs": [
    {
     "name": "stdout",
     "output_type": "stream",
     "text": [
      "5\n",
      "2\n"
     ]
    }
   ],
   "source": [
    "#len() gives the length of the list or the length of a dictionary (keys)\n",
    "print(len(list1))\n",
    "print(len(dict_list))"
   ]
  },
  {
   "cell_type": "code",
   "execution_count": 11,
   "id": "9e354f47",
   "metadata": {},
   "outputs": [
    {
     "data": {
      "text/plain": [
       "['a', 'd', 'g', 't', 'x']"
      ]
     },
     "execution_count": 11,
     "metadata": {},
     "output_type": "execute_result"
    }
   ],
   "source": [
    "#sorted orders lists in alphabetical order\n",
    "abc = [\"d\", \"g\", \"t\", \"a\", \"x\"]\n",
    "sorted(abc)"
   ]
  },
  {
   "cell_type": "code",
   "execution_count": 9,
   "id": "5e050170",
   "metadata": {},
   "outputs": [
    {
     "data": {
      "text/plain": [
       "[1, 2, 3, 5, 7, 8]"
      ]
     },
     "execution_count": 9,
     "metadata": {},
     "output_type": "execute_result"
    }
   ],
   "source": [
    "list2 = [3,5,1,7,8,2]\n",
    "sorted(list2)"
   ]
  },
  {
   "cell_type": "code",
   "execution_count": 12,
   "id": "7132a5a8",
   "metadata": {},
   "outputs": [
    {
     "name": "stdout",
     "output_type": "stream",
     "text": [
      "8\n",
      "a\n"
     ]
    }
   ],
   "source": [
    "#max and min return the respective values of a list\n",
    "print(max(list2))\n",
    "print(min(abc))"
   ]
  },
  {
   "cell_type": "code",
   "execution_count": 14,
   "id": "ceba43d1",
   "metadata": {},
   "outputs": [
    {
     "data": {
      "text/plain": [
       "6.25"
      ]
     },
     "execution_count": 14,
     "metadata": {},
     "output_type": "execute_result"
    }
   ],
   "source": [
    "#convertion to absolute values\n",
    "abs(-6.25)"
   ]
  },
  {
   "cell_type": "markdown",
   "id": "f9a86b32",
   "metadata": {},
   "source": [
    "## Conditionals\n",
    "If, elif"
   ]
  },
  {
   "cell_type": "code",
   "execution_count": 51,
   "id": "66baa0f2",
   "metadata": {},
   "outputs": [
    {
     "name": "stdout",
     "output_type": "stream",
     "text": [
      "correct!\n"
     ]
    }
   ],
   "source": [
    "if 2+2==4:\n",
    "    print(\"correct!\") #indented 4 spaces"
   ]
  },
  {
   "cell_type": "code",
   "execution_count": 2,
   "id": "ec1b65fd",
   "metadata": {},
   "outputs": [
    {
     "name": "stdout",
     "output_type": "stream",
     "text": [
      "h is not in lists\n"
     ]
    }
   ],
   "source": [
    "list1 = [\"a\",\"b\", \"c\", \"d\"]\n",
    "list2 = [\"x\", \"y\", \"z\"]\n",
    "\n",
    "if \"h\" in list1:\n",
    "    print(\"h is in list1\")\n",
    "elif \"h\" in list2:\n",
    "    print(\"h is in list2\")\n",
    "else:\n",
    "    print(\"h is not in lists\")"
   ]
  },
  {
   "cell_type": "code",
   "execution_count": 3,
   "id": "679a2d57",
   "metadata": {},
   "outputs": [],
   "source": [
    "if \"h\" in list1:\n",
    "    print(\"h is in list1\")\n",
    "elif \"h\" in list2:\n",
    "    print(\"h is in list2\")\n",
    "else:\n",
    "    list1.append(\"h\")"
   ]
  },
  {
   "cell_type": "markdown",
   "id": "28243a10",
   "metadata": {},
   "source": [
    "## Loops\n",
    "For and while loops"
   ]
  },
  {
   "cell_type": "code",
   "execution_count": 4,
   "id": "e43f5052",
   "metadata": {},
   "outputs": [
    {
     "name": "stdout",
     "output_type": "stream",
     "text": [
      "a\n",
      "b\n",
      "c\n",
      "d\n",
      "h\n"
     ]
    }
   ],
   "source": [
    "#for allows to iterate over a list\n",
    "\n",
    "for x in list1: #x is a temporal variable, it could be letter, number, a, anything you want\n",
    "    print(x)"
   ]
  },
  {
   "cell_type": "code",
   "execution_count": 6,
   "id": "58a33470",
   "metadata": {},
   "outputs": [
    {
     "name": "stdout",
     "output_type": "stream",
     "text": [
      "run number1\n",
      "run number2\n",
      "run number3\n",
      "run number4\n",
      "run number5\n",
      "run number6\n",
      "run number7\n",
      "run number8\n",
      "run number9\n"
     ]
    }
   ],
   "source": [
    "\"\"\"\n",
    "while repeats a block of code as long as a condition is met:\n",
    "while (condition is True):\n",
    "    do something\n",
    "end\n",
    "\n",
    "Watch out for INFINITE LOOPS, if the condition never turns false the loop won't stop\n",
    "\"\"\" \n",
    "\n",
    "x = 1\n",
    "\n",
    "while (x<10):\n",
    "    x = x + 1\n",
    "    print(\"run number\" + str(x-1))"
   ]
  },
  {
   "cell_type": "markdown",
   "id": "7f864341",
   "metadata": {},
   "source": [
    "### List Comprehension\n",
    "How to use one-line code to create lists using for loops"
   ]
  },
  {
   "cell_type": "code",
   "execution_count": 24,
   "id": "0128f868",
   "metadata": {},
   "outputs": [
    {
     "data": {
      "text/plain": [
       "[3, 4, 5, 6, 7]"
      ]
     },
     "execution_count": 24,
     "metadata": {},
     "output_type": "execute_result"
    }
   ],
   "source": [
    "nums = [1,2,3,4,5]\n",
    "nums_sum = []\n",
    "\n",
    "for item in nums:\n",
    "    nums_sum += [(item+2)]\n",
    "\n",
    "nums_sum"
   ]
  },
  {
   "cell_type": "code",
   "execution_count": 26,
   "id": "7b63cc0c",
   "metadata": {},
   "outputs": [],
   "source": [
    "#the for loop can be simplified by:\n",
    "nums_sum = [item+2 for item in nums]"
   ]
  },
  {
   "cell_type": "code",
   "execution_count": 17,
   "id": "7818d0f6",
   "metadata": {},
   "outputs": [
    {
     "data": {
      "text/plain": [
       "['c', 'o', 'm', 'p', 'r', 'e', 'h', 'e', 'n', 's', 'i', 'o', 'n']"
      ]
     },
     "execution_count": 17,
     "metadata": {},
     "output_type": "execute_result"
    }
   ],
   "source": [
    "#list comprehension can start from a string\n",
    "chars = [char for char in \"comprehension\"]\n",
    "chars"
   ]
  },
  {
   "cell_type": "code",
   "execution_count": 30,
   "id": "7eb2b134",
   "metadata": {},
   "outputs": [
    {
     "data": {
      "text/plain": [
       "[0, 1, 2, 3, 4, 5, 6, 7, 8, 9]"
      ]
     },
     "execution_count": 30,
     "metadata": {},
     "output_type": "execute_result"
    }
   ],
   "source": [
    "#it can include conditionals inside\n",
    "num_list = [num for num in range(20) if num<10]\n",
    "num_list"
   ]
  },
  {
   "cell_type": "markdown",
   "id": "f4192909",
   "metadata": {},
   "source": [
    "## Functions\n",
    "Functions allow to call a block of code without having to rewrite it again.\n",
    "\n",
    "Use def() to set up a new function"
   ]
  },
  {
   "cell_type": "code",
   "execution_count": 53,
   "id": "5483a26a",
   "metadata": {},
   "outputs": [],
   "source": [
    "def funct():\n",
    "    print(\"hi\")"
   ]
  },
  {
   "cell_type": "code",
   "execution_count": 54,
   "id": "e3ca8ed6",
   "metadata": {},
   "outputs": [
    {
     "name": "stdout",
     "output_type": "stream",
     "text": [
      "hi\n"
     ]
    }
   ],
   "source": [
    "funct()"
   ]
  },
  {
   "cell_type": "code",
   "execution_count": 62,
   "id": "9fe0ebef",
   "metadata": {},
   "outputs": [
    {
     "name": "stdout",
     "output_type": "stream",
     "text": [
      "My name is Gemma\n"
     ]
    }
   ],
   "source": [
    "#let's specify some parameters for our function\n",
    "def name_funct(name):\n",
    "    print(\"My name is \"+name)\n",
    "\n",
    "name_funct(\"Gemma\")"
   ]
  },
  {
   "cell_type": "code",
   "execution_count": 63,
   "id": "60b409cc",
   "metadata": {},
   "outputs": [],
   "source": [
    "#use return to store a new variable\n",
    "\n",
    "def difference(x1,x2):\n",
    "    return x1-x2\n",
    "\n",
    "diff = difference(6,4)"
   ]
  }
 ],
 "metadata": {
  "kernelspec": {
   "display_name": "Python 3",
   "language": "python",
   "name": "python3"
  },
  "language_info": {
   "codemirror_mode": {
    "name": "ipython",
    "version": 3
   },
   "file_extension": ".py",
   "mimetype": "text/x-python",
   "name": "python",
   "nbconvert_exporter": "python",
   "pygments_lexer": "ipython3",
   "version": "3.7.10"
  }
 },
 "nbformat": 4,
 "nbformat_minor": 5
}
