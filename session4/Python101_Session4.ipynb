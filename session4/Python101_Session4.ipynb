{
 "cells": [
  {
   "cell_type": "markdown",
   "id": "b46a6348",
   "metadata": {},
   "source": [
    "# Supervised Machine Learning\n",
    "\n",
    "Uses previously **labeled** data to train an algorithm (i.e the output is known). The algorithm learns if it is doing right by comparing the predicted vs the real output.\n",
    "\n",
    "Simplified steps:\n",
    "1. Data collection and processing.\n",
    "2. Division of training data in Train and Test sets.\n",
    "3. Use the train set to train the model.\n",
    "4. Predict an output for the test set and compare the predicted vs real results.\n",
    "5. Improve the model until we are satisfied with the performance on the test set\n",
    "\n",
    "## Types of supervised ML models\n",
    "### Classification\n",
    "Classification problems are characterized by having categorical output (i.e: active, inactive), so the model tries to predict to which class the input belongs. It can include several classes, is not limited to a binary classification.\n",
    "\n",
    "### Regression\n",
    "Regression problems are characterized by continuous variables, where the model tries to predict the exact value of the input (i.e: IC50 of a specific compound)\n",
    "\n",
    "## Evaluation of supervised ML models\n",
    "\n",
    "### Classification metrics\n",
    "\n",
    "We obtain the following data to evaluate the model:\n",
    "- Y_pred: predictions on the test set\n",
    "- Y_real: real outcome of the test set\n",
    "\n",
    "**Accuracy:** number of correct predictions divided by the total number of predictions (TP/(lenY)). For example, if we have predicted correctly 5 out of 10 data points --> Accuracy = 50%\n",
    "\n",
    "**Precision**: identification of only real positives (with a 100% precision, a model does not classify any negatives as positive) --> TP/(TP+FP)\n",
    "\n",
    "**Recall**: identification of all positives (with a 100% recall, no positive is classified as negative, but some negatives might be included in the positives) --> TP / (TP+FN)\n",
    "\n",
    "**Confusion matrix**: plots the real vs the predicted values in a table, to easily obtain the FP, TP, TN, FN values.\n",
    "\n",
    "\n",
    "### Regression metrics\n",
    "In a regression task, we obtain as error the difference between the predicted value and the real value (i.e: IC50real=0.1, IC50pred = 0.5 --> error of 0.4).\n",
    "\n",
    "\n",
    "**Mean Absolute Error:** mean of the absolute values of errors. \n",
    "\n",
    "**Mean Squared Error:** mean of the square error. By squaring, larger errors are contributing more and therefore the model punishes them.\n",
    "\n",
    "**Root Mean Squared Error:** root of the mean of square error to simplify interpretation (by using MSE, we also square the units which makes them difficult to interpret)."
   ]
  },
  {
   "cell_type": "markdown",
   "id": "46ba4b8b",
   "metadata": {},
   "source": [
    "# Sklearn Package\n",
    "\n",
    "Sklearn is the most popular package for machine learning in python. We are going to go over the basic features of sklearn to train a model that predicts the quality of the Portuguese Wines from *P. Cortez, A. Cerdeira, F. Almeida, T. Matos and J. Reis. Modeling wine preferences by data mining from physicochemical properties. In Decision Support Systems, Elsevier, 47(4):547-553, 2009.*\n",
    "\n",
    "First, install the sklearn package by either :\n",
    "- `$pip install -U scikit-learn` on the command line\n",
    "- `!pip install -U scikit-learn` on a jupyter notebook cell\n",
    "\n",
    "And then, import on the notebook only the modules that we are going to use. The package is very large, so we will only import specific chunks of it. Run the code below to import the necessary modules to perform a basic classification problem:\n",
    "\n",
    "- `from sklearn.model_selection import train_test_split`\n",
    "- `from sklearn.linear_model import LogisticRegression`"
   ]
  },
  {
   "cell_type": "code",
   "execution_count": 4,
   "id": "04af8461",
   "metadata": {},
   "outputs": [],
   "source": [
    "from sklearn.model_selection import train_test_split\n",
    "from sklearn.linear_model import LogisticRegression"
   ]
  },
  {
   "cell_type": "markdown",
   "id": "87e9ccfc",
   "metadata": {},
   "source": [
    "### Logistic regression on a classification task\n",
    "\n",
    "#### Data collection\n",
    "Load the wine dataset into a pandas dataframe, as we have been working with it in session 3 we already know its characteristics."
   ]
  },
  {
   "cell_type": "code",
   "execution_count": 15,
   "id": "f75e5cd9",
   "metadata": {},
   "outputs": [],
   "source": [
    "import pandas as pd\n",
    "df = pd.read_csv(\"../session3/winequality-red.csv\")"
   ]
  },
  {
   "cell_type": "code",
   "execution_count": 16,
   "id": "d594ab17",
   "metadata": {},
   "outputs": [
    {
     "data": {
      "text/plain": [
       "Text(0, 0.5, 'number of wines')"
      ]
     },
     "execution_count": 16,
     "metadata": {},
     "output_type": "execute_result"
    },
    {
     "data": {
      "image/png": "[encoded data removed]",
      "text/plain": [
       "<Figure size 432x288 with 1 Axes>"
      ]
     },
     "metadata": {
      "needs_background": "light"
     },
     "output_type": "display_data"
    }
   ],
   "source": [
    "#check the labeled output: \n",
    "import matplotlib.pyplot as plt\n",
    "\n",
    "y = df.groupby(\"quality\", as_index=False).nunique()\n",
    "plt.bar(x = y[\"quality\"], height=y[\"name\"])\n",
    "plt.xlabel(\"quality\")\n",
    "plt.ylabel(\"number of wines\")"
   ]
  },
  {
   "cell_type": "markdown",
   "id": "40a4a964",
   "metadata": {},
   "source": [
    "We could use the discrete values as a multiclass classification problem, but, to simplify our first analysis, we will define a cutoff:\n",
    "- Wines of quality => 7 --> good (1)\n",
    "- Wines of quality < 7 --> bad (0)\n",
    "\n",
    "To this end, we will add a classification (clf) column to our dataset, containing only 0 or 1"
   ]
  },
  {
   "cell_type": "code",
   "execution_count": 18,
   "id": "51d2f6ae",
   "metadata": {},
   "outputs": [],
   "source": [
    "#add a classification column to the dataframe:\n",
    "\n",
    "clf = [] #we create an empty list where we will add the clf values\n",
    "\n",
    "quality = df[\"quality\"].tolist() #pass the quality column to a list \n",
    "\n",
    "#iterate over the quality list and append values to the clf list\n",
    "for item in quality:\n",
    "    if item < 7:\n",
    "        clf.append(0)\n",
    "    else:\n",
    "        clf.append(1)\n",
    "\n",
    "#add the clf list as a column in the dataframe:\n",
    "df[\"clf\"]=clf"
   ]
  },
  {
   "cell_type": "code",
   "execution_count": 22,
   "id": "979b6a15",
   "metadata": {},
   "outputs": [
    {
     "data": {
      "text/plain": [
       "0    1382\n",
       "1     217\n",
       "Name: clf, dtype: int64"
      ]
     },
     "execution_count": 22,
     "metadata": {},
     "output_type": "execute_result"
    }
   ],
   "source": [
    "#check how many values of each type we have\n",
    "df[\"clf\"].value_counts()"
   ]
  },
  {
   "cell_type": "code",
   "execution_count": 29,
   "id": "08a83a1d",
   "metadata": {},
   "outputs": [],
   "source": [
    "#assert that the classification was right\n",
    "assert df[\"clf\"].value_counts()[1] == (len(df[df[\"quality\"]>=7]))\n",
    "\n",
    "#the assert function is very useful as a checkpoint to understand if our data was correct"
   ]
  },
  {
   "cell_type": "markdown",
   "id": "b2aa0cca",
   "metadata": {},
   "source": [
    "#### Train test split\n",
    "\n",
    "Now, we want to use the physicochemical properties of each wine to try and predict its quality (1 or 0). The dataset has already been cleaned for us, so we do not need to process it further (eliminate empty columns, deal with outliers etc).\n",
    "\n",
    "The next step is to divide the data into train and test. For this, we use the built-in function train_test_split in sklearn.\n",
    "\n",
    "First, we need to determine what are the X and Y of our model:\n",
    "X - Element to predict\n",
    "Y - Output\n",
    "\n",
    "Of course, the element to predict (x) is the wine, but, the algorithm needs at least one property of the wine to be able to predict its quality (the output, y). Let's start by identifying a property that correlates with the wine quality:"
   ]
  },
  {
   "cell_type": "code",
   "execution_count": 33,
   "id": "409882f5",
   "metadata": {},
   "outputs": [
    {
     "name": "stdout",
     "output_type": "stream",
     "text": [
      "fixed acidity            8.847005\n",
      "volatile acidity         0.405530\n",
      "citric acid              0.376498\n",
      "residual sugar           2.708756\n",
      "chlorides                0.075912\n",
      "free sulfur dioxide     13.981567\n",
      "total sulfur dioxide    34.889401\n",
      "density                  0.996030\n",
      "pH                       3.288802\n",
      "sulphates                0.743456\n",
      "alcohol                 11.518049\n",
      "quality                  7.082949\n",
      "clf                      1.000000\n",
      "dtype: float64\n",
      "fixed acidity            8.236831\n",
      "volatile acidity         0.547022\n",
      "citric acid              0.254407\n",
      "residual sugar           2.512120\n",
      "chlorides                0.089281\n",
      "free sulfur dioxide     16.172214\n",
      "total sulfur dioxide    48.285818\n",
      "density                  0.996859\n",
      "pH                       3.314616\n",
      "sulphates                0.644754\n",
      "alcohol                 10.251037\n",
      "quality                  5.408828\n",
      "clf                      0.000000\n",
      "dtype: float64\n"
     ]
    },
    {
     "name": "stderr",
     "output_type": "stream",
     "text": [
      "C:\\Users\\Gemma\\Anaconda3\\envs\\udemy\\lib\\site-packages\\ipykernel_launcher.py:6: FutureWarning: Dropping of nuisance columns in DataFrame reductions (with 'numeric_only=None') is deprecated; in a future version this will raise TypeError.  Select only valid columns before calling the reduction.\n",
      "  \n",
      "C:\\Users\\Gemma\\Anaconda3\\envs\\udemy\\lib\\site-packages\\ipykernel_launcher.py:7: FutureWarning: Dropping of nuisance columns in DataFrame reductions (with 'numeric_only=None') is deprecated; in a future version this will raise TypeError.  Select only valid columns before calling the reduction.\n",
      "  import sys\n"
     ]
    }
   ],
   "source": [
    "#Check if there is a property with different mean for good vs bad wine\n",
    "\n",
    "good = df[df[\"clf\"]==1]\n",
    "bad = df[df[\"clf\"]==0]\n",
    "\n",
    "print(good.mean(axis=0))\n",
    "print(bad.mean(axis=0))\n"
   ]
  },
  {
   "cell_type": "code",
   "execution_count": 34,
   "id": "75a7dbf9",
   "metadata": {},
   "outputs": [],
   "source": [
    "#total sulfur dioxide looks quite different between good and bad, so let's start here:\n",
    "\n",
    "x = df[\"total sulfur dioxide\"] #we use the total sulfur dioxide as the wine representation\n",
    "y = df[\"clf\"] #we use the classification 0 or 1 as prediction outcome"
   ]
  },
  {
   "cell_type": "code",
   "execution_count": 39,
   "id": "7dc8bcdd",
   "metadata": {},
   "outputs": [],
   "source": [
    "#let's call the sklearn function train_test_split using the x and y values we have defined above\n",
    "#test_size indicates the % of the total data that will be kept to test the model prediction\n",
    "\n",
    "X_train, X_test, y_train, y_test = train_test_split(x, y, test_size=0.2)"
   ]
  },
  {
   "cell_type": "code",
   "execution_count": 45,
   "id": "bb263166",
   "metadata": {},
   "outputs": [
    {
     "data": {
      "text/plain": [
       "189     144.0\n",
       "719      45.0\n",
       "123      34.0\n",
       "1581     32.0\n",
       "817      27.0\n",
       "Name: total sulfur dioxide, dtype: float64"
      ]
     },
     "execution_count": 45,
     "metadata": {},
     "output_type": "execute_result"
    }
   ],
   "source": [
    "# to better understand what train and test split does, lets print the four outcomes one by one:\n",
    "X_train.head()"
   ]
  },
  {
   "cell_type": "code",
   "execution_count": 46,
   "id": "1847e82a",
   "metadata": {},
   "outputs": [
    {
     "data": {
      "text/plain": [
       "189     0\n",
       "719     0\n",
       "123     0\n",
       "1581    0\n",
       "817     0\n",
       "Name: clf, dtype: int64"
      ]
     },
     "execution_count": 46,
     "metadata": {},
     "output_type": "execute_result"
    }
   ],
   "source": [
    "y_train.head()"
   ]
  },
  {
   "cell_type": "code",
   "execution_count": 47,
   "id": "962e96cf",
   "metadata": {},
   "outputs": [
    {
     "data": {
      "text/plain": [
       "889     99.0\n",
       "362     37.0\n",
       "1271    64.0\n",
       "1565    42.0\n",
       "1369     8.0\n",
       "Name: total sulfur dioxide, dtype: float64"
      ]
     },
     "execution_count": 47,
     "metadata": {},
     "output_type": "execute_result"
    }
   ],
   "source": [
    "X_test.head()"
   ]
  },
  {
   "cell_type": "code",
   "execution_count": 48,
   "id": "dfd4e38d",
   "metadata": {},
   "outputs": [
    {
     "data": {
      "text/plain": [
       "889     0\n",
       "362     0\n",
       "1271    0\n",
       "1565    0\n",
       "1369    0\n",
       "Name: clf, dtype: int64"
      ]
     },
     "execution_count": 48,
     "metadata": {},
     "output_type": "execute_result"
    }
   ],
   "source": [
    "y_test.head()"
   ]
  },
  {
   "cell_type": "markdown",
   "id": "85b090b1",
   "metadata": {},
   "source": [
    "#### Model Training\n",
    "We have now created a train set with its associated outcome (0 or 1) and a test set with its associated outcome as well (1) and it is time to train a model.\n",
    "\n",
    "One of the simplest classification algorithms is based on a logistic regression, or sigmoid function. The sigmoid takes any value and outputs a value between 0 and 1.\n"
   ]
  },
  {
   "cell_type": "code",
   "execution_count": 53,
   "id": "4c4ae582",
   "metadata": {},
   "outputs": [],
   "source": [
    "X_train = X_train.values.reshape(-1,1)"
   ]
  },
  {
   "cell_type": "code",
   "execution_count": 54,
   "id": "b81723a2",
   "metadata": {},
   "outputs": [
    {
     "data": {
      "text/plain": [
       "LogisticRegression()"
      ]
     },
     "execution_count": 54,
     "metadata": {},
     "output_type": "execute_result"
    }
   ],
   "source": [
    "#we instanciate the model as a Logistic Regression from sklearn\n",
    "\n",
    "mdl = LogisticRegression()\n",
    "\n",
    "#and then we train (fit) the model using our training data\n",
    "mdl.fit(X_train, y_train)"
   ]
  },
  {
   "cell_type": "code",
   "execution_count": 64,
   "id": "5ea24b56",
   "metadata": {},
   "outputs": [
    {
     "data": {
      "text/plain": [
       "array([0, 0, 0, 0, 0, 0, 0, 0, 0, 0, 0, 0, 0, 0, 0, 0, 0, 0, 0, 0, 0, 0,\n",
       "       0, 0, 0, 0, 0, 0, 0, 0, 0, 0, 0, 0, 0, 0, 0, 0, 0, 0, 0, 0, 0, 0,\n",
       "       0, 0, 0, 0, 0, 0, 0, 0, 0, 0, 0, 0, 0, 0, 0, 0, 0, 0, 0, 0, 0, 0,\n",
       "       0, 0, 0, 0, 0, 0, 0, 0, 0, 0, 0, 0, 0, 0, 0, 0, 0, 0, 0, 0, 0, 0,\n",
       "       0, 0, 0, 0, 0, 0, 0, 0, 0, 0, 0, 0, 0, 0, 0, 0, 0, 0, 0, 0, 0, 0,\n",
       "       0, 0, 0, 0, 0, 0, 0, 0, 0, 0, 0, 0, 0, 0, 0, 0, 0, 0, 0, 0, 0, 0,\n",
       "       0, 0, 0, 0, 0, 0, 0, 0, 0, 0, 0, 0, 0, 0, 0, 0, 0, 0, 0, 0, 0, 0,\n",
       "       0, 0, 0, 0, 0, 0, 0, 0, 0, 0, 0, 0, 0, 0, 0, 0, 0, 0, 0, 0, 0, 0,\n",
       "       0, 0, 0, 0, 0, 0, 0, 0, 0, 0, 0, 0, 0, 0, 0, 0, 0, 0, 0, 0, 0, 0,\n",
       "       0, 0, 0, 0, 0, 0, 0, 0, 0, 0, 0, 0, 0, 0, 0, 0, 0, 0, 0, 0, 0, 0,\n",
       "       0, 0, 0, 0, 0, 0, 0, 0, 0, 0, 0, 0, 0, 0, 0, 0, 0, 0, 0, 0, 0, 0,\n",
       "       0, 0, 0, 0, 0, 0, 0, 0, 0, 0, 0, 0, 0, 0, 0, 0, 0, 0, 0, 0, 0, 0,\n",
       "       0, 0, 0, 0, 0, 0, 0, 0, 0, 0, 0, 0, 0, 0, 0, 0, 0, 0, 0, 0, 0, 0,\n",
       "       0, 0, 0, 0, 0, 0, 0, 0, 0, 0, 0, 0, 0, 0, 0, 0, 0, 0, 0, 0, 0, 0,\n",
       "       0, 0, 0, 0, 0, 0, 0, 0, 0, 0, 0, 0], dtype=int64)"
      ]
     },
     "execution_count": 64,
     "metadata": {},
     "output_type": "execute_result"
    }
   ],
   "source": [
    "#X_test = X_test.values.reshape(-1,1)\n",
    "\n",
    "#we then predict the probability of the wines in the test set being 0 (first column) or 1 (second column)\n",
    "pred = mdl.predict(X_test)\n",
    "pred"
   ]
  },
  {
   "cell_type": "markdown",
   "id": "f0d32c77",
   "metadata": {},
   "source": [
    "#### Model performance\n",
    "We have trained a Logistic Regression model using a train set, and predicted the outcome on a test set for which we have the actual values. Let's check how good our model did.\n",
    "We can use the classification report and the confusion matrix methods built-in in sklearn."
   ]
  },
  {
   "cell_type": "code",
   "execution_count": 58,
   "id": "db7387bb",
   "metadata": {},
   "outputs": [],
   "source": [
    "from sklearn.metrics import classification_report\n",
    "from sklearn.metrics import confusion_matrix"
   ]
  },
  {
   "cell_type": "code",
   "execution_count": 65,
   "id": "ee6e0ad9",
   "metadata": {},
   "outputs": [
    {
     "name": "stdout",
     "output_type": "stream",
     "text": [
      "              precision    recall  f1-score   support\n",
      "\n",
      "           0       0.89      1.00      0.94       284\n",
      "           1       0.00      0.00      0.00        36\n",
      "\n",
      "    accuracy                           0.89       320\n",
      "   macro avg       0.44      0.50      0.47       320\n",
      "weighted avg       0.79      0.89      0.83       320\n",
      "\n"
     ]
    },
    {
     "name": "stderr",
     "output_type": "stream",
     "text": [
      "C:\\Users\\Gemma\\Anaconda3\\envs\\udemy\\lib\\site-packages\\sklearn\\metrics\\_classification.py:1308: UndefinedMetricWarning: Precision and F-score are ill-defined and being set to 0.0 in labels with no predicted samples. Use `zero_division` parameter to control this behavior.\n",
      "  _warn_prf(average, modifier, msg_start, len(result))\n",
      "C:\\Users\\Gemma\\Anaconda3\\envs\\udemy\\lib\\site-packages\\sklearn\\metrics\\_classification.py:1308: UndefinedMetricWarning: Precision and F-score are ill-defined and being set to 0.0 in labels with no predicted samples. Use `zero_division` parameter to control this behavior.\n",
      "  _warn_prf(average, modifier, msg_start, len(result))\n",
      "C:\\Users\\Gemma\\Anaconda3\\envs\\udemy\\lib\\site-packages\\sklearn\\metrics\\_classification.py:1308: UndefinedMetricWarning: Precision and F-score are ill-defined and being set to 0.0 in labels with no predicted samples. Use `zero_division` parameter to control this behavior.\n",
      "  _warn_prf(average, modifier, msg_start, len(result))\n"
     ]
    }
   ],
   "source": [
    "print(classification_report(y_test,pred))"
   ]
  },
  {
   "cell_type": "code",
   "execution_count": 66,
   "id": "b7094830",
   "metadata": {},
   "outputs": [
    {
     "data": {
      "text/plain": [
       "array([[284,   0],\n",
       "       [ 36,   0]], dtype=int64)"
      ]
     },
     "execution_count": 66,
     "metadata": {},
     "output_type": "execute_result"
    }
   ],
   "source": [
    "confusion_matrix(y_test, pred)"
   ]
  },
  {
   "cell_type": "code",
   "execution_count": 70,
   "id": "c526676b",
   "metadata": {},
   "outputs": [
    {
     "data": {
      "text/plain": [
       "[Text(0, 0.5, 'Bad'), Text(0, 1.5, 'Good')]"
      ]
     },
     "execution_count": 70,
     "metadata": {},
     "output_type": "execute_result"
    },
    {
     "data": {
      "image/png": "[encoded data removed]",
      "text/plain": [
       "<Figure size 432x288 with 1 Axes>"
      ]
     },
     "metadata": {
      "needs_background": "light"
     },
     "output_type": "display_data"
    }
   ],
   "source": [
    "import seaborn as sns\n",
    "\n",
    "cf_matrix = confusion_matrix(y_test, pred)\n",
    "\n",
    "ax = sns.heatmap(cf_matrix, annot=True, cmap='Greens', cbar=False, annot_kws={\"size\": 16})\n",
    "ax.set_title(\"Predicted vs Real Quality\", fontsize=14)\n",
    "ax.set_xlabel('Predicted', fontsize=14)\n",
    "ax.set_ylabel('Real', fontsize=14);\n",
    "\n",
    "## Ticket labels - List must be in alphabetical order\n",
    "ax.xaxis.set_ticklabels(['Bad','Good'], fontsize=14)\n",
    "ax.yaxis.set_ticklabels(['Bad','Good'], fontsize=14)\n"
   ]
  },
  {
   "cell_type": "markdown",
   "id": "4b380e53",
   "metadata": {},
   "source": [
    "So, our model cannot very accurately predict if a wine is good using only the Total Sulfur Dioxide content of each wine as input. Let's try to add all the variables we have as input:"
   ]
  },
  {
   "cell_type": "code",
   "execution_count": 71,
   "id": "dde41f0e",
   "metadata": {},
   "outputs": [
    {
     "data": {
      "text/plain": [
       "Index(['name', 'fixed acidity', 'volatile acidity', 'citric acid',\n",
       "       'residual sugar', 'chlorides', 'free sulfur dioxide',\n",
       "       'total sulfur dioxide', 'density', 'pH', 'sulphates', 'alcohol',\n",
       "       'quality', 'clf'],\n",
       "      dtype='object')"
      ]
     },
     "execution_count": 71,
     "metadata": {},
     "output_type": "execute_result"
    }
   ],
   "source": [
    "df.columns"
   ]
  },
  {
   "cell_type": "code",
   "execution_count": 72,
   "id": "d1340a5e",
   "metadata": {},
   "outputs": [],
   "source": [
    "x = df[['fixed acidity', 'volatile acidity', 'citric acid',\n",
    "       'residual sugar', 'chlorides', 'free sulfur dioxide',\n",
    "       'total sulfur dioxide', 'density', 'pH', 'sulphates', 'alcohol']]"
   ]
  },
  {
   "cell_type": "code",
   "execution_count": 78,
   "id": "ece518ab",
   "metadata": {},
   "outputs": [],
   "source": [
    "X_train, X_test, y_train, y_test = train_test_split(x, y, test_size=0.2)"
   ]
  },
  {
   "cell_type": "code",
   "execution_count": 79,
   "id": "c0f2b5df",
   "metadata": {},
   "outputs": [
    {
     "data": {
      "text/html": [
       "<div>\n",
       "<style scoped>\n",
       "    .dataframe tbody tr th:only-of-type {\n",
       "        vertical-align: middle;\n",
       "    }\n",
       "\n",
       "    .dataframe tbody tr th {\n",
       "        vertical-align: top;\n",
       "    }\n",
       "\n",
       "    .dataframe thead th {\n",
       "        text-align: right;\n",
       "    }\n",
       "</style>\n",
       "<table border=\"1\" class=\"dataframe\">\n",
       "  <thead>\n",
       "    <tr style=\"text-align: right;\">\n",
       "      <th></th>\n",
       "      <th>fixed acidity</th>\n",
       "      <th>volatile acidity</th>\n",
       "      <th>citric acid</th>\n",
       "      <th>residual sugar</th>\n",
       "      <th>chlorides</th>\n",
       "      <th>free sulfur dioxide</th>\n",
       "      <th>total sulfur dioxide</th>\n",
       "      <th>density</th>\n",
       "      <th>pH</th>\n",
       "      <th>sulphates</th>\n",
       "      <th>alcohol</th>\n",
       "    </tr>\n",
       "  </thead>\n",
       "  <tbody>\n",
       "    <tr>\n",
       "      <th>1330</th>\n",
       "      <td>7.4</td>\n",
       "      <td>0.60</td>\n",
       "      <td>0.26</td>\n",
       "      <td>2.10</td>\n",
       "      <td>0.083</td>\n",
       "      <td>17.0</td>\n",
       "      <td>91.0</td>\n",
       "      <td>0.99616</td>\n",
       "      <td>3.29</td>\n",
       "      <td>0.56</td>\n",
       "      <td>9.8</td>\n",
       "    </tr>\n",
       "    <tr>\n",
       "      <th>1245</th>\n",
       "      <td>7.4</td>\n",
       "      <td>0.55</td>\n",
       "      <td>0.19</td>\n",
       "      <td>1.80</td>\n",
       "      <td>0.082</td>\n",
       "      <td>15.0</td>\n",
       "      <td>34.0</td>\n",
       "      <td>0.99655</td>\n",
       "      <td>3.49</td>\n",
       "      <td>0.68</td>\n",
       "      <td>10.5</td>\n",
       "    </tr>\n",
       "    <tr>\n",
       "      <th>250</th>\n",
       "      <td>10.8</td>\n",
       "      <td>0.32</td>\n",
       "      <td>0.44</td>\n",
       "      <td>1.60</td>\n",
       "      <td>0.063</td>\n",
       "      <td>16.0</td>\n",
       "      <td>37.0</td>\n",
       "      <td>0.99850</td>\n",
       "      <td>3.22</td>\n",
       "      <td>0.78</td>\n",
       "      <td>10.0</td>\n",
       "    </tr>\n",
       "    <tr>\n",
       "      <th>204</th>\n",
       "      <td>7.0</td>\n",
       "      <td>0.43</td>\n",
       "      <td>0.36</td>\n",
       "      <td>1.60</td>\n",
       "      <td>0.089</td>\n",
       "      <td>14.0</td>\n",
       "      <td>37.0</td>\n",
       "      <td>0.99615</td>\n",
       "      <td>3.34</td>\n",
       "      <td>0.56</td>\n",
       "      <td>9.2</td>\n",
       "    </tr>\n",
       "    <tr>\n",
       "      <th>1345</th>\n",
       "      <td>8.2</td>\n",
       "      <td>0.44</td>\n",
       "      <td>0.24</td>\n",
       "      <td>2.30</td>\n",
       "      <td>0.063</td>\n",
       "      <td>10.0</td>\n",
       "      <td>28.0</td>\n",
       "      <td>0.99613</td>\n",
       "      <td>3.25</td>\n",
       "      <td>0.53</td>\n",
       "      <td>10.2</td>\n",
       "    </tr>\n",
       "    <tr>\n",
       "      <th>...</th>\n",
       "      <td>...</td>\n",
       "      <td>...</td>\n",
       "      <td>...</td>\n",
       "      <td>...</td>\n",
       "      <td>...</td>\n",
       "      <td>...</td>\n",
       "      <td>...</td>\n",
       "      <td>...</td>\n",
       "      <td>...</td>\n",
       "      <td>...</td>\n",
       "      <td>...</td>\n",
       "    </tr>\n",
       "    <tr>\n",
       "      <th>1002</th>\n",
       "      <td>9.1</td>\n",
       "      <td>0.29</td>\n",
       "      <td>0.33</td>\n",
       "      <td>2.05</td>\n",
       "      <td>0.063</td>\n",
       "      <td>13.0</td>\n",
       "      <td>27.0</td>\n",
       "      <td>0.99516</td>\n",
       "      <td>3.26</td>\n",
       "      <td>0.84</td>\n",
       "      <td>11.7</td>\n",
       "    </tr>\n",
       "    <tr>\n",
       "      <th>1084</th>\n",
       "      <td>7.2</td>\n",
       "      <td>0.38</td>\n",
       "      <td>0.30</td>\n",
       "      <td>1.80</td>\n",
       "      <td>0.073</td>\n",
       "      <td>31.0</td>\n",
       "      <td>70.0</td>\n",
       "      <td>0.99685</td>\n",
       "      <td>3.42</td>\n",
       "      <td>0.59</td>\n",
       "      <td>9.5</td>\n",
       "    </tr>\n",
       "    <tr>\n",
       "      <th>435</th>\n",
       "      <td>12.3</td>\n",
       "      <td>0.39</td>\n",
       "      <td>0.63</td>\n",
       "      <td>2.30</td>\n",
       "      <td>0.091</td>\n",
       "      <td>6.0</td>\n",
       "      <td>18.0</td>\n",
       "      <td>1.00040</td>\n",
       "      <td>3.16</td>\n",
       "      <td>0.49</td>\n",
       "      <td>9.5</td>\n",
       "    </tr>\n",
       "    <tr>\n",
       "      <th>1076</th>\n",
       "      <td>9.9</td>\n",
       "      <td>0.32</td>\n",
       "      <td>0.56</td>\n",
       "      <td>2.00</td>\n",
       "      <td>0.073</td>\n",
       "      <td>3.0</td>\n",
       "      <td>8.0</td>\n",
       "      <td>0.99534</td>\n",
       "      <td>3.15</td>\n",
       "      <td>0.73</td>\n",
       "      <td>11.4</td>\n",
       "    </tr>\n",
       "    <tr>\n",
       "      <th>1434</th>\n",
       "      <td>10.2</td>\n",
       "      <td>0.54</td>\n",
       "      <td>0.37</td>\n",
       "      <td>15.40</td>\n",
       "      <td>0.214</td>\n",
       "      <td>55.0</td>\n",
       "      <td>95.0</td>\n",
       "      <td>1.00369</td>\n",
       "      <td>3.18</td>\n",
       "      <td>0.77</td>\n",
       "      <td>9.0</td>\n",
       "    </tr>\n",
       "  </tbody>\n",
       "</table>\n",
       "<p>1279 rows × 11 columns</p>\n",
       "</div>"
      ],
      "text/plain": [
       "      fixed acidity  volatile acidity  citric acid  residual sugar  chlorides  \\\n",
       "1330            7.4              0.60         0.26            2.10      0.083   \n",
       "1245            7.4              0.55         0.19            1.80      0.082   \n",
       "250            10.8              0.32         0.44            1.60      0.063   \n",
       "204             7.0              0.43         0.36            1.60      0.089   \n",
       "1345            8.2              0.44         0.24            2.30      0.063   \n",
       "...             ...               ...          ...             ...        ...   \n",
       "1002            9.1              0.29         0.33            2.05      0.063   \n",
       "1084            7.2              0.38         0.30            1.80      0.073   \n",
       "435            12.3              0.39         0.63            2.30      0.091   \n",
       "1076            9.9              0.32         0.56            2.00      0.073   \n",
       "1434           10.2              0.54         0.37           15.40      0.214   \n",
       "\n",
       "      free sulfur dioxide  total sulfur dioxide  density    pH  sulphates  \\\n",
       "1330                 17.0                  91.0  0.99616  3.29       0.56   \n",
       "1245                 15.0                  34.0  0.99655  3.49       0.68   \n",
       "250                  16.0                  37.0  0.99850  3.22       0.78   \n",
       "204                  14.0                  37.0  0.99615  3.34       0.56   \n",
       "1345                 10.0                  28.0  0.99613  3.25       0.53   \n",
       "...                   ...                   ...      ...   ...        ...   \n",
       "1002                 13.0                  27.0  0.99516  3.26       0.84   \n",
       "1084                 31.0                  70.0  0.99685  3.42       0.59   \n",
       "435                   6.0                  18.0  1.00040  3.16       0.49   \n",
       "1076                  3.0                   8.0  0.99534  3.15       0.73   \n",
       "1434                 55.0                  95.0  1.00369  3.18       0.77   \n",
       "\n",
       "      alcohol  \n",
       "1330      9.8  \n",
       "1245     10.5  \n",
       "250      10.0  \n",
       "204       9.2  \n",
       "1345     10.2  \n",
       "...       ...  \n",
       "1002     11.7  \n",
       "1084      9.5  \n",
       "435       9.5  \n",
       "1076     11.4  \n",
       "1434      9.0  \n",
       "\n",
       "[1279 rows x 11 columns]"
      ]
     },
     "execution_count": 79,
     "metadata": {},
     "output_type": "execute_result"
    }
   ],
   "source": [
    "X_train #X is a dataframe containing the relevant columns for prediction"
   ]
  },
  {
   "cell_type": "code",
   "execution_count": 80,
   "id": "20481313",
   "metadata": {},
   "outputs": [],
   "source": [
    "#we need to convert it to an arraty of values to train the model\n",
    "#use the .to_numpy function of pandas\n",
    "\n",
    "X_train = X_train.to_numpy()\n",
    "X_test = X_test.to_numpy()"
   ]
  },
  {
   "cell_type": "code",
   "execution_count": 85,
   "id": "ef9bbc30",
   "metadata": {},
   "outputs": [
    {
     "name": "stderr",
     "output_type": "stream",
     "text": [
      "[Parallel(n_jobs=1)]: Using backend SequentialBackend with 1 concurrent workers.\n",
      "[Parallel(n_jobs=1)]: Done   1 out of   1 | elapsed:    4.4s remaining:    0.0s\n",
      "[Parallel(n_jobs=1)]: Done   1 out of   1 | elapsed:    4.4s finished\n"
     ]
    },
    {
     "data": {
      "text/plain": [
       "LogisticRegression(max_iter=10000, verbose=3)"
      ]
     },
     "execution_count": 85,
     "metadata": {},
     "output_type": "execute_result"
    }
   ],
   "source": [
    "mdl = LogisticRegression(max_iter=10000, verbose=3)\n",
    "mdl.fit(X_train, y_train)"
   ]
  },
  {
   "cell_type": "code",
   "execution_count": 87,
   "id": "ddbddc97",
   "metadata": {},
   "outputs": [],
   "source": [
    "pred = mdl.predict(X_test)"
   ]
  },
  {
   "cell_type": "code",
   "execution_count": 88,
   "id": "4eecb2aa",
   "metadata": {},
   "outputs": [
    {
     "data": {
      "text/plain": [
       "[Text(0, 0.5, 'Bad'), Text(0, 1.5, 'Good')]"
      ]
     },
     "execution_count": 88,
     "metadata": {},
     "output_type": "execute_result"
    },
    {
     "data": {
      "image/png": "[encoded data removed]",
      "text/plain": [
       "<Figure size 432x288 with 1 Axes>"
      ]
     },
     "metadata": {
      "needs_background": "light"
     },
     "output_type": "display_data"
    }
   ],
   "source": [
    "cf_matrix = confusion_matrix(y_test, pred)\n",
    "\n",
    "ax = sns.heatmap(cf_matrix, annot=True, cmap='Greens', cbar=False, annot_kws={\"size\": 16})\n",
    "ax.set_title(\"Predicted vs Real Quality\", fontsize=14)\n",
    "ax.set_xlabel('Predicted', fontsize=14)\n",
    "ax.set_ylabel('Real', fontsize=14);\n",
    "\n",
    "## Ticket labels - List must be in alphabetical order\n",
    "ax.xaxis.set_ticklabels(['Bad','Good'], fontsize=14)\n",
    "ax.yaxis.set_ticklabels(['Bad','Good'], fontsize=14)"
   ]
  },
  {
   "cell_type": "markdown",
   "id": "879fa18a",
   "metadata": {},
   "source": [
    "The final model is far from being a good predictor. In this situation, there is a number of options to continue:\n",
    "- Increase the training sample\n",
    "- Increase the number of wine descriptors\n",
    "- Choose another algorithm"
   ]
  },
  {
   "cell_type": "code",
   "execution_count": null,
   "id": "99a6d036",
   "metadata": {},
   "outputs": [],
   "source": []
  }
 ],
 "metadata": {
  "kernelspec": {
   "display_name": "Python 3 (ipykernel)",
   "language": "python",
   "name": "python3"
  },
  "language_info": {
   "codemirror_mode": {
    "name": "ipython",
    "version": 3
   },
   "file_extension": ".py",
   "mimetype": "text/x-python",
   "name": "python",
   "nbconvert_exporter": "python",
   "pygments_lexer": "ipython3",
   "version": "3.7.10"
  }
 },
 "nbformat": 4,
 "nbformat_minor": 5
}
