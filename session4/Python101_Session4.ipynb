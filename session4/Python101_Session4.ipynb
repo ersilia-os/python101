{
 "cells": [
  {
   "cell_type": "markdown",
   "id": "b46a6348",
   "metadata": {},
   "source": [
    "# Supervised Machine Learning\n",
    "\n",
    "Uses previously **labeled** data to train an algorithm (i.e the output is known). The algorithm learns if it is doing right by comparing the predicted vs the real output.\n",
    "\n",
    "Simplified steps:\n",
    "1. Data collection and processing.\n",
    "2. Division of training data in Train and Test sets.\n",
    "3. Use the train set to train the model.\n",
    "4. Predict an output for the test set and compare the predicted vs real results.\n",
    "5. Improve the model until we are satisfied with the performance on the test set\n",
    "\n",
    "## Types of supervised ML models\n",
    "### Classification\n",
    "Classification problems are characterized by having categorical output (i.e: active, inactive), so the model tries to predict to which class the input belongs. It can include several classes, is not limited to a binary classification.\n",
    "\n",
    "### Regression\n",
    "Regression problems are characterized by continuous variables, where the model tries to predict the exact value of the input (i.e: IC50 of a specific compound)\n",
    "\n",
    "## Evaluation of supervised ML models\n",
    "\n",
    "### Classification metrics\n",
    "\n",
    "We obtain the following data to evaluate the model:\n",
    "- Y_pred: predictions on the test set\n",
    "- Y_real: real outcome of the test set\n",
    "\n",
    "**Accuracy:** number of correct predictions divided by the total number of predictions (TP/(lenY)). For example, if we have predicted correctly 5 out of 10 data points --> Accuracy = 50%\n",
    "\n",
    "**Precision**: identification of only real positives (with a 100% precision, a model does not classify any negatives as positive) --> TP/(TP+FP)\n",
    "\n",
    "**Recall**: identification of all positives (with a 100% recall, no positive is classified as negative, but some negatives might be included in the positives) --> TP / (TP+FN)\n",
    "\n",
    "**Confusion matrix**: plots the real vs the predicted values in a table, to easily obtain the FP, TP, TN, FN values.\n",
    "\n",
    "\n",
    "### Regression metrics\n",
    "In a regression task, we obtain as error the difference between the predicted value and the real value (i.e: IC50real=0.1, IC50pred = 0.5 --> error of 0.4).\n",
    "\n",
    "\n",
    "**Mean Absolute Error:** mean of the absolute values of errors. \n",
    "\n",
    "**Mean Squared Error:** mean of the square error. By squaring, larger errors are contributing more and therefore the model punishes them.\n",
    "\n",
    "**Root Mean Squared Error:** root of the mean of square error to simplify interpretation (by using MSE, we also square the units which makes them difficult to interpret).\n",
    "\n",
    "**R-square**: coefficient of determination, the amount of variance explained by the model (from 0 to 1, the closer to 1, the better our model is)"
   ]
  },
  {
   "cell_type": "markdown",
   "id": "46ba4b8b",
   "metadata": {},
   "source": [
    "# Sklearn Package\n",
    "\n",
    "Sklearn is the most popular package for machine learning in python. We are going to go over the basic features of sklearn to train a model that predicts the quality of the Portuguese Wines from *P. Cortez, A. Cerdeira, F. Almeida, T. Matos and J. Reis. Modeling wine preferences by data mining from physicochemical properties. In Decision Support Systems, Elsevier, 47(4):547-553, 2009.*\n",
    "\n",
    "First, install the sklearn package by either :\n",
    "- `$pip install -U scikit-learn` on the command line\n",
    "- `!pip install -U scikit-learn` on a jupyter notebook cell\n",
    "\n",
    "And then, import on the notebook only the modules that we are going to use. The package is very large, so we will only import specific chunks of it. Run the code below to import the necessary modules to perform a basic classification problem:\n",
    "\n",
    "- `from sklearn.model_selection import train_test_split`\n",
    "- `from sklearn.linear_model import LogisticRegression`"
   ]
  },
  {
   "cell_type": "code",
   "execution_count": 2,
   "id": "5ef5447b",
   "metadata": {},
   "outputs": [
    {
     "name": "stdout",
     "output_type": "stream",
     "text": [
      "Requirement already satisfied: scikit-learn in c:\\users\\gemma\\anaconda3\\envs\\udemy\\lib\\site-packages (1.0)\n",
      "Collecting scikit-learn\n",
      "  Downloading scikit_learn-1.0.1-cp37-cp37m-win_amd64.whl (7.2 MB)\n",
      "Requirement already satisfied: scipy>=1.1.0 in c:\\users\\gemma\\anaconda3\\envs\\udemy\\lib\\site-packages (from scikit-learn) (1.7.1)\n",
      "Requirement already satisfied: joblib>=0.11 in c:\\users\\gemma\\anaconda3\\envs\\udemy\\lib\\site-packages (from scikit-learn) (1.0.1)\n",
      "Requirement already satisfied: numpy>=1.14.6 in c:\\users\\gemma\\anaconda3\\envs\\udemy\\lib\\site-packages (from scikit-learn) (1.21.2)\n",
      "Requirement already satisfied: threadpoolctl>=2.0.0 in c:\\users\\gemma\\anaconda3\\envs\\udemy\\lib\\site-packages (from scikit-learn) (2.2.0)\n",
      "Installing collected packages: scikit-learn\n",
      "  Attempting uninstall: scikit-learn\n",
      "    Found existing installation: scikit-learn 1.0\n",
      "    Uninstalling scikit-learn-1.0:\n",
      "      Successfully uninstalled scikit-learn-1.0\n"
     ]
    },
    {
     "name": "stderr",
     "output_type": "stream",
     "text": [
      "ERROR: Could not install packages due to an OSError: [WinError 5] Access is denied: 'c:\\\\users\\\\gemma\\\\anaconda3\\\\envs\\\\udemy\\\\lib\\\\site-packages\\\\~klearn\\\\.libs\\\\vcomp140.dll'\n",
      "Consider using the `--user` option or check the permissions.\n",
      "\n"
     ]
    }
   ],
   "source": [
    "!pip install -U scikit-learn"
   ]
  },
  {
   "cell_type": "code",
   "execution_count": 3,
   "id": "04af8461",
   "metadata": {},
   "outputs": [],
   "source": [
    "from sklearn.model_selection import train_test_split\n",
    "from sklearn.linear_model import LogisticRegression"
   ]
  },
  {
   "cell_type": "markdown",
   "id": "87e9ccfc",
   "metadata": {},
   "source": [
    "### Logistic regression on a classification task\n",
    "\n",
    "#### Data collection\n",
    "Load the wine dataset into a pandas dataframe, as we have been working with it in session 3 we already know its characteristics."
   ]
  },
  {
   "cell_type": "code",
   "execution_count": 4,
   "id": "f75e5cd9",
   "metadata": {},
   "outputs": [],
   "source": [
    "import pandas as pd\n",
    "df = pd.read_csv(\"../session3/winequality-red.csv\")"
   ]
  },
  {
   "cell_type": "code",
   "execution_count": 5,
   "id": "d594ab17",
   "metadata": {},
   "outputs": [
    {
     "data": {
      "text/plain": [
       "Text(0, 0.5, 'number of wines')"
      ]
     },
     "execution_count": 5,
     "metadata": {},
     "output_type": "execute_result"
    },
    {
     "data": {
      "image/png": "[encoded data removed]",
      "text/plain": [
       "<Figure size 432x288 with 1 Axes>"
      ]
     },
     "metadata": {
      "needs_background": "light"
     },
     "output_type": "display_data"
    }
   ],
   "source": [
    "#check the labeled output: \n",
    "import matplotlib.pyplot as plt\n",
    "\n",
    "y = df.groupby(\"quality\", as_index=False).nunique()\n",
    "plt.bar(x = y[\"quality\"], height=y[\"name\"])\n",
    "plt.xlabel(\"quality\")\n",
    "plt.ylabel(\"number of wines\")"
   ]
  },
  {
   "cell_type": "markdown",
   "id": "40a4a964",
   "metadata": {},
   "source": [
    "We could use the discrete values as a multiclass classification problem, but, to simplify our first analysis, we will define a cutoff:\n",
    "- Wines of quality => 7 --> good (1)\n",
    "- Wines of quality < 7 --> bad (0)\n",
    "\n",
    "To this end, we will add a classification (clf) column to our dataset, containing only 0 or 1"
   ]
  },
  {
   "cell_type": "code",
   "execution_count": 6,
   "id": "51d2f6ae",
   "metadata": {},
   "outputs": [],
   "source": [
    "#add a classification column to the dataframe:\n",
    "\n",
    "clf = [] #we create an empty list where we will add the clf values\n",
    "\n",
    "quality = df[\"quality\"].tolist() #pass the quality column to a list \n",
    "\n",
    "#iterate over the quality list and append values to the clf list\n",
    "for item in quality:\n",
    "    if item < 7:\n",
    "        clf.append(0)\n",
    "    else:\n",
    "        clf.append(1)\n",
    "\n",
    "#add the clf list as a column in the dataframe:\n",
    "df[\"clf\"]=clf"
   ]
  },
  {
   "cell_type": "code",
   "execution_count": 7,
   "id": "979b6a15",
   "metadata": {},
   "outputs": [
    {
     "data": {
      "text/plain": [
       "0    1382\n",
       "1     217\n",
       "Name: clf, dtype: int64"
      ]
     },
     "execution_count": 7,
     "metadata": {},
     "output_type": "execute_result"
    }
   ],
   "source": [
    "#check how many values of each type we have\n",
    "df[\"clf\"].value_counts()"
   ]
  },
  {
   "cell_type": "code",
   "execution_count": 8,
   "id": "08a83a1d",
   "metadata": {},
   "outputs": [],
   "source": [
    "#assert that the classification was right\n",
    "assert df[\"clf\"].value_counts()[1] == (len(df[df[\"quality\"]>=7]))\n",
    "\n",
    "#the assert function is very useful as a checkpoint to understand if our data was correct"
   ]
  },
  {
   "cell_type": "markdown",
   "id": "b2aa0cca",
   "metadata": {},
   "source": [
    "#### Train test split\n",
    "\n",
    "Now, we want to use the physicochemical properties of each wine to try and predict its quality (1 or 0). The dataset has already been cleaned for us, so we do not need to process it further (eliminate empty columns, deal with outliers etc).\n",
    "\n",
    "The next step is to divide the data into train and test. For this, we use the built-in function train_test_split in sklearn.\n",
    "\n",
    "First, we need to determine what are the X and Y of our model:\n",
    "X - Element to predict\n",
    "Y - Output\n",
    "\n",
    "Of course, the element to predict (x) is the wine, but, the algorithm needs at least one property of the wine to be able to predict its quality (the output, y). Let's start by identifying a property that correlates with the wine quality:"
   ]
  },
  {
   "cell_type": "code",
   "execution_count": 9,
   "id": "409882f5",
   "metadata": {},
   "outputs": [
    {
     "name": "stdout",
     "output_type": "stream",
     "text": [
      "fixed acidity            8.847005\n",
      "volatile acidity         0.405530\n",
      "citric acid              0.376498\n",
      "residual sugar           2.708756\n",
      "chlorides                0.075912\n",
      "free sulfur dioxide     13.981567\n",
      "total sulfur dioxide    34.889401\n",
      "density                  0.996030\n",
      "pH                       3.288802\n",
      "sulphates                0.743456\n",
      "alcohol                 11.518049\n",
      "quality                  7.082949\n",
      "clf                      1.000000\n",
      "dtype: float64\n",
      "fixed acidity            8.236831\n",
      "volatile acidity         0.547022\n",
      "citric acid              0.254407\n",
      "residual sugar           2.512120\n",
      "chlorides                0.089281\n",
      "free sulfur dioxide     16.172214\n",
      "total sulfur dioxide    48.285818\n",
      "density                  0.996859\n",
      "pH                       3.314616\n",
      "sulphates                0.644754\n",
      "alcohol                 10.251037\n",
      "quality                  5.408828\n",
      "clf                      0.000000\n",
      "dtype: float64\n"
     ]
    },
    {
     "name": "stderr",
     "output_type": "stream",
     "text": [
      "C:\\Users\\Gemma\\Anaconda3\\envs\\udemy\\lib\\site-packages\\ipykernel_launcher.py:6: FutureWarning: Dropping of nuisance columns in DataFrame reductions (with 'numeric_only=None') is deprecated; in a future version this will raise TypeError.  Select only valid columns before calling the reduction.\n",
      "  \n",
      "C:\\Users\\Gemma\\Anaconda3\\envs\\udemy\\lib\\site-packages\\ipykernel_launcher.py:7: FutureWarning: Dropping of nuisance columns in DataFrame reductions (with 'numeric_only=None') is deprecated; in a future version this will raise TypeError.  Select only valid columns before calling the reduction.\n",
      "  import sys\n"
     ]
    }
   ],
   "source": [
    "#Check if there is a property with different mean for good vs bad wine\n",
    "\n",
    "good = df[df[\"clf\"]==1]\n",
    "bad = df[df[\"clf\"]==0]\n",
    "\n",
    "print(good.mean(axis=0))\n",
    "print(bad.mean(axis=0))\n"
   ]
  },
  {
   "cell_type": "code",
   "execution_count": 46,
   "id": "75a7dbf9",
   "metadata": {},
   "outputs": [],
   "source": [
    "#Sulfur dioxide looks quite different between good and bad, so let's start here:\n",
    "\n",
    "x = df[[\"total sulfur dioxide\",\"free sulfur dioxide\"]] #we use the total sulfur dioxide as the wine representation\n",
    "y = df[\"clf\"] #we use the classification 0 or 1 as prediction outcome"
   ]
  },
  {
   "cell_type": "code",
   "execution_count": 47,
   "id": "7dc8bcdd",
   "metadata": {},
   "outputs": [],
   "source": [
    "#let's call the sklearn function train_test_split using the x and y values we have defined above\n",
    "#test_size indicates the % of the total data that will be kept to test the model prediction\n",
    "\n",
    "X_train, X_test, y_train, y_test = train_test_split(x, y, test_size=0.2)"
   ]
  },
  {
   "cell_type": "code",
   "execution_count": 48,
   "id": "bb263166",
   "metadata": {},
   "outputs": [
    {
     "data": {
      "text/html": [
       "<div>\n",
       "<style scoped>\n",
       "    .dataframe tbody tr th:only-of-type {\n",
       "        vertical-align: middle;\n",
       "    }\n",
       "\n",
       "    .dataframe tbody tr th {\n",
       "        vertical-align: top;\n",
       "    }\n",
       "\n",
       "    .dataframe thead th {\n",
       "        text-align: right;\n",
       "    }\n",
       "</style>\n",
       "<table border=\"1\" class=\"dataframe\">\n",
       "  <thead>\n",
       "    <tr style=\"text-align: right;\">\n",
       "      <th></th>\n",
       "      <th>total sulfur dioxide</th>\n",
       "      <th>free sulfur dioxide</th>\n",
       "    </tr>\n",
       "  </thead>\n",
       "  <tbody>\n",
       "    <tr>\n",
       "      <th>794</th>\n",
       "      <td>26.0</td>\n",
       "      <td>7.0</td>\n",
       "    </tr>\n",
       "    <tr>\n",
       "      <th>1517</th>\n",
       "      <td>44.0</td>\n",
       "      <td>29.0</td>\n",
       "    </tr>\n",
       "    <tr>\n",
       "      <th>367</th>\n",
       "      <td>24.0</td>\n",
       "      <td>11.0</td>\n",
       "    </tr>\n",
       "    <tr>\n",
       "      <th>473</th>\n",
       "      <td>14.0</td>\n",
       "      <td>5.0</td>\n",
       "    </tr>\n",
       "    <tr>\n",
       "      <th>1530</th>\n",
       "      <td>18.0</td>\n",
       "      <td>9.0</td>\n",
       "    </tr>\n",
       "  </tbody>\n",
       "</table>\n",
       "</div>"
      ],
      "text/plain": [
       "      total sulfur dioxide  free sulfur dioxide\n",
       "794                   26.0                  7.0\n",
       "1517                  44.0                 29.0\n",
       "367                   24.0                 11.0\n",
       "473                   14.0                  5.0\n",
       "1530                  18.0                  9.0"
      ]
     },
     "execution_count": 48,
     "metadata": {},
     "output_type": "execute_result"
    }
   ],
   "source": [
    "# to better understand what train and test split does, lets print the four outcomes one by one:\n",
    "X_train.head()"
   ]
  },
  {
   "cell_type": "code",
   "execution_count": 49,
   "id": "1847e82a",
   "metadata": {},
   "outputs": [
    {
     "data": {
      "text/plain": [
       "794     0\n",
       "1517    0\n",
       "367     0\n",
       "473     0\n",
       "1530    0\n",
       "Name: clf, dtype: int64"
      ]
     },
     "execution_count": 49,
     "metadata": {},
     "output_type": "execute_result"
    }
   ],
   "source": [
    "y_train.head()"
   ]
  },
  {
   "cell_type": "code",
   "execution_count": 50,
   "id": "962e96cf",
   "metadata": {},
   "outputs": [
    {
     "data": {
      "text/html": [
       "<div>\n",
       "<style scoped>\n",
       "    .dataframe tbody tr th:only-of-type {\n",
       "        vertical-align: middle;\n",
       "    }\n",
       "\n",
       "    .dataframe tbody tr th {\n",
       "        vertical-align: top;\n",
       "    }\n",
       "\n",
       "    .dataframe thead th {\n",
       "        text-align: right;\n",
       "    }\n",
       "</style>\n",
       "<table border=\"1\" class=\"dataframe\">\n",
       "  <thead>\n",
       "    <tr style=\"text-align: right;\">\n",
       "      <th></th>\n",
       "      <th>total sulfur dioxide</th>\n",
       "      <th>free sulfur dioxide</th>\n",
       "    </tr>\n",
       "  </thead>\n",
       "  <tbody>\n",
       "    <tr>\n",
       "      <th>1352</th>\n",
       "      <td>57.0</td>\n",
       "      <td>14.0</td>\n",
       "    </tr>\n",
       "    <tr>\n",
       "      <th>489</th>\n",
       "      <td>26.0</td>\n",
       "      <td>10.0</td>\n",
       "    </tr>\n",
       "    <tr>\n",
       "      <th>497</th>\n",
       "      <td>113.0</td>\n",
       "      <td>43.0</td>\n",
       "    </tr>\n",
       "    <tr>\n",
       "      <th>1243</th>\n",
       "      <td>86.0</td>\n",
       "      <td>10.0</td>\n",
       "    </tr>\n",
       "    <tr>\n",
       "      <th>601</th>\n",
       "      <td>35.0</td>\n",
       "      <td>12.0</td>\n",
       "    </tr>\n",
       "  </tbody>\n",
       "</table>\n",
       "</div>"
      ],
      "text/plain": [
       "      total sulfur dioxide  free sulfur dioxide\n",
       "1352                  57.0                 14.0\n",
       "489                   26.0                 10.0\n",
       "497                  113.0                 43.0\n",
       "1243                  86.0                 10.0\n",
       "601                   35.0                 12.0"
      ]
     },
     "execution_count": 50,
     "metadata": {},
     "output_type": "execute_result"
    }
   ],
   "source": [
    "X_test.head()"
   ]
  },
  {
   "cell_type": "code",
   "execution_count": 52,
   "id": "dfd4e38d",
   "metadata": {},
   "outputs": [
    {
     "data": {
      "text/plain": [
       "1352    0\n",
       "489     0\n",
       "497     0\n",
       "1243    0\n",
       "601     0\n",
       "Name: clf, dtype: int64"
      ]
     },
     "execution_count": 52,
     "metadata": {},
     "output_type": "execute_result"
    }
   ],
   "source": [
    "y_test.head()"
   ]
  },
  {
   "cell_type": "markdown",
   "id": "85b090b1",
   "metadata": {},
   "source": [
    "#### Model Training\n",
    "We have now created a train set with its associated outcome (0 or 1) and a test set with its associated outcome as well (1) and it is time to train a model.\n",
    "\n",
    "One of the simplest classification algorithms is based on a logistic regression, or sigmoid function. The sigmoid takes any value and outputs a value between 0 and 1, basically a probability that a point belongs to the 0 or the 1 class\n"
   ]
  },
  {
   "cell_type": "code",
   "execution_count": 17,
   "id": "b81723a2",
   "metadata": {},
   "outputs": [
    {
     "data": {
      "text/plain": [
       "LogisticRegression()"
      ]
     },
     "execution_count": 17,
     "metadata": {},
     "output_type": "execute_result"
    }
   ],
   "source": [
    "#we instanciate the model as a Logistic Regression from sklearn\n",
    "\n",
    "mdl = LogisticRegression()\n",
    "\n",
    "#and then we train (fit) the model using our training data\n",
    "mdl.fit(X_train, y_train)"
   ]
  },
  {
   "cell_type": "code",
   "execution_count": 18,
   "id": "5ea24b56",
   "metadata": {},
   "outputs": [
    {
     "data": {
      "text/plain": [
       "array([0, 0, 0, 0, 0, 0, 0, 0, 0, 0, 0, 0, 0, 0, 0, 0, 0, 0, 0, 0, 0, 0,\n",
       "       0, 0, 0, 0, 0, 0, 0, 0, 0, 0, 0, 0, 0, 0, 0, 0, 0, 0, 0, 0, 0, 0,\n",
       "       0, 0, 0, 0, 0, 0, 0, 0, 0, 0, 0, 0, 0, 0, 0, 0, 0, 0, 0, 0, 0, 0,\n",
       "       0, 0, 0, 0, 0, 0, 0, 0, 0, 0, 0, 0, 0, 0, 0, 0, 0, 0, 0, 0, 0, 0,\n",
       "       0, 0, 0, 0, 0, 0, 0, 0, 0, 0, 0, 0, 0, 0, 0, 0, 0, 0, 0, 0, 0, 0,\n",
       "       0, 0, 0, 0, 0, 0, 0, 0, 0, 0, 0, 0, 0, 0, 0, 0, 0, 0, 0, 0, 0, 0,\n",
       "       0, 0, 0, 0, 0, 0, 0, 0, 0, 0, 0, 0, 0, 0, 0, 0, 0, 0, 0, 0, 0, 0,\n",
       "       0, 0, 0, 0, 0, 0, 0, 0, 0, 0, 0, 0, 0, 0, 0, 0, 0, 0, 0, 0, 0, 0,\n",
       "       0, 0, 0, 0, 0, 0, 0, 0, 0, 0, 0, 0, 0, 0, 0, 0, 0, 0, 0, 0, 0, 0,\n",
       "       0, 0, 0, 0, 0, 0, 0, 0, 0, 0, 0, 0, 0, 0, 0, 0, 0, 0, 0, 0, 0, 0,\n",
       "       0, 0, 0, 0, 0, 0, 0, 0, 0, 0, 0, 0, 0, 0, 0, 0, 0, 0, 0, 0, 0, 0,\n",
       "       0, 0, 0, 0, 0, 0, 0, 0, 0, 0, 0, 0, 0, 0, 0, 0, 0, 0, 0, 0, 0, 0,\n",
       "       0, 0, 0, 0, 0, 0, 0, 0, 0, 0, 0, 0, 0, 0, 0, 0, 0, 0, 0, 0, 0, 0,\n",
       "       0, 0, 0, 0, 0, 0, 0, 0, 0, 0, 0, 0, 0, 0, 0, 0, 0, 0, 0, 0, 0, 0,\n",
       "       0, 0, 0, 0, 0, 0, 0, 0, 0, 0, 0, 0], dtype=int64)"
      ]
     },
     "execution_count": 18,
     "metadata": {},
     "output_type": "execute_result"
    }
   ],
   "source": [
    "#we then predict the probability of the wines in the test set being 0 (first column) or 1 (second column)\n",
    "pred = mdl.predict(X_test)\n",
    "pred"
   ]
  },
  {
   "cell_type": "markdown",
   "id": "f0d32c77",
   "metadata": {},
   "source": [
    "#### Model performance\n",
    "We have trained a Logistic Regression model using a train set, and predicted the outcome on a test set for which we have the actual values. Let's check how good our model did.\n",
    "We can use the classification report and the confusion matrix methods built-in in sklearn."
   ]
  },
  {
   "cell_type": "code",
   "execution_count": 19,
   "id": "db7387bb",
   "metadata": {},
   "outputs": [],
   "source": [
    "from sklearn import metrics\n",
    "from sklearn.metrics import classification_report\n",
    "from sklearn.metrics import confusion_matrix"
   ]
  },
  {
   "cell_type": "code",
   "execution_count": 20,
   "id": "ee6e0ad9",
   "metadata": {},
   "outputs": [
    {
     "name": "stdout",
     "output_type": "stream",
     "text": [
      "              precision    recall  f1-score   support\n",
      "\n",
      "           0       0.85      1.00      0.92       273\n",
      "           1       0.00      0.00      0.00        47\n",
      "\n",
      "    accuracy                           0.85       320\n",
      "   macro avg       0.43      0.50      0.46       320\n",
      "weighted avg       0.73      0.85      0.79       320\n",
      "\n"
     ]
    },
    {
     "name": "stderr",
     "output_type": "stream",
     "text": [
      "C:\\Users\\Gemma\\Anaconda3\\envs\\udemy\\lib\\site-packages\\sklearn\\metrics\\_classification.py:1308: UndefinedMetricWarning: Precision and F-score are ill-defined and being set to 0.0 in labels with no predicted samples. Use `zero_division` parameter to control this behavior.\n",
      "  _warn_prf(average, modifier, msg_start, len(result))\n",
      "C:\\Users\\Gemma\\Anaconda3\\envs\\udemy\\lib\\site-packages\\sklearn\\metrics\\_classification.py:1308: UndefinedMetricWarning: Precision and F-score are ill-defined and being set to 0.0 in labels with no predicted samples. Use `zero_division` parameter to control this behavior.\n",
      "  _warn_prf(average, modifier, msg_start, len(result))\n",
      "C:\\Users\\Gemma\\Anaconda3\\envs\\udemy\\lib\\site-packages\\sklearn\\metrics\\_classification.py:1308: UndefinedMetricWarning: Precision and F-score are ill-defined and being set to 0.0 in labels with no predicted samples. Use `zero_division` parameter to control this behavior.\n",
      "  _warn_prf(average, modifier, msg_start, len(result))\n"
     ]
    }
   ],
   "source": [
    "print(classification_report(y_test,pred))"
   ]
  },
  {
   "cell_type": "code",
   "execution_count": 21,
   "id": "b7094830",
   "metadata": {},
   "outputs": [
    {
     "data": {
      "text/plain": [
       "array([[273,   0],\n",
       "       [ 47,   0]], dtype=int64)"
      ]
     },
     "execution_count": 21,
     "metadata": {},
     "output_type": "execute_result"
    }
   ],
   "source": [
    "confusion_matrix(y_test, pred)"
   ]
  },
  {
   "cell_type": "code",
   "execution_count": 22,
   "id": "c526676b",
   "metadata": {},
   "outputs": [
    {
     "data": {
      "text/plain": [
       "[Text(0, 0.5, 'Bad'), Text(0, 1.5, 'Good')]"
      ]
     },
     "execution_count": 22,
     "metadata": {},
     "output_type": "execute_result"
    },
    {
     "data": {
      "image/png": "[encoded data removed]",
      "text/plain": [
       "<Figure size 432x288 with 1 Axes>"
      ]
     },
     "metadata": {
      "needs_background": "light"
     },
     "output_type": "display_data"
    }
   ],
   "source": [
    "import seaborn as sns\n",
    "\n",
    "cf_matrix = confusion_matrix(y_test, pred)\n",
    "\n",
    "ax = sns.heatmap(cf_matrix, annot=True, cmap='Greens', cbar=False, annot_kws={\"size\": 16})\n",
    "ax.set_title(\"Predicted vs Real Quality\", fontsize=14)\n",
    "ax.set_xlabel('Predicted', fontsize=14)\n",
    "ax.set_ylabel('Real', fontsize=14);\n",
    "\n",
    "## Ticket labels - List must be in alphabetical order\n",
    "ax.xaxis.set_ticklabels(['Bad','Good'], fontsize=14)\n",
    "ax.yaxis.set_ticklabels(['Bad','Good'], fontsize=14)\n"
   ]
  },
  {
   "cell_type": "markdown",
   "id": "4b380e53",
   "metadata": {},
   "source": [
    "So, our model cannot very accurately predict if a wine is good using only the Sulfur Dioxide content of each wine as input. Let's try to add all the variables we have as input:"
   ]
  },
  {
   "cell_type": "code",
   "execution_count": 23,
   "id": "dde41f0e",
   "metadata": {},
   "outputs": [
    {
     "data": {
      "text/plain": [
       "Index(['name', 'fixed acidity', 'volatile acidity', 'citric acid',\n",
       "       'residual sugar', 'chlorides', 'free sulfur dioxide',\n",
       "       'total sulfur dioxide', 'density', 'pH', 'sulphates', 'alcohol',\n",
       "       'quality', 'clf'],\n",
       "      dtype='object')"
      ]
     },
     "execution_count": 23,
     "metadata": {},
     "output_type": "execute_result"
    }
   ],
   "source": [
    "df.columns"
   ]
  },
  {
   "cell_type": "code",
   "execution_count": 53,
   "id": "d1340a5e",
   "metadata": {},
   "outputs": [],
   "source": [
    "x = df[['fixed acidity', 'volatile acidity', 'citric acid',\n",
    "       'residual sugar', 'chlorides', 'free sulfur dioxide',\n",
    "       'total sulfur dioxide', 'density', 'pH', 'sulphates', 'alcohol']]"
   ]
  },
  {
   "cell_type": "code",
   "execution_count": 54,
   "id": "ece518ab",
   "metadata": {},
   "outputs": [],
   "source": [
    "X_train, X_test, y_train, y_test = train_test_split(x, y, test_size=0.2)"
   ]
  },
  {
   "cell_type": "code",
   "execution_count": 55,
   "id": "c0f2b5df",
   "metadata": {},
   "outputs": [
    {
     "data": {
      "text/html": [
       "<div>\n",
       "<style scoped>\n",
       "    .dataframe tbody tr th:only-of-type {\n",
       "        vertical-align: middle;\n",
       "    }\n",
       "\n",
       "    .dataframe tbody tr th {\n",
       "        vertical-align: top;\n",
       "    }\n",
       "\n",
       "    .dataframe thead th {\n",
       "        text-align: right;\n",
       "    }\n",
       "</style>\n",
       "<table border=\"1\" class=\"dataframe\">\n",
       "  <thead>\n",
       "    <tr style=\"text-align: right;\">\n",
       "      <th></th>\n",
       "      <th>fixed acidity</th>\n",
       "      <th>volatile acidity</th>\n",
       "      <th>citric acid</th>\n",
       "      <th>residual sugar</th>\n",
       "      <th>chlorides</th>\n",
       "      <th>free sulfur dioxide</th>\n",
       "      <th>total sulfur dioxide</th>\n",
       "      <th>density</th>\n",
       "      <th>pH</th>\n",
       "      <th>sulphates</th>\n",
       "      <th>alcohol</th>\n",
       "    </tr>\n",
       "  </thead>\n",
       "  <tbody>\n",
       "    <tr>\n",
       "      <th>354</th>\n",
       "      <td>6.1</td>\n",
       "      <td>0.210</td>\n",
       "      <td>0.40</td>\n",
       "      <td>1.4</td>\n",
       "      <td>0.066</td>\n",
       "      <td>40.5</td>\n",
       "      <td>165.0</td>\n",
       "      <td>0.99120</td>\n",
       "      <td>3.25</td>\n",
       "      <td>0.59</td>\n",
       "      <td>11.9</td>\n",
       "    </tr>\n",
       "    <tr>\n",
       "      <th>1001</th>\n",
       "      <td>9.9</td>\n",
       "      <td>0.350</td>\n",
       "      <td>0.38</td>\n",
       "      <td>1.5</td>\n",
       "      <td>0.058</td>\n",
       "      <td>31.0</td>\n",
       "      <td>47.0</td>\n",
       "      <td>0.99676</td>\n",
       "      <td>3.26</td>\n",
       "      <td>0.82</td>\n",
       "      <td>10.6</td>\n",
       "    </tr>\n",
       "    <tr>\n",
       "      <th>1351</th>\n",
       "      <td>7.2</td>\n",
       "      <td>0.620</td>\n",
       "      <td>0.01</td>\n",
       "      <td>2.3</td>\n",
       "      <td>0.065</td>\n",
       "      <td>8.0</td>\n",
       "      <td>46.0</td>\n",
       "      <td>0.99332</td>\n",
       "      <td>3.32</td>\n",
       "      <td>0.51</td>\n",
       "      <td>11.8</td>\n",
       "    </tr>\n",
       "    <tr>\n",
       "      <th>157</th>\n",
       "      <td>7.1</td>\n",
       "      <td>0.430</td>\n",
       "      <td>0.42</td>\n",
       "      <td>5.5</td>\n",
       "      <td>0.071</td>\n",
       "      <td>28.0</td>\n",
       "      <td>128.0</td>\n",
       "      <td>0.99730</td>\n",
       "      <td>3.42</td>\n",
       "      <td>0.71</td>\n",
       "      <td>10.5</td>\n",
       "    </tr>\n",
       "    <tr>\n",
       "      <th>42</th>\n",
       "      <td>7.5</td>\n",
       "      <td>0.490</td>\n",
       "      <td>0.20</td>\n",
       "      <td>2.6</td>\n",
       "      <td>0.332</td>\n",
       "      <td>8.0</td>\n",
       "      <td>14.0</td>\n",
       "      <td>0.99680</td>\n",
       "      <td>3.21</td>\n",
       "      <td>0.90</td>\n",
       "      <td>10.5</td>\n",
       "    </tr>\n",
       "    <tr>\n",
       "      <th>...</th>\n",
       "      <td>...</td>\n",
       "      <td>...</td>\n",
       "      <td>...</td>\n",
       "      <td>...</td>\n",
       "      <td>...</td>\n",
       "      <td>...</td>\n",
       "      <td>...</td>\n",
       "      <td>...</td>\n",
       "      <td>...</td>\n",
       "      <td>...</td>\n",
       "      <td>...</td>\n",
       "    </tr>\n",
       "    <tr>\n",
       "      <th>1044</th>\n",
       "      <td>6.4</td>\n",
       "      <td>0.390</td>\n",
       "      <td>0.33</td>\n",
       "      <td>3.3</td>\n",
       "      <td>0.046</td>\n",
       "      <td>12.0</td>\n",
       "      <td>53.0</td>\n",
       "      <td>0.99294</td>\n",
       "      <td>3.36</td>\n",
       "      <td>0.62</td>\n",
       "      <td>12.2</td>\n",
       "    </tr>\n",
       "    <tr>\n",
       "      <th>432</th>\n",
       "      <td>11.9</td>\n",
       "      <td>0.370</td>\n",
       "      <td>0.69</td>\n",
       "      <td>2.3</td>\n",
       "      <td>0.078</td>\n",
       "      <td>12.0</td>\n",
       "      <td>24.0</td>\n",
       "      <td>0.99580</td>\n",
       "      <td>3.00</td>\n",
       "      <td>0.65</td>\n",
       "      <td>12.8</td>\n",
       "    </tr>\n",
       "    <tr>\n",
       "      <th>722</th>\n",
       "      <td>7.6</td>\n",
       "      <td>0.420</td>\n",
       "      <td>0.08</td>\n",
       "      <td>2.7</td>\n",
       "      <td>0.084</td>\n",
       "      <td>15.0</td>\n",
       "      <td>48.0</td>\n",
       "      <td>0.99680</td>\n",
       "      <td>3.21</td>\n",
       "      <td>0.59</td>\n",
       "      <td>10.0</td>\n",
       "    </tr>\n",
       "    <tr>\n",
       "      <th>485</th>\n",
       "      <td>10.2</td>\n",
       "      <td>0.670</td>\n",
       "      <td>0.39</td>\n",
       "      <td>1.9</td>\n",
       "      <td>0.054</td>\n",
       "      <td>6.0</td>\n",
       "      <td>17.0</td>\n",
       "      <td>0.99760</td>\n",
       "      <td>3.17</td>\n",
       "      <td>0.47</td>\n",
       "      <td>10.0</td>\n",
       "    </tr>\n",
       "    <tr>\n",
       "      <th>1531</th>\n",
       "      <td>6.1</td>\n",
       "      <td>0.705</td>\n",
       "      <td>0.10</td>\n",
       "      <td>2.8</td>\n",
       "      <td>0.081</td>\n",
       "      <td>13.0</td>\n",
       "      <td>28.0</td>\n",
       "      <td>0.99631</td>\n",
       "      <td>3.60</td>\n",
       "      <td>0.66</td>\n",
       "      <td>10.2</td>\n",
       "    </tr>\n",
       "  </tbody>\n",
       "</table>\n",
       "<p>1279 rows × 11 columns</p>\n",
       "</div>"
      ],
      "text/plain": [
       "      fixed acidity  volatile acidity  citric acid  residual sugar  chlorides  \\\n",
       "354             6.1             0.210         0.40             1.4      0.066   \n",
       "1001            9.9             0.350         0.38             1.5      0.058   \n",
       "1351            7.2             0.620         0.01             2.3      0.065   \n",
       "157             7.1             0.430         0.42             5.5      0.071   \n",
       "42              7.5             0.490         0.20             2.6      0.332   \n",
       "...             ...               ...          ...             ...        ...   \n",
       "1044            6.4             0.390         0.33             3.3      0.046   \n",
       "432            11.9             0.370         0.69             2.3      0.078   \n",
       "722             7.6             0.420         0.08             2.7      0.084   \n",
       "485            10.2             0.670         0.39             1.9      0.054   \n",
       "1531            6.1             0.705         0.10             2.8      0.081   \n",
       "\n",
       "      free sulfur dioxide  total sulfur dioxide  density    pH  sulphates  \\\n",
       "354                  40.5                 165.0  0.99120  3.25       0.59   \n",
       "1001                 31.0                  47.0  0.99676  3.26       0.82   \n",
       "1351                  8.0                  46.0  0.99332  3.32       0.51   \n",
       "157                  28.0                 128.0  0.99730  3.42       0.71   \n",
       "42                    8.0                  14.0  0.99680  3.21       0.90   \n",
       "...                   ...                   ...      ...   ...        ...   \n",
       "1044                 12.0                  53.0  0.99294  3.36       0.62   \n",
       "432                  12.0                  24.0  0.99580  3.00       0.65   \n",
       "722                  15.0                  48.0  0.99680  3.21       0.59   \n",
       "485                   6.0                  17.0  0.99760  3.17       0.47   \n",
       "1531                 13.0                  28.0  0.99631  3.60       0.66   \n",
       "\n",
       "      alcohol  \n",
       "354      11.9  \n",
       "1001     10.6  \n",
       "1351     11.8  \n",
       "157      10.5  \n",
       "42       10.5  \n",
       "...       ...  \n",
       "1044     12.2  \n",
       "432      12.8  \n",
       "722      10.0  \n",
       "485      10.0  \n",
       "1531     10.2  \n",
       "\n",
       "[1279 rows x 11 columns]"
      ]
     },
     "execution_count": 55,
     "metadata": {},
     "output_type": "execute_result"
    }
   ],
   "source": [
    "X_train #X is a dataframe containing the relevant columns for prediction"
   ]
  },
  {
   "cell_type": "code",
   "execution_count": 56,
   "id": "ef9bbc30",
   "metadata": {},
   "outputs": [
    {
     "name": "stderr",
     "output_type": "stream",
     "text": [
      "[Parallel(n_jobs=1)]: Using backend SequentialBackend with 1 concurrent workers.\n",
      "[Parallel(n_jobs=1)]: Done   1 out of   1 | elapsed:    2.5s remaining:    0.0s\n",
      "[Parallel(n_jobs=1)]: Done   1 out of   1 | elapsed:    2.5s finished\n"
     ]
    },
    {
     "data": {
      "text/plain": [
       "LogisticRegression(max_iter=10000, verbose=3)"
      ]
     },
     "execution_count": 56,
     "metadata": {},
     "output_type": "execute_result"
    }
   ],
   "source": [
    "mdl = LogisticRegression(max_iter=10000, verbose=3)\n",
    "mdl.fit(X_train, y_train)"
   ]
  },
  {
   "cell_type": "code",
   "execution_count": 57,
   "id": "ddbddc97",
   "metadata": {},
   "outputs": [],
   "source": [
    "pred = mdl.predict(X_test)"
   ]
  },
  {
   "cell_type": "code",
   "execution_count": 58,
   "id": "4eecb2aa",
   "metadata": {},
   "outputs": [
    {
     "data": {
      "text/plain": [
       "[Text(0, 0.5, 'Bad'), Text(0, 1.5, 'Good')]"
      ]
     },
     "execution_count": 58,
     "metadata": {},
     "output_type": "execute_result"
    },
    {
     "data": {
      "image/png": "[encoded data removed]",
      "text/plain": [
       "<Figure size 432x288 with 1 Axes>"
      ]
     },
     "metadata": {
      "needs_background": "light"
     },
     "output_type": "display_data"
    }
   ],
   "source": [
    "cf_matrix = confusion_matrix(y_test, pred)\n",
    "\n",
    "ax = sns.heatmap(cf_matrix, annot=True, cmap='Greens', cbar=False, annot_kws={\"size\": 16})\n",
    "ax.set_title(\"Predicted vs Real Quality\", fontsize=14)\n",
    "ax.set_xlabel('Predicted', fontsize=14)\n",
    "ax.set_ylabel('Real', fontsize=14);\n",
    "\n",
    "## Ticket labels - List must be in alphabetical order\n",
    "ax.xaxis.set_ticklabels(['Bad','Good'], fontsize=14)\n",
    "ax.yaxis.set_ticklabels(['Bad','Good'], fontsize=14)"
   ]
  },
  {
   "cell_type": "markdown",
   "id": "94172266",
   "metadata": {},
   "source": [
    "### ROC-AUC curve\n",
    "Using the predict_proba function of sklearn, we can create a ROC curve to evaluate the model performance"
   ]
  },
  {
   "cell_type": "code",
   "execution_count": 63,
   "id": "d21eb1ff",
   "metadata": {},
   "outputs": [
    {
     "data": {
      "image/png": "[encoded data removed]",
      "text/plain": [
       "<Figure size 432x288 with 1 Axes>"
      ]
     },
     "metadata": {
      "needs_background": "light"
     },
     "output_type": "display_data"
    }
   ],
   "source": [
    "pred_prob = mdl.predict_proba(X_test)\n",
    "\n",
    "fpr, tpr, _ = metrics.roc_curve(y_test,  pred_prob[:,1]) #we are interested in the probability of being 1 (good)\n",
    "auc = metrics.roc_auc_score(y_test, pred_prob[:,1])\n",
    "plt.plot(fpr,tpr,label=\"auc=\"+str(auc))\n",
    "plt.legend(loc=4)\n",
    "plt.show()"
   ]
  },
  {
   "cell_type": "markdown",
   "id": "879fa18a",
   "metadata": {},
   "source": [
    "Training the model with a better description of the wines has improved the performance (of the 24 predicted good wines, 7 were actually good), but we might want to refine it further. In this situation, there is a number of options to continue:\n",
    "- Increase the training sample\n",
    "- Increase the number of wine descriptors\n",
    "- Choose another algorithm"
   ]
  },
  {
   "cell_type": "markdown",
   "id": "9638b09c",
   "metadata": {},
   "source": [
    "### Regression task\n",
    "\n",
    "We have seen how to train a classification. We can use the same dataset to train a regression, if we consider the quality of the wine to be a continuous variable (from 0 to 10).\n",
    "\n",
    "First, we need to create a train/test split where the y's, this time, will be the `quality` column instead of the `clf` column."
   ]
  },
  {
   "cell_type": "code",
   "execution_count": 30,
   "id": "d2899e9e",
   "metadata": {},
   "outputs": [],
   "source": [
    "x = df[['fixed acidity', 'volatile acidity', 'citric acid',\n",
    "       'residual sugar', 'chlorides', 'free sulfur dioxide',\n",
    "       'total sulfur dioxide', 'density', 'pH', 'sulphates', 'alcohol']]\n",
    "\n",
    "y=df[\"quality\"]\n",
    "\n",
    "X_train, X_test, y_train, y_test = train_test_split(x, y, test_size=0.2)"
   ]
  },
  {
   "cell_type": "markdown",
   "id": "13d16c05",
   "metadata": {},
   "source": [
    "Now, we will import a sklearn model for Linear Regression, the simplest regression type."
   ]
  },
  {
   "cell_type": "code",
   "execution_count": 34,
   "id": "bfe9a3c4",
   "metadata": {},
   "outputs": [],
   "source": [
    "from sklearn.linear_model import LinearRegression"
   ]
  },
  {
   "cell_type": "code",
   "execution_count": 36,
   "id": "c7337a4b",
   "metadata": {},
   "outputs": [
    {
     "data": {
      "text/plain": [
       "LinearRegression()"
      ]
     },
     "execution_count": 36,
     "metadata": {},
     "output_type": "execute_result"
    }
   ],
   "source": [
    "mdl = LinearRegression()\n",
    "mdl.fit(X_train, y_train)"
   ]
  },
  {
   "cell_type": "code",
   "execution_count": 39,
   "id": "11d17b24",
   "metadata": {},
   "outputs": [
    {
     "data": {
      "text/plain": [
       "array([5.76130993, 5.38555692, 4.98721728, 6.74647428, 5.96933667,\n",
       "       6.38332651, 5.49351458, 6.13365519, 5.25006887, 6.11326553,\n",
       "       5.87043749, 6.24222961, 5.20500595, 5.04897881, 5.78364406,\n",
       "       6.43253908, 4.26276372, 5.05008735, 5.82402913, 6.84279287,\n",
       "       6.46159675, 5.12289719, 5.98500423, 5.80461487, 5.84332858,\n",
       "       6.18531024, 5.57101188, 5.59637751, 5.19985828, 5.26462329,\n",
       "       5.38196334, 5.83787412, 4.97367997, 6.66092697, 4.97405153,\n",
       "       5.31331215, 5.05072833, 5.73933102, 5.4621585 , 5.42394958,\n",
       "       6.76523832, 5.87438507, 5.15828373, 6.58059712, 5.17875096,\n",
       "       4.98027151, 5.96219636, 5.58061034, 5.29411201, 5.51352004,\n",
       "       5.11797541, 6.51237162, 5.38951874, 5.13861537, 5.59106026,\n",
       "       6.38710976, 6.20316195, 5.53326499, 5.8736259 , 4.4745085 ,\n",
       "       6.08568676, 4.76762449, 5.39016242, 5.44668786, 6.75945597,\n",
       "       5.62991593, 6.52831824, 5.28562386, 6.45745213, 6.06207394,\n",
       "       5.50970131, 5.06921856, 5.81821561, 5.12498727, 5.25972985,\n",
       "       5.2039948 , 5.88476265, 6.23371076, 6.29731356, 6.49068093,\n",
       "       5.40957985, 6.3045551 , 5.36954022, 5.61289105, 6.01032057,\n",
       "       5.7804767 , 6.41088449, 5.1106618 , 5.2039948 , 5.80260396,\n",
       "       5.56868283, 5.91030539, 6.41320197, 5.76623729, 5.68692592,\n",
       "       5.60043388, 6.348855  , 5.11893671, 6.05496209, 5.79445086,\n",
       "       5.18318636, 5.2928365 , 6.47547112, 4.80470915, 5.36440708,\n",
       "       6.21253583, 5.35867766, 5.63376187, 6.76668509, 6.19402706,\n",
       "       5.09681441, 5.72445831, 6.67084364, 5.89121446, 5.55926378,\n",
       "       5.64844902, 5.50546963, 6.7675503 , 5.63672086, 5.80627402,\n",
       "       5.73830301, 5.14146356, 6.05046614, 5.20175883, 5.44478839,\n",
       "       5.36952007, 6.3568999 , 5.56718172, 5.98947971, 5.14630209,\n",
       "       5.6872269 , 5.29926762, 5.57809683, 5.27564612, 5.37527269,\n",
       "       6.18907872, 5.99658167, 5.47505952, 6.2017399 , 5.56274491,\n",
       "       6.2194866 , 6.09064871, 5.3842318 , 5.0581554 , 5.95916475,\n",
       "       5.39635081, 6.13555252, 6.29519722, 6.36504915, 5.38239044,\n",
       "       6.66484771, 5.33786247, 5.58116637, 4.94684479, 5.88657197,\n",
       "       5.27908901, 5.30838119, 4.81505398, 5.18295638, 5.06874765,\n",
       "       5.15440745, 6.58059712, 5.48438451, 4.63587893, 5.02233018,\n",
       "       5.95957536, 5.19231029, 5.76305148, 5.81148222, 5.9806341 ,\n",
       "       6.28378899, 5.92521513, 5.62840901, 5.48894197, 5.53396488,\n",
       "       6.06207394, 6.01032057, 6.12460018, 5.08809413, 5.27740598,\n",
       "       5.24959272, 5.8702501 , 5.58366905, 6.17875811, 4.81665754,\n",
       "       5.21963346, 5.86972486, 5.74908733, 5.58115024, 5.37527269,\n",
       "       5.28038081, 5.51039311, 5.47207869, 5.63081888, 5.74167603,\n",
       "       5.10203375, 6.1780943 , 5.32189661, 5.26401431, 5.337476  ,\n",
       "       5.27370688, 5.71764124, 4.9836882 , 4.88753545, 5.96383787,\n",
       "       6.16903193, 5.51078534, 5.21802392, 5.7631939 , 6.50462668,\n",
       "       5.96625789, 6.35693158, 5.00910301, 5.58424658, 4.81116425,\n",
       "       5.41417795, 5.54917256, 6.43891566, 5.19428691, 6.04797997,\n",
       "       5.90267714, 5.05820976, 5.98025565, 5.09948022, 5.37827987,\n",
       "       4.8795701 , 4.84869701, 6.1231193 , 6.04423298, 5.49703979,\n",
       "       6.20283826, 5.13194601, 5.74239368, 5.93113861, 5.29454511,\n",
       "       6.66301382, 5.3010155 , 5.13107575, 5.54903997, 6.01728189,\n",
       "       5.69233648, 5.00730969, 5.65260302, 5.4758319 , 6.165745  ,\n",
       "       5.43785237, 5.23721703, 5.4093237 , 5.23252347, 5.78603981,\n",
       "       5.51421419, 6.95965698, 5.51701369, 5.49490275, 6.38082917,\n",
       "       6.04885306, 5.54851375, 5.55758124, 5.34612724, 5.52334564,\n",
       "       5.57235776, 5.37793358, 5.54009593, 6.16156798, 5.31458437,\n",
       "       6.47123509, 5.26163595, 5.40489021, 5.5479711 , 5.74624228,\n",
       "       4.95958352, 6.52831824, 5.24403115, 6.29049241, 6.14282572,\n",
       "       5.29925285, 5.24573125, 6.27570583, 5.83124066, 6.23773729,\n",
       "       6.07408613, 5.14930391, 6.26549748, 6.0891489 , 5.58480754,\n",
       "       5.56710695, 5.88626215, 6.45513752, 6.64803724, 6.33169499,\n",
       "       4.96405387, 5.75227755, 5.07230457, 6.59221587, 5.56699101,\n",
       "       5.65605311, 5.76672523, 6.13934645, 5.29166016, 5.33427786,\n",
       "       5.56883603, 6.01725818, 6.15619085, 4.98360892, 6.48182319,\n",
       "       6.35465982, 5.54758413, 6.10567845, 5.83136378, 5.87237048,\n",
       "       4.86256203, 5.23051324, 5.03602991, 5.78190677, 5.19900085,\n",
       "       4.99155361, 4.76250397, 5.56681171, 5.20614078, 5.68838456])"
      ]
     },
     "execution_count": 39,
     "metadata": {},
     "output_type": "execute_result"
    }
   ],
   "source": [
    "pred = mdl.predict(X_test)\n",
    "pred"
   ]
  },
  {
   "cell_type": "markdown",
   "id": "79a4d592",
   "metadata": {},
   "source": [
    "#### Metrics for regression\n",
    "\n",
    "In this case, we will use the MAE, MSE and RMSE values. We can import the MAE and MSE formulas from sklearn and then calculate the RMSE and R"
   ]
  },
  {
   "cell_type": "code",
   "execution_count": 44,
   "id": "672e12d1",
   "metadata": {},
   "outputs": [
    {
     "name": "stdout",
     "output_type": "stream",
     "text": [
      "MAE:0.5048586006434848\n",
      "MSE:0.43805458108095624\n",
      "RMSE:0.6618569188887854\n",
      "R2:0.31803713964531266\n"
     ]
    }
   ],
   "source": [
    "mae = metrics.mean_absolute_error(y_test, pred)\n",
    "mse = metrics.mean_squared_error(y_test, pred)\n",
    "rmse = mse**(0.5)  \n",
    "r2 = metrics.r2_score(y_test, pred)\n",
    "\n",
    "print(\"MAE:\"+ str(mae))\n",
    "print(\"MSE:\" + str(mse))\n",
    "print(\"RMSE:\" + str(rmse))\n",
    "print(\"R2:\" + str(r2))"
   ]
  },
  {
   "cell_type": "code",
   "execution_count": 45,
   "id": "979a3dce",
   "metadata": {},
   "outputs": [
    {
     "data": {
      "text/plain": [
       "<matplotlib.collections.PathCollection at 0x17938023b48>"
      ]
     },
     "execution_count": 45,
     "metadata": {},
     "output_type": "execute_result"
    },
    {
     "data": {
      "image/png": "[encoded data removed]",
      "text/plain": [
       "<Figure size 432x288 with 1 Axes>"
      ]
     },
     "metadata": {
      "needs_background": "light"
     },
     "output_type": "display_data"
    }
   ],
   "source": [
    "plt.scatter(y_test, pred)"
   ]
  }
 ],
 "metadata": {
  "kernelspec": {
   "display_name": "Python 3 (ipykernel)",
   "language": "python",
   "name": "python3"
  },
  "language_info": {
   "codemirror_mode": {
    "name": "ipython",
    "version": 3
   },
   "file_extension": ".py",
   "mimetype": "text/x-python",
   "name": "python",
   "nbconvert_exporter": "python",
   "pygments_lexer": "ipython3",
   "version": "3.7.10"
  }
 },
 "nbformat": 4,
 "nbformat_minor": 5
}
