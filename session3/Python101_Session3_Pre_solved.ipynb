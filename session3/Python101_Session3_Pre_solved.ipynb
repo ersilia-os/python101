{
 "cells": [
  {
   "cell_type": "markdown",
   "id": "f1a4dd97",
   "metadata": {},
   "source": [
    "# Before we continue...\n",
    "Let's recall the essential methods from session 1 and 2 that we will need for the next tasks."
   ]
  },
  {
   "cell_type": "markdown",
   "id": "5d1c2139",
   "metadata": {},
   "source": [
    "### Variables\n",
    "A variable is a reserved memory space to store values. They can contain any data type (strings, integers, floats, lists, dictionaries, pandas dataframes...). \n",
    "\n",
    "In python you only need to **declare** a variable by assigining it to a value. Variables are mutable, and can be re-assigned throughout the code."
   ]
  },
  {
   "cell_type": "code",
   "execution_count": 1,
   "id": "bcb7c05a",
   "metadata": {},
   "outputs": [],
   "source": [
    "#for example:\n",
    "\n",
    "mylist = [] #I have declared the variable \"mylist\" as an empty list that can now be filled in. "
   ]
  },
  {
   "cell_type": "markdown",
   "id": "f684791b",
   "metadata": {},
   "source": [
    "Declare three variables, with the names you like. One should be a string, one should be a list of integers and the third one a dictionary containing names and ages as keys."
   ]
  },
  {
   "cell_type": "code",
   "execution_count": 2,
   "id": "8104e5f1",
   "metadata": {},
   "outputs": [],
   "source": [
    "first = \"this is a string\""
   ]
  },
  {
   "cell_type": "code",
   "execution_count": 3,
   "id": "60ce82c7",
   "metadata": {},
   "outputs": [],
   "source": [
    "second = [1,4,3,5,1,9]"
   ]
  },
  {
   "cell_type": "code",
   "execution_count": 4,
   "id": "29c0b2ea",
   "metadata": {},
   "outputs": [],
   "source": [
    "third = {\"names\":[\"gemma\", \"miquel\", \"edo\"], \"ages\":[30,25,45]}"
   ]
  },
  {
   "cell_type": "markdown",
   "id": "685f2388",
   "metadata": {},
   "source": [
    "Get the length of the list and dictionary you just instanciated."
   ]
  },
  {
   "cell_type": "code",
   "execution_count": 5,
   "id": "7f76054f",
   "metadata": {},
   "outputs": [
    {
     "data": {
      "text/plain": [
       "6"
      ]
     },
     "execution_count": 5,
     "metadata": {},
     "output_type": "execute_result"
    }
   ],
   "source": [
    "len(second)"
   ]
  },
  {
   "cell_type": "code",
   "execution_count": 6,
   "id": "a993a907",
   "metadata": {},
   "outputs": [
    {
     "data": {
      "text/plain": [
       "2"
      ]
     },
     "execution_count": 6,
     "metadata": {},
     "output_type": "execute_result"
    }
   ],
   "source": [
    "len(third)"
   ]
  },
  {
   "cell_type": "markdown",
   "id": "525ae010",
   "metadata": {},
   "source": [
    "### Iterate through lists\n",
    "We need to use **for loops** to iterate over each element on a list.\n",
    "Create a loop that adds to a new list the values from the original list (`nums`) that are smaller than 10.\n",
    "\n",
    "*Tip: remember to instanciate an empty list before the loop*"
   ]
  },
  {
   "cell_type": "code",
   "execution_count": 7,
   "id": "fd21edb4",
   "metadata": {},
   "outputs": [],
   "source": [
    "nums = [2,19,4,37,5,90,45,1,77,44,17,8]"
   ]
  },
  {
   "cell_type": "code",
   "execution_count": 8,
   "id": "6dac98cd",
   "metadata": {},
   "outputs": [
    {
     "name": "stdout",
     "output_type": "stream",
     "text": [
      "[2, 4, 5, 1, 8]\n"
     ]
    }
   ],
   "source": [
    "newlist = []\n",
    "for n in nums:\n",
    "    if n < 10:\n",
    "        newlist += [n]\n",
    "print(newlist)"
   ]
  },
  {
   "cell_type": "markdown",
   "id": "1d8c1faf",
   "metadata": {},
   "source": [
    "### CSV files\n",
    "To work with csv files, we use the pandas package, which has built-in methods specifically designed to work with excel-type files. Each file is transformed into a pandas dataframe, an object containing indexed rows and columns.\n",
    "\n",
    "First, load the file \"DatasetAfricaMalaria.csv\" into a dataframe. This dataset is extracted from the Kaggle database (https://www.kaggle.com/lydia70/malaria-in-africa) and contains data extracted from the World Bank.\n",
    "\n",
    "*Tip: remember to import the pandas package*"
   ]
  },
  {
   "cell_type": "code",
   "execution_count": 11,
   "id": "24a74cb3",
   "metadata": {},
   "outputs": [],
   "source": [
    "import pandas as pd\n",
    "df = pd.read_csv(\"DatasetAfricaMalaria.csv\")"
   ]
  },
  {
   "cell_type": "markdown",
   "id": "41d57629",
   "metadata": {},
   "source": [
    "Examine the dataframe by:\n",
    "- obtaining its columns\n",
    "- checking the first rows"
   ]
  },
  {
   "cell_type": "code",
   "execution_count": 12,
   "id": "10fab251",
   "metadata": {},
   "outputs": [
    {
     "data": {
      "text/plain": [
       "Index(['Country Name', 'Year', 'Country Code',\n",
       "       'Incidence of malaria (per 1,000 population at risk)',\n",
       "       'Malaria cases reported',\n",
       "       'Use of insecticide-treated bed nets (% of under-5 population)',\n",
       "       'Children with fever receiving antimalarial drugs (% of children under age 5 with fever)',\n",
       "       'Intermittent preventive treatment (IPT) of malaria in pregnancy (% of pregnant women)',\n",
       "       'People using safely managed drinking water services (% of population)',\n",
       "       'People using safely managed drinking water services, rural (% of rural population)',\n",
       "       'People using safely managed drinking water services, urban (% of urban population)',\n",
       "       'People using safely managed sanitation services (% of population)',\n",
       "       'People using safely managed sanitation services, rural (% of rural population)',\n",
       "       'People using safely managed sanitation services, urban  (% of urban population)',\n",
       "       'Rural population (% of total population)',\n",
       "       'Rural population growth (annual %)',\n",
       "       'Urban population (% of total population)',\n",
       "       'Urban population growth (annual %)',\n",
       "       'People using at least basic drinking water services (% of population)',\n",
       "       'People using at least basic drinking water services, rural (% of rural population)',\n",
       "       'People using at least basic drinking water services, urban (% of urban population)',\n",
       "       'People using at least basic sanitation services (% of population)',\n",
       "       'People using at least basic sanitation services, rural (% of rural population)',\n",
       "       'People using at least basic sanitation services, urban  (% of urban population)',\n",
       "       'latitude', 'longitude', 'geometry'],\n",
       "      dtype='object')"
      ]
     },
     "execution_count": 12,
     "metadata": {},
     "output_type": "execute_result"
    }
   ],
   "source": [
    "df.columns"
   ]
  },
  {
   "cell_type": "code",
   "execution_count": 13,
   "id": "1527c8cf",
   "metadata": {},
   "outputs": [
    {
     "data": {
      "text/html": [
       "<div>\n",
       "<style scoped>\n",
       "    .dataframe tbody tr th:only-of-type {\n",
       "        vertical-align: middle;\n",
       "    }\n",
       "\n",
       "    .dataframe tbody tr th {\n",
       "        vertical-align: top;\n",
       "    }\n",
       "\n",
       "    .dataframe thead th {\n",
       "        text-align: right;\n",
       "    }\n",
       "</style>\n",
       "<table border=\"1\" class=\"dataframe\">\n",
       "  <thead>\n",
       "    <tr style=\"text-align: right;\">\n",
       "      <th></th>\n",
       "      <th>Country Name</th>\n",
       "      <th>Year</th>\n",
       "      <th>Country Code</th>\n",
       "      <th>Incidence of malaria (per 1,000 population at risk)</th>\n",
       "      <th>Malaria cases reported</th>\n",
       "      <th>Use of insecticide-treated bed nets (% of under-5 population)</th>\n",
       "      <th>Children with fever receiving antimalarial drugs (% of children under age 5 with fever)</th>\n",
       "      <th>Intermittent preventive treatment (IPT) of malaria in pregnancy (% of pregnant women)</th>\n",
       "      <th>People using safely managed drinking water services (% of population)</th>\n",
       "      <th>People using safely managed drinking water services, rural (% of rural population)</th>\n",
       "      <th>...</th>\n",
       "      <th>Urban population growth (annual %)</th>\n",
       "      <th>People using at least basic drinking water services (% of population)</th>\n",
       "      <th>People using at least basic drinking water services, rural (% of rural population)</th>\n",
       "      <th>People using at least basic drinking water services, urban (% of urban population)</th>\n",
       "      <th>People using at least basic sanitation services (% of population)</th>\n",
       "      <th>People using at least basic sanitation services, rural (% of rural population)</th>\n",
       "      <th>People using at least basic sanitation services, urban  (% of urban population)</th>\n",
       "      <th>latitude</th>\n",
       "      <th>longitude</th>\n",
       "      <th>geometry</th>\n",
       "    </tr>\n",
       "  </thead>\n",
       "  <tbody>\n",
       "    <tr>\n",
       "      <th>0</th>\n",
       "      <td>Algeria</td>\n",
       "      <td>2007</td>\n",
       "      <td>DZA</td>\n",
       "      <td>0.01</td>\n",
       "      <td>26.0</td>\n",
       "      <td>NaN</td>\n",
       "      <td>NaN</td>\n",
       "      <td>NaN</td>\n",
       "      <td>NaN</td>\n",
       "      <td>NaN</td>\n",
       "      <td>...</td>\n",
       "      <td>2.71</td>\n",
       "      <td>91.68</td>\n",
       "      <td>85.83</td>\n",
       "      <td>94.78</td>\n",
       "      <td>85.85</td>\n",
       "      <td>76.94</td>\n",
       "      <td>90.57</td>\n",
       "      <td>28.033886</td>\n",
       "      <td>1.659626</td>\n",
       "      <td>POINT (28.033886 1.659626)</td>\n",
       "    </tr>\n",
       "    <tr>\n",
       "      <th>1</th>\n",
       "      <td>Angola</td>\n",
       "      <td>2007</td>\n",
       "      <td>AGO</td>\n",
       "      <td>286.72</td>\n",
       "      <td>1533485.0</td>\n",
       "      <td>18.0</td>\n",
       "      <td>29.8</td>\n",
       "      <td>1.5</td>\n",
       "      <td>NaN</td>\n",
       "      <td>NaN</td>\n",
       "      <td>...</td>\n",
       "      <td>5.01</td>\n",
       "      <td>47.96</td>\n",
       "      <td>23.77</td>\n",
       "      <td>65.83</td>\n",
       "      <td>37.26</td>\n",
       "      <td>14.00</td>\n",
       "      <td>54.44</td>\n",
       "      <td>-11.202692</td>\n",
       "      <td>17.873887</td>\n",
       "      <td>POINT (-11.202692 17.873887)</td>\n",
       "    </tr>\n",
       "    <tr>\n",
       "      <th>2</th>\n",
       "      <td>Benin</td>\n",
       "      <td>2007</td>\n",
       "      <td>BEN</td>\n",
       "      <td>480.24</td>\n",
       "      <td>0.0</td>\n",
       "      <td>NaN</td>\n",
       "      <td>NaN</td>\n",
       "      <td>NaN</td>\n",
       "      <td>NaN</td>\n",
       "      <td>NaN</td>\n",
       "      <td>...</td>\n",
       "      <td>4.09</td>\n",
       "      <td>63.78</td>\n",
       "      <td>54.92</td>\n",
       "      <td>76.24</td>\n",
       "      <td>11.80</td>\n",
       "      <td>4.29</td>\n",
       "      <td>22.36</td>\n",
       "      <td>9.307690</td>\n",
       "      <td>2.315834</td>\n",
       "      <td>POINT (9.307689999999999 2.315834)</td>\n",
       "    </tr>\n",
       "    <tr>\n",
       "      <th>3</th>\n",
       "      <td>Botswana</td>\n",
       "      <td>2007</td>\n",
       "      <td>BWA</td>\n",
       "      <td>1.03</td>\n",
       "      <td>390.0</td>\n",
       "      <td>NaN</td>\n",
       "      <td>NaN</td>\n",
       "      <td>NaN</td>\n",
       "      <td>NaN</td>\n",
       "      <td>NaN</td>\n",
       "      <td>...</td>\n",
       "      <td>4.80</td>\n",
       "      <td>78.89</td>\n",
       "      <td>57.60</td>\n",
       "      <td>94.35</td>\n",
       "      <td>61.60</td>\n",
       "      <td>39.99</td>\n",
       "      <td>77.30</td>\n",
       "      <td>-22.328474</td>\n",
       "      <td>24.684866</td>\n",
       "      <td>POINT (-22.328474 24.684866)</td>\n",
       "    </tr>\n",
       "    <tr>\n",
       "      <th>4</th>\n",
       "      <td>Burkina Faso</td>\n",
       "      <td>2007</td>\n",
       "      <td>BFA</td>\n",
       "      <td>503.80</td>\n",
       "      <td>44246.0</td>\n",
       "      <td>NaN</td>\n",
       "      <td>NaN</td>\n",
       "      <td>NaN</td>\n",
       "      <td>NaN</td>\n",
       "      <td>NaN</td>\n",
       "      <td>...</td>\n",
       "      <td>5.91</td>\n",
       "      <td>52.27</td>\n",
       "      <td>45.13</td>\n",
       "      <td>76.15</td>\n",
       "      <td>15.60</td>\n",
       "      <td>6.38</td>\n",
       "      <td>46.49</td>\n",
       "      <td>12.238333</td>\n",
       "      <td>-1.561593</td>\n",
       "      <td>POINT (12.238333 -1.561593)</td>\n",
       "    </tr>\n",
       "  </tbody>\n",
       "</table>\n",
       "<p>5 rows × 27 columns</p>\n",
       "</div>"
      ],
      "text/plain": [
       "   Country Name  Year Country Code  \\\n",
       "0       Algeria  2007          DZA   \n",
       "1        Angola  2007          AGO   \n",
       "2         Benin  2007          BEN   \n",
       "3      Botswana  2007          BWA   \n",
       "4  Burkina Faso  2007          BFA   \n",
       "\n",
       "   Incidence of malaria (per 1,000 population at risk)  \\\n",
       "0                                               0.01     \n",
       "1                                             286.72     \n",
       "2                                             480.24     \n",
       "3                                               1.03     \n",
       "4                                             503.80     \n",
       "\n",
       "   Malaria cases reported  \\\n",
       "0                    26.0   \n",
       "1               1533485.0   \n",
       "2                     0.0   \n",
       "3                   390.0   \n",
       "4                 44246.0   \n",
       "\n",
       "   Use of insecticide-treated bed nets (% of under-5 population)  \\\n",
       "0                                                NaN               \n",
       "1                                               18.0               \n",
       "2                                                NaN               \n",
       "3                                                NaN               \n",
       "4                                                NaN               \n",
       "\n",
       "   Children with fever receiving antimalarial drugs (% of children under age 5 with fever)  \\\n",
       "0                                                NaN                                         \n",
       "1                                               29.8                                         \n",
       "2                                                NaN                                         \n",
       "3                                                NaN                                         \n",
       "4                                                NaN                                         \n",
       "\n",
       "   Intermittent preventive treatment (IPT) of malaria in pregnancy (% of pregnant women)  \\\n",
       "0                                                NaN                                       \n",
       "1                                                1.5                                       \n",
       "2                                                NaN                                       \n",
       "3                                                NaN                                       \n",
       "4                                                NaN                                       \n",
       "\n",
       "   People using safely managed drinking water services (% of population)  \\\n",
       "0                                                NaN                       \n",
       "1                                                NaN                       \n",
       "2                                                NaN                       \n",
       "3                                                NaN                       \n",
       "4                                                NaN                       \n",
       "\n",
       "   People using safely managed drinking water services, rural (% of rural population)  \\\n",
       "0                                                NaN                                    \n",
       "1                                                NaN                                    \n",
       "2                                                NaN                                    \n",
       "3                                                NaN                                    \n",
       "4                                                NaN                                    \n",
       "\n",
       "   ...  Urban population growth (annual %)  \\\n",
       "0  ...                                2.71   \n",
       "1  ...                                5.01   \n",
       "2  ...                                4.09   \n",
       "3  ...                                4.80   \n",
       "4  ...                                5.91   \n",
       "\n",
       "   People using at least basic drinking water services (% of population)  \\\n",
       "0                                              91.68                       \n",
       "1                                              47.96                       \n",
       "2                                              63.78                       \n",
       "3                                              78.89                       \n",
       "4                                              52.27                       \n",
       "\n",
       "   People using at least basic drinking water services, rural (% of rural population)  \\\n",
       "0                                              85.83                                    \n",
       "1                                              23.77                                    \n",
       "2                                              54.92                                    \n",
       "3                                              57.60                                    \n",
       "4                                              45.13                                    \n",
       "\n",
       "   People using at least basic drinking water services, urban (% of urban population)  \\\n",
       "0                                              94.78                                    \n",
       "1                                              65.83                                    \n",
       "2                                              76.24                                    \n",
       "3                                              94.35                                    \n",
       "4                                              76.15                                    \n",
       "\n",
       "   People using at least basic sanitation services (% of population)  \\\n",
       "0                                              85.85                   \n",
       "1                                              37.26                   \n",
       "2                                              11.80                   \n",
       "3                                              61.60                   \n",
       "4                                              15.60                   \n",
       "\n",
       "   People using at least basic sanitation services, rural (% of rural population)  \\\n",
       "0                                              76.94                                \n",
       "1                                              14.00                                \n",
       "2                                               4.29                                \n",
       "3                                              39.99                                \n",
       "4                                               6.38                                \n",
       "\n",
       "   People using at least basic sanitation services, urban  (% of urban population)  \\\n",
       "0                                              90.57                                 \n",
       "1                                              54.44                                 \n",
       "2                                              22.36                                 \n",
       "3                                              77.30                                 \n",
       "4                                              46.49                                 \n",
       "\n",
       "    latitude  longitude                            geometry  \n",
       "0  28.033886   1.659626          POINT (28.033886 1.659626)  \n",
       "1 -11.202692  17.873887        POINT (-11.202692 17.873887)  \n",
       "2   9.307690   2.315834  POINT (9.307689999999999 2.315834)  \n",
       "3 -22.328474  24.684866        POINT (-22.328474 24.684866)  \n",
       "4  12.238333  -1.561593         POINT (12.238333 -1.561593)  \n",
       "\n",
       "[5 rows x 27 columns]"
      ]
     },
     "execution_count": 13,
     "metadata": {},
     "output_type": "execute_result"
    }
   ],
   "source": [
    "df.head()"
   ]
  },
  {
   "cell_type": "markdown",
   "id": "806a338e",
   "metadata": {},
   "source": [
    "Convert the column \"Country Code\" to a list\n",
    "\n",
    "*Tip: use the .tolist() method, you can check the pandas documentation if you need (https://pandas.pydata.org/docs/)*"
   ]
  },
  {
   "cell_type": "code",
   "execution_count": 14,
   "id": "610c88fd",
   "metadata": {},
   "outputs": [
    {
     "name": "stdout",
     "output_type": "stream",
     "text": [
      "['DZA', 'AGO', 'BEN', 'BWA', 'BFA', 'BDI', 'CPV', 'CMR', 'CAF', 'TCD', 'COM', 'COD', 'COG', 'CIV', 'DJI', 'EGY', 'GNQ', 'ERI', 'SWZ', 'ETH', 'GAB', 'GMB', 'GHA', 'GIN', 'GNB', 'KEN', 'LSO', 'LBR', 'LBY', 'MDG', 'MWI', 'MLI', 'MRT', 'MUS', 'MAR', 'MOZ', 'NAM', 'NER', 'NGA', 'RWA', 'STP', 'SEN', 'SYC', 'SLE', 'SOM', 'ZAF', 'SSD', 'SDN', 'TZA', 'TGO', 'TUN', 'UGA', 'ZMB', 'ZWE', 'DZA', 'AGO', 'BEN', 'BWA', 'BFA', 'BDI', 'CPV', 'CMR', 'CAF', 'COM', 'TCD', 'COD', 'COG', 'CIV', 'DJI', 'EGY', 'GNQ', 'ERI', 'SWZ', 'ETH', 'GAB', 'GMB', 'GHA', 'GIN', 'GNB', 'KEN', 'LSO', 'LBR', 'LBY', 'MDG', 'MWI', 'MLI', 'MRT', 'MUS', 'MAR', 'MOZ', 'NAM', 'NER', 'NGA', 'RWA', 'STP', 'SEN', 'SYC', 'SLE', 'SOM', 'ZAF', 'SSD', 'SDN', 'TZA', 'TGO', 'TUN', 'UGA', 'ZMB', 'ZWE', 'DZA', 'AGO', 'BEN', 'BWA', 'BFA', 'BDI', 'CPV', 'CMR', 'CAF', 'TCD', 'COM', 'COD', 'COG', 'CIV', 'DJI', 'EGY', 'GNQ', 'ERI', 'SWZ', 'ETH', 'GAB', 'GMB', 'GHA', 'GIN', 'GNB', 'KEN', 'LSO', 'LBR', 'LBY', 'MDG', 'MWI', 'MLI', 'MRT', 'MUS', 'MAR', 'MOZ', 'NAM', 'NER', 'NGA', 'RWA', 'STP', 'SEN', 'SYC', 'SLE', 'SOM', 'ZAF', 'SSD', 'SDN', 'TZA', 'TGO', 'TUN', 'UGA', 'ZMB', 'ZWE', 'DZA', 'AGO', 'BEN', 'BWA', 'BFA', 'BDI', 'CPV', 'CMR', 'CAF', 'TCD', 'COM', 'COD', 'COG', 'CIV', 'DJI', 'EGY', 'GNQ', 'ERI', 'SWZ', 'ETH', 'GAB', 'GMB', 'GHA', 'GIN', 'GNB', 'KEN', 'LSO', 'LBR', 'LBY', 'MDG', 'MWI', 'MLI', 'MRT', 'MUS', 'MAR', 'MOZ', 'NAM', 'NER', 'NGA', 'RWA', 'STP', 'SEN', 'SYC', 'SLE', 'SOM', 'ZAF', 'SSD', 'SDN', 'TZA', 'TGO', 'TUN', 'UGA', 'ZMB', 'ZWE', 'DZA', 'AGO', 'BEN', 'BWA', 'BFA', 'BDI', 'CPV', 'CMR', 'CAF', 'TCD', 'COM', 'COD', 'COG', 'CIV', 'DJI', 'EGY', 'GNQ', 'ERI', 'SWZ', 'ETH', 'GAB', 'GMB', 'GHA', 'GIN', 'GNB', 'KEN', 'LSO', 'LBR', 'LBY', 'MDG', 'MWI', 'MLI', 'MRT', 'MUS', 'MAR', 'MOZ', 'NAM', 'NER', 'NGA', 'RWA', 'STP', 'SEN', 'SYC', 'SLE', 'SOM', 'ZAF', 'SSD', 'SDN', 'TZA', 'TGO', 'TUN', 'UGA', 'ZMB', 'ZWE', 'DZA', 'AGO', 'BEN', 'BWA', 'BFA', 'BDI', 'CPV', 'CMR', 'CAF', 'TCD', 'COM', 'COD', 'COG', 'CIV', 'DJI', 'EGY', 'GNQ', 'ERI', 'SWZ', 'ETH', 'GAB', 'GMB', 'GHA', 'GIN', 'GNB', 'KEN', 'LSO', 'LBR', 'LBY', 'MDG', 'MWI', 'MLI', 'MRT', 'MUS', 'MAR', 'MOZ', 'NAM', 'NER', 'NGA', 'RWA', 'STP', 'SEN', 'SYC', 'SLE', 'SOM', 'ZAF', 'SSD', 'SDN', 'TZA', 'TGO', 'TUN', 'UGA', 'ZMB', 'ZWE', 'DZA', 'AGO', 'BEN', 'BWA', 'BFA', 'BDI', 'CPV', 'CMR', 'CAF', 'TCD', 'COM', 'COD', 'COG', 'CIV', 'DJI', 'EGY', 'GNQ', 'ERI', 'SWZ', 'ETH', 'GAB', 'GMB', 'GHA', 'GIN', 'GNB', 'KEN', 'LSO', 'LBR', 'LBY', 'MDG', 'MWI', 'MLI', 'MRT', 'MUS', 'MAR', 'MOZ', 'NAM', 'NER', 'NGA', 'RWA', 'STP', 'SEN', 'SYC', 'SLE', 'SOM', 'ZAF', 'SSD', 'SDN', 'TZA', 'TGO', 'TUN', 'UGA', 'ZMB', 'ZWE', 'DZA', 'AGO', 'BEN', 'BWA', 'BFA', 'BDI', 'CPV', 'CMR', 'CAF', 'TCD', 'COM', 'COD', 'COG', 'CIV', 'DJI', 'EGY', 'GNQ', 'ERI', 'SWZ', 'ETH', 'GAB', 'GMB', 'GHA', 'GIN', 'GNB', 'KEN', 'LSO', 'LBR', 'LBY', 'MDG', 'MWI', 'MLI', 'MRT', 'MUS', 'MAR', 'MOZ', 'NAM', 'NER', 'NGA', 'RWA', 'STP', 'SEN', 'SYC', 'SLE', 'SOM', 'ZAF', 'SSD', 'SDN', 'TZA', 'TGO', 'TUN', 'UGA', 'ZMB', 'ZWE', 'DZA', 'AGO', 'BEN', 'BWA', 'BFA', 'BDI', 'CPV', 'CMR', 'CAF', 'TCD', 'COM', 'COD', 'COG', 'CIV', 'DJI', 'EGY', 'GNQ', 'ERI', 'SWZ', 'ETH', 'GAB', 'GMB', 'GHA', 'GIN', 'GNB', 'KEN', 'LSO', 'LBR', 'LBY', 'MDG', 'MWI', 'MLI', 'MRT', 'MUS', 'MAR', 'MOZ', 'NAM', 'NER', 'NGA', 'RWA', 'STP', 'SEN', 'SYC', 'SLE', 'SOM', 'ZAF', 'SSD', 'SDN', 'TZA', 'TGO', 'TUN', 'UGA', 'ZMB', 'ZWE', 'DZA', 'AGO', 'BEN', 'BWA', 'BFA', 'BDI', 'CPV', 'CMR', 'CAF', 'TCD', 'COM', 'COD', 'COG', 'CIV', 'DJI', 'EGY', 'GNQ', 'ERI', 'SWZ', 'ETH', 'GAB', 'GMB', 'GHA', 'GIN', 'GNB', 'KEN', 'LSO', 'LBR', 'LBY', 'MDG', 'MWI', 'MLI', 'MRT', 'MUS', 'MAR', 'MOZ', 'NAM', 'NER', 'NGA', 'RWA', 'STP', 'SEN', 'SYC', 'SLE', 'SOM', 'ZAF', 'SSD', 'SDN', 'TZA', 'TGO', 'TUN', 'UGA', 'ZMB', 'ZWE', 'DZA', 'AGO', 'BEN', 'BWA', 'BFA', 'BDI', 'CPV', 'CMR', 'CAF', 'TCD', 'COM', 'COD', 'COG', 'CIV', 'DJI', 'EGY', 'GNQ', 'ERI', 'SWZ', 'ETH', 'GAB', 'GMB', 'GHA', 'GIN', 'GNB', 'KEN', 'LSO', 'LBR', 'LBY', 'MDG', 'MWI', 'MLI', 'MRT', 'MUS', 'MAR', 'MOZ', 'NAM', 'NER', 'NGA', 'RWA', 'STP', 'SEN', 'SYC', 'SLE', 'SOM', 'ZAF', 'SSD', 'SDN', 'TZA', 'TGO', 'TUN', 'UGA', 'ZMB', 'ZWE']\n"
     ]
    }
   ],
   "source": [
    "codes = df[\"Country Code\"].tolist()\n",
    "print(codes)"
   ]
  },
  {
   "cell_type": "code",
   "execution_count": null,
   "id": "19c54c06",
   "metadata": {},
   "outputs": [],
   "source": []
  }
 ],
 "metadata": {
  "kernelspec": {
   "display_name": "Python 3 (ipykernel)",
   "language": "python",
   "name": "python3"
  },
  "language_info": {
   "codemirror_mode": {
    "name": "ipython",
    "version": 3
   },
   "file_extension": ".py",
   "mimetype": "text/x-python",
   "name": "python",
   "nbconvert_exporter": "python",
   "pygments_lexer": "ipython3",
   "version": "3.7.10"
  }
 },
 "nbformat": 4,
 "nbformat_minor": 5
}
