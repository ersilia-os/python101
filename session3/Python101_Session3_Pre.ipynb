{
 "cells": [
  {
   "cell_type": "markdown",
   "id": "f1a4dd97",
   "metadata": {},
   "source": [
    "# Before we continue...\n",
    "Let's recall the essential methods from session 1 and 2 that we will need for the next tasks."
   ]
  },
  {
   "cell_type": "markdown",
   "id": "5d1c2139",
   "metadata": {},
   "source": [
    "### Variables\n",
    "A variable is a reserved memory space to store values. They can contain any data type (strings, integers, floats, lists, dictionaries, pandas dataframes...). \n",
    "\n",
    "In python you only need to **declare** a variable by assigining it to a value. Variables are mutable, and can be re-assigned throughout the code."
   ]
  },
  {
   "cell_type": "code",
   "execution_count": null,
   "id": "bcb7c05a",
   "metadata": {},
   "outputs": [],
   "source": [
    "#for example:\n",
    "\n",
    "mylist = [] #I have declared the variable \"mylist\" as an empty list that can now be filled in. "
   ]
  },
  {
   "cell_type": "markdown",
   "id": "f684791b",
   "metadata": {},
   "source": [
    "Declare three variables, with the names you like. One should be a string, one should be a list of integers and the third one a dictionary containing names and ages as keys."
   ]
  },
  {
   "cell_type": "code",
   "execution_count": null,
   "id": "8104e5f1",
   "metadata": {},
   "outputs": [],
   "source": []
  },
  {
   "cell_type": "code",
   "execution_count": null,
   "id": "60ce82c7",
   "metadata": {},
   "outputs": [],
   "source": []
  },
  {
   "cell_type": "code",
   "execution_count": null,
   "id": "29c0b2ea",
   "metadata": {},
   "outputs": [],
   "source": []
  },
  {
   "cell_type": "markdown",
   "id": "685f2388",
   "metadata": {},
   "source": [
    "Get the length of the list and dictionary you just instanciated."
   ]
  },
  {
   "cell_type": "code",
   "execution_count": null,
   "id": "7f76054f",
   "metadata": {},
   "outputs": [],
   "source": []
  },
  {
   "cell_type": "code",
   "execution_count": null,
   "id": "a993a907",
   "metadata": {},
   "outputs": [],
   "source": []
  },
  {
   "cell_type": "markdown",
   "id": "525ae010",
   "metadata": {},
   "source": [
    "### Iterate through lists\n",
    "We need to use **for loops** to iterate over each element on a list.\n",
    "Create a loop that adds to a new list the values from the original list (`nums`) that are smaller than 10.\n",
    "\n",
    "*Tip: remember to instanciate an empty list before the loop*"
   ]
  },
  {
   "cell_type": "code",
   "execution_count": null,
   "id": "fd21edb4",
   "metadata": {},
   "outputs": [],
   "source": [
    "nums = [2,19,4,37,5,90,45,1,77,44,17,8]"
   ]
  },
  {
   "cell_type": "code",
   "execution_count": null,
   "id": "89b9077c",
   "metadata": {},
   "outputs": [],
   "source": []
  },
  {
   "cell_type": "markdown",
   "id": "1d8c1faf",
   "metadata": {},
   "source": [
    "### CSV files\n",
    "To work with csv files, we use the pandas package, which has built-in methods specifically designed to work with excel-type files. Each file is transformed into a pandas dataframe, an object containing indexed rows and columns.\n",
    "\n",
    "First, load the file \"DatasetAfricaMalaria.csv\" into a dataframe. This dataset is extracted from the Kaggle database (https://www.kaggle.com/lydia70/malaria-in-africa) and contains data extracted from the World Bank.\n",
    "\n",
    "*Tip: remember to import the pandas package*"
   ]
  },
  {
   "cell_type": "code",
   "execution_count": null,
   "id": "24a74cb3",
   "metadata": {},
   "outputs": [],
   "source": []
  },
  {
   "cell_type": "markdown",
   "id": "41d57629",
   "metadata": {},
   "source": [
    "Examine the dataframe by:\n",
    "- obtaining its columns\n",
    "- checking the first rows"
   ]
  },
  {
   "cell_type": "code",
   "execution_count": null,
   "id": "10fab251",
   "metadata": {},
   "outputs": [],
   "source": []
  },
  {
   "cell_type": "code",
   "execution_count": null,
   "id": "1527c8cf",
   "metadata": {},
   "outputs": [],
   "source": []
  },
  {
   "cell_type": "markdown",
   "id": "806a338e",
   "metadata": {},
   "source": [
    "Convert the column \"Country Code\" to a list\n",
    "\n",
    "*Tip: use the .tolist() method, you can check the pandas documentation if you need (https://pandas.pydata.org/docs/)*"
   ]
  },
  {
   "cell_type": "code",
   "execution_count": null,
   "id": "a232d2d8",
   "metadata": {},
   "outputs": [],
   "source": []
  }
 ],
 "metadata": {
  "kernelspec": {
   "display_name": "Python 3 (ipykernel)",
   "language": "python",
   "name": "python3"
  },
  "language_info": {
   "codemirror_mode": {
    "name": "ipython",
    "version": 3
   },
   "file_extension": ".py",
   "mimetype": "text/x-python",
   "name": "python",
   "nbconvert_exporter": "python",
   "pygments_lexer": "ipython3",
   "version": "3.7.10"
  }
 },
 "nbformat": 4,
 "nbformat_minor": 5
}
