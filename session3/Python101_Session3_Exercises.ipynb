{
 "cells": [
  {
   "cell_type": "markdown",
   "id": "c7507c8b",
   "metadata": {},
   "source": [
    "# Data Visualization exercises\n",
    "This notebook contains a series of exercises to practise with the matplotlib library and explore different graph methods to represent our data.\n",
    "We will work with a dataset extracted from Kaggle (https://www.kaggle.com/uciml/red-wine-quality-cortez-et-al-2009) (originally posted in the UCI machine learning repository https://archive.ics.uci.edu/ml/datasets/wine+quality).\n",
    "\n",
    "Source: \n",
    "P. Cortez, A. Cerdeira, F. Almeida, T. Matos and J. Reis. Modeling wine preferences by data mining from physicochemical properties. In Decision Support Systems, Elsevier, 47(4):547-553, 2009.\n",
    "\n",
    "*note: we have added a column \"Name\" with wine0, wine1, wine2 ... wine(n) for each row in the list to facilitate the exercises.*"
   ]
  },
  {
   "cell_type": "markdown",
   "id": "ead5dda6",
   "metadata": {},
   "source": [
    "### Import matplotlib\n",
    "Since we have already installed matplotlib in our conda environment during session3, there is no need to re-install it (unless you are working from a new conda environment).\n",
    "\n",
    "*Tip: remember matplotlib package is actually named matplotlib.pyplot, and the abbreviation we commonly use is plt*"
   ]
  },
  {
   "cell_type": "code",
   "execution_count": null,
   "id": "001a165f",
   "metadata": {},
   "outputs": [],
   "source": []
  },
  {
   "cell_type": "markdown",
   "id": "14bb38d5",
   "metadata": {},
   "source": [
    "### Load the data for plotting\n",
    "Using pandas, import the file \"winequality-red.csv\" and check its first rows.\n",
    "\n",
    "*Tip: since we are in a new notebook, you need to import the pandas package as well*"
   ]
  },
  {
   "cell_type": "code",
   "execution_count": null,
   "id": "6b7a1407",
   "metadata": {},
   "outputs": [],
   "source": []
  },
  {
   "cell_type": "markdown",
   "id": "088b9cf0",
   "metadata": {},
   "source": [
    "Check the lenght of the dataframe"
   ]
  },
  {
   "cell_type": "code",
   "execution_count": null,
   "id": "85121582",
   "metadata": {},
   "outputs": [],
   "source": []
  },
  {
   "cell_type": "markdown",
   "id": "9ab2c7d3",
   "metadata": {},
   "source": [
    "Check if there are empty values"
   ]
  },
  {
   "cell_type": "code",
   "execution_count": null,
   "id": "3b15d06f",
   "metadata": {},
   "outputs": [],
   "source": []
  },
  {
   "cell_type": "markdown",
   "id": "7181df07",
   "metadata": {},
   "source": [
    "### Histogram\n",
    "\n",
    "Plot the distribution of pH in the wines"
   ]
  },
  {
   "cell_type": "code",
   "execution_count": null,
   "id": "36aa3517",
   "metadata": {},
   "outputs": [],
   "source": []
  },
  {
   "cell_type": "markdown",
   "id": "ced448f4",
   "metadata": {},
   "source": [
    "### Barplot\n",
    "Plot the distribution of wine quality in a bar plot. The x should be the quality values and the y the number of wines that have each quality.\n",
    "\n",
    "*Tip: use the groupby function to obtain how many wines of each quality we have in the dataset*"
   ]
  },
  {
   "cell_type": "code",
   "execution_count": null,
   "id": "382ec7d1",
   "metadata": {},
   "outputs": [],
   "source": []
  },
  {
   "cell_type": "code",
   "execution_count": null,
   "id": "1800ffcd",
   "metadata": {},
   "outputs": [],
   "source": []
  },
  {
   "cell_type": "markdown",
   "id": "4809808e",
   "metadata": {},
   "source": [
    "### Scatterplot\n",
    "\n",
    "Use a scatterplot to show the correlation between residual sugar and density"
   ]
  },
  {
   "cell_type": "code",
   "execution_count": null,
   "id": "f3fd4759",
   "metadata": {},
   "outputs": [],
   "source": []
  },
  {
   "cell_type": "markdown",
   "id": "ae028b2e",
   "metadata": {},
   "source": [
    "### Correlate all data in the dataframe\n",
    "\n",
    "The seaborn package, built on top of matplotlib, has great built-in methods to observe the correlation between data. Try and see if you succeed in the following exercises:\n",
    "\n",
    "Install and import the seaborn:\n",
    "\n",
    "*Tip: use !pip install seaborn and then import the package as sns*"
   ]
  },
  {
   "cell_type": "code",
   "execution_count": null,
   "id": "3668444f",
   "metadata": {},
   "outputs": [],
   "source": []
  },
  {
   "cell_type": "code",
   "execution_count": null,
   "id": "b6f350ff",
   "metadata": {},
   "outputs": [],
   "source": []
  },
  {
   "cell_type": "markdown",
   "id": "44293d83",
   "metadata": {},
   "source": [
    "Use the `sns.pairplot()` function to create a matrix of scatter plots between all columns of the dataframe\n",
    "\n",
    "*Tip: it can take a while to load, watch the circle at the top-right of the notebook. When the notebook is processing data, it shows as a black dot.*"
   ]
  },
  {
   "cell_type": "code",
   "execution_count": null,
   "id": "476ff185",
   "metadata": {},
   "outputs": [],
   "source": []
  },
  {
   "cell_type": "markdown",
   "id": "072e7d24",
   "metadata": {},
   "source": [
    "Plot a heatmap calling the `sns.heatmap()` function and passing the whole dataframe as input.\n",
    "\n",
    "*Tip: in a heatmap, we must give the data as a correlation matrix, not as a simple dataframe. You can use the function df.corr() to transform our table into a correlation matrix*"
   ]
  },
  {
   "cell_type": "code",
   "execution_count": null,
   "id": "c9e551ad",
   "metadata": {},
   "outputs": [],
   "source": []
  }
 ],
 "metadata": {
  "kernelspec": {
   "display_name": "Python 3 (ipykernel)",
   "language": "python",
   "name": "python3"
  },
  "language_info": {
   "codemirror_mode": {
    "name": "ipython",
    "version": 3
   },
   "file_extension": ".py",
   "mimetype": "text/x-python",
   "name": "python",
   "nbconvert_exporter": "python",
   "pygments_lexer": "ipython3",
   "version": "3.7.10"
  }
 },
 "nbformat": 4,
 "nbformat_minor": 5
}
